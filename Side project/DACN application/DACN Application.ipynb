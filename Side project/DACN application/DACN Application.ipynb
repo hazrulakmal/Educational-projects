{
 "cells": [
  {
   "cell_type": "markdown",
   "metadata": {},
   "source": [
    "# DACN Technical Assessment\n",
    "\n",
    "In this notebook, I will explore two datasets given by DACN as part of the stage 2 Technical Assessement. Through the datasets, I aim to ahieve three main objectives set on the task.\n",
    "\n",
    "the objectives are to understand\n",
    "\n",
    "    1. Company's current presence around New York\n",
    "    2. Marketable population size\n",
    "    3. The quality of the properties listed, as proxied by the number of reviews\n"
   ]
  },
  {
   "cell_type": "markdown",
   "metadata": {},
   "source": [
    "## Data Cleaning and Processing"
   ]
  },
  {
   "cell_type": "code",
   "execution_count": 1,
   "metadata": {},
   "outputs": [
    {
     "name": "stdout",
     "output_type": "stream",
     "text": [
      "(48895, 15)\n",
      "(48895, 2)\n"
     ]
    }
   ],
   "source": [
    "import pandas as pd\n",
    "import numpy as np\n",
    "import matplotlib.pyplot as plt\n",
    "%matplotlib inline\n",
    "\n",
    "data_1 = pd.read_csv(\"AB_NYC_2019.csv\")\n",
    "data_2 = pd.read_csv(\"neighborhood.csv\")\n",
    "\n",
    "print(data_1.shape)\n",
    "print(data_2.shape)"
   ]
  },
  {
   "cell_type": "code",
   "execution_count": 2,
   "metadata": {},
   "outputs": [
    {
     "data": {
      "text/html": [
       "<div>\n",
       "<style scoped>\n",
       "    .dataframe tbody tr th:only-of-type {\n",
       "        vertical-align: middle;\n",
       "    }\n",
       "\n",
       "    .dataframe tbody tr th {\n",
       "        vertical-align: top;\n",
       "    }\n",
       "\n",
       "    .dataframe thead th {\n",
       "        text-align: right;\n",
       "    }\n",
       "</style>\n",
       "<table border=\"1\" class=\"dataframe\">\n",
       "  <thead>\n",
       "    <tr style=\"text-align: right;\">\n",
       "      <th></th>\n",
       "      <th>id</th>\n",
       "      <th>name</th>\n",
       "      <th>host_id</th>\n",
       "      <th>host_name</th>\n",
       "      <th>neighbourhood</th>\n",
       "      <th>latitude</th>\n",
       "      <th>longitude</th>\n",
       "      <th>room_type</th>\n",
       "      <th>price</th>\n",
       "      <th>minimum_nights</th>\n",
       "      <th>number_of_reviews</th>\n",
       "      <th>last_review</th>\n",
       "      <th>reviews_per_month</th>\n",
       "      <th>calculated_host_listings_count</th>\n",
       "      <th>availability_365</th>\n",
       "    </tr>\n",
       "  </thead>\n",
       "  <tbody>\n",
       "    <tr>\n",
       "      <th>0</th>\n",
       "      <td>2539</td>\n",
       "      <td>Clean &amp; quiet apt home by the park</td>\n",
       "      <td>2787</td>\n",
       "      <td>John</td>\n",
       "      <td>Kensington</td>\n",
       "      <td>40.64749</td>\n",
       "      <td>-73.97237</td>\n",
       "      <td>Private room</td>\n",
       "      <td>149</td>\n",
       "      <td>1</td>\n",
       "      <td>9</td>\n",
       "      <td>10/19/2018</td>\n",
       "      <td>0.21</td>\n",
       "      <td>6</td>\n",
       "      <td>365</td>\n",
       "    </tr>\n",
       "    <tr>\n",
       "      <th>1</th>\n",
       "      <td>2595</td>\n",
       "      <td>Skylit Midtown Castle</td>\n",
       "      <td>2845</td>\n",
       "      <td>Jennifer</td>\n",
       "      <td>Midtown</td>\n",
       "      <td>40.75362</td>\n",
       "      <td>-73.98377</td>\n",
       "      <td>Entire home/apt</td>\n",
       "      <td>225</td>\n",
       "      <td>1</td>\n",
       "      <td>45</td>\n",
       "      <td>5/21/2019</td>\n",
       "      <td>0.38</td>\n",
       "      <td>2</td>\n",
       "      <td>355</td>\n",
       "    </tr>\n",
       "    <tr>\n",
       "      <th>2</th>\n",
       "      <td>3647</td>\n",
       "      <td>THE VILLAGE OF HARLEM....NEW YORK !</td>\n",
       "      <td>4632</td>\n",
       "      <td>Elisabeth</td>\n",
       "      <td>Harlem</td>\n",
       "      <td>40.80902</td>\n",
       "      <td>-73.94190</td>\n",
       "      <td>Private room</td>\n",
       "      <td>150</td>\n",
       "      <td>3</td>\n",
       "      <td>0</td>\n",
       "      <td>NaN</td>\n",
       "      <td>NaN</td>\n",
       "      <td>1</td>\n",
       "      <td>365</td>\n",
       "    </tr>\n",
       "    <tr>\n",
       "      <th>3</th>\n",
       "      <td>3831</td>\n",
       "      <td>Cozy Entire Floor of Brownstone</td>\n",
       "      <td>4869</td>\n",
       "      <td>LisaRoxanne</td>\n",
       "      <td>Clinton Hill</td>\n",
       "      <td>40.68514</td>\n",
       "      <td>-73.95976</td>\n",
       "      <td>Entire home/apt</td>\n",
       "      <td>89</td>\n",
       "      <td>1</td>\n",
       "      <td>270</td>\n",
       "      <td>7/5/2019</td>\n",
       "      <td>4.64</td>\n",
       "      <td>1</td>\n",
       "      <td>194</td>\n",
       "    </tr>\n",
       "    <tr>\n",
       "      <th>4</th>\n",
       "      <td>5022</td>\n",
       "      <td>Entire Apt: Spacious Studio/Loft by central park</td>\n",
       "      <td>7192</td>\n",
       "      <td>Laura</td>\n",
       "      <td>East Harlem</td>\n",
       "      <td>40.79851</td>\n",
       "      <td>-73.94399</td>\n",
       "      <td>Entire home/apt</td>\n",
       "      <td>80</td>\n",
       "      <td>10</td>\n",
       "      <td>9</td>\n",
       "      <td>11/19/2018</td>\n",
       "      <td>0.10</td>\n",
       "      <td>1</td>\n",
       "      <td>0</td>\n",
       "    </tr>\n",
       "  </tbody>\n",
       "</table>\n",
       "</div>"
      ],
      "text/plain": [
       "     id                                              name  host_id  \\\n",
       "0  2539                Clean & quiet apt home by the park     2787   \n",
       "1  2595                             Skylit Midtown Castle     2845   \n",
       "2  3647               THE VILLAGE OF HARLEM....NEW YORK !     4632   \n",
       "3  3831                   Cozy Entire Floor of Brownstone     4869   \n",
       "4  5022  Entire Apt: Spacious Studio/Loft by central park     7192   \n",
       "\n",
       "     host_name neighbourhood  latitude  longitude        room_type  price  \\\n",
       "0         John    Kensington  40.64749  -73.97237     Private room    149   \n",
       "1     Jennifer       Midtown  40.75362  -73.98377  Entire home/apt    225   \n",
       "2    Elisabeth        Harlem  40.80902  -73.94190     Private room    150   \n",
       "3  LisaRoxanne  Clinton Hill  40.68514  -73.95976  Entire home/apt     89   \n",
       "4        Laura   East Harlem  40.79851  -73.94399  Entire home/apt     80   \n",
       "\n",
       "   minimum_nights  number_of_reviews last_review  reviews_per_month  \\\n",
       "0               1                  9  10/19/2018               0.21   \n",
       "1               1                 45   5/21/2019               0.38   \n",
       "2               3                  0         NaN                NaN   \n",
       "3               1                270    7/5/2019               4.64   \n",
       "4              10                  9  11/19/2018               0.10   \n",
       "\n",
       "   calculated_host_listings_count  availability_365  \n",
       "0                               6               365  \n",
       "1                               2               355  \n",
       "2                               1               365  \n",
       "3                               1               194  \n",
       "4                               1                 0  "
      ]
     },
     "execution_count": 2,
     "metadata": {},
     "output_type": "execute_result"
    }
   ],
   "source": [
    "data_1.head()"
   ]
  },
  {
   "cell_type": "code",
   "execution_count": 3,
   "metadata": {},
   "outputs": [
    {
     "data": {
      "text/html": [
       "<div>\n",
       "<style scoped>\n",
       "    .dataframe tbody tr th:only-of-type {\n",
       "        vertical-align: middle;\n",
       "    }\n",
       "\n",
       "    .dataframe tbody tr th {\n",
       "        vertical-align: top;\n",
       "    }\n",
       "\n",
       "    .dataframe thead th {\n",
       "        text-align: right;\n",
       "    }\n",
       "</style>\n",
       "<table border=\"1\" class=\"dataframe\">\n",
       "  <thead>\n",
       "    <tr style=\"text-align: right;\">\n",
       "      <th></th>\n",
       "      <th>id</th>\n",
       "      <th>neighbourhood_group</th>\n",
       "    </tr>\n",
       "  </thead>\n",
       "  <tbody>\n",
       "    <tr>\n",
       "      <th>0</th>\n",
       "      <td>36442252</td>\n",
       "      <td>Bronx</td>\n",
       "    </tr>\n",
       "    <tr>\n",
       "      <th>1</th>\n",
       "      <td>36435986</td>\n",
       "      <td>Bronx</td>\n",
       "    </tr>\n",
       "    <tr>\n",
       "      <th>2</th>\n",
       "      <td>36429652</td>\n",
       "      <td>Bronx</td>\n",
       "    </tr>\n",
       "    <tr>\n",
       "      <th>3</th>\n",
       "      <td>36428186</td>\n",
       "      <td>Bronx</td>\n",
       "    </tr>\n",
       "    <tr>\n",
       "      <th>4</th>\n",
       "      <td>36426093</td>\n",
       "      <td>Bronx</td>\n",
       "    </tr>\n",
       "  </tbody>\n",
       "</table>\n",
       "</div>"
      ],
      "text/plain": [
       "         id neighbourhood_group\n",
       "0  36442252               Bronx\n",
       "1  36435986               Bronx\n",
       "2  36429652               Bronx\n",
       "3  36428186               Bronx\n",
       "4  36426093               Bronx"
      ]
     },
     "execution_count": 3,
     "metadata": {},
     "output_type": "execute_result"
    }
   ],
   "source": [
    "data_2.head()"
   ]
  },
  {
   "cell_type": "code",
   "execution_count": 4,
   "metadata": {
    "scrolled": true
   },
   "outputs": [
    {
     "name": "stdout",
     "output_type": "stream",
     "text": [
      "<class 'pandas.core.frame.DataFrame'>\n",
      "Int64Index: 48895 entries, 0 to 48894\n",
      "Data columns (total 16 columns):\n",
      " #   Column                          Non-Null Count  Dtype  \n",
      "---  ------                          --------------  -----  \n",
      " 0   id                              48895 non-null  int64  \n",
      " 1   name                            48879 non-null  object \n",
      " 2   host_id                         48895 non-null  int64  \n",
      " 3   host_name                       48874 non-null  object \n",
      " 4   neighbourhood                   48895 non-null  object \n",
      " 5   latitude                        48895 non-null  float64\n",
      " 6   longitude                       48895 non-null  float64\n",
      " 7   room_type                       48895 non-null  object \n",
      " 8   price                           48895 non-null  int64  \n",
      " 9   minimum_nights                  48895 non-null  int64  \n",
      " 10  number_of_reviews               48895 non-null  int64  \n",
      " 11  last_review                     38843 non-null  object \n",
      " 12  reviews_per_month               38843 non-null  float64\n",
      " 13  calculated_host_listings_count  48895 non-null  int64  \n",
      " 14  availability_365                48895 non-null  int64  \n",
      " 15  neighbourhood_group             48895 non-null  object \n",
      "dtypes: float64(3), int64(7), object(6)\n",
      "memory usage: 6.3+ MB\n"
     ]
    }
   ],
   "source": [
    "full_data = pd.merge(data_1, data_2, on=\"id\", how=\"left\")\n",
    "full_data.info()"
   ]
  },
  {
   "cell_type": "code",
   "execution_count": 5,
   "metadata": {},
   "outputs": [
    {
     "data": {
      "text/html": [
       "<div>\n",
       "<style scoped>\n",
       "    .dataframe tbody tr th:only-of-type {\n",
       "        vertical-align: middle;\n",
       "    }\n",
       "\n",
       "    .dataframe tbody tr th {\n",
       "        vertical-align: top;\n",
       "    }\n",
       "\n",
       "    .dataframe thead th {\n",
       "        text-align: right;\n",
       "    }\n",
       "</style>\n",
       "<table border=\"1\" class=\"dataframe\">\n",
       "  <thead>\n",
       "    <tr style=\"text-align: right;\">\n",
       "      <th></th>\n",
       "      <th>id</th>\n",
       "      <th>name</th>\n",
       "      <th>host_id</th>\n",
       "      <th>host_name</th>\n",
       "      <th>neighbourhood</th>\n",
       "      <th>latitude</th>\n",
       "      <th>longitude</th>\n",
       "      <th>room_type</th>\n",
       "      <th>price</th>\n",
       "      <th>minimum_nights</th>\n",
       "      <th>number_of_reviews</th>\n",
       "      <th>last_review</th>\n",
       "      <th>reviews_per_month</th>\n",
       "      <th>calculated_host_listings_count</th>\n",
       "      <th>availability_365</th>\n",
       "      <th>neighbourhood_group</th>\n",
       "    </tr>\n",
       "  </thead>\n",
       "  <tbody>\n",
       "    <tr>\n",
       "      <th>0</th>\n",
       "      <td>2539</td>\n",
       "      <td>Clean &amp; quiet apt home by the park</td>\n",
       "      <td>2787</td>\n",
       "      <td>John</td>\n",
       "      <td>Kensington</td>\n",
       "      <td>40.64749</td>\n",
       "      <td>-73.97237</td>\n",
       "      <td>Private room</td>\n",
       "      <td>149</td>\n",
       "      <td>1</td>\n",
       "      <td>9</td>\n",
       "      <td>10/19/2018</td>\n",
       "      <td>0.21</td>\n",
       "      <td>6</td>\n",
       "      <td>365</td>\n",
       "      <td>Brooklyn</td>\n",
       "    </tr>\n",
       "    <tr>\n",
       "      <th>1</th>\n",
       "      <td>2595</td>\n",
       "      <td>Skylit Midtown Castle</td>\n",
       "      <td>2845</td>\n",
       "      <td>Jennifer</td>\n",
       "      <td>Midtown</td>\n",
       "      <td>40.75362</td>\n",
       "      <td>-73.98377</td>\n",
       "      <td>Entire home/apt</td>\n",
       "      <td>225</td>\n",
       "      <td>1</td>\n",
       "      <td>45</td>\n",
       "      <td>5/21/2019</td>\n",
       "      <td>0.38</td>\n",
       "      <td>2</td>\n",
       "      <td>355</td>\n",
       "      <td>Manhattan</td>\n",
       "    </tr>\n",
       "    <tr>\n",
       "      <th>2</th>\n",
       "      <td>3647</td>\n",
       "      <td>THE VILLAGE OF HARLEM....NEW YORK !</td>\n",
       "      <td>4632</td>\n",
       "      <td>Elisabeth</td>\n",
       "      <td>Harlem</td>\n",
       "      <td>40.80902</td>\n",
       "      <td>-73.94190</td>\n",
       "      <td>Private room</td>\n",
       "      <td>150</td>\n",
       "      <td>3</td>\n",
       "      <td>0</td>\n",
       "      <td>NaN</td>\n",
       "      <td>NaN</td>\n",
       "      <td>1</td>\n",
       "      <td>365</td>\n",
       "      <td>Manhattan</td>\n",
       "    </tr>\n",
       "    <tr>\n",
       "      <th>3</th>\n",
       "      <td>3831</td>\n",
       "      <td>Cozy Entire Floor of Brownstone</td>\n",
       "      <td>4869</td>\n",
       "      <td>LisaRoxanne</td>\n",
       "      <td>Clinton Hill</td>\n",
       "      <td>40.68514</td>\n",
       "      <td>-73.95976</td>\n",
       "      <td>Entire home/apt</td>\n",
       "      <td>89</td>\n",
       "      <td>1</td>\n",
       "      <td>270</td>\n",
       "      <td>7/5/2019</td>\n",
       "      <td>4.64</td>\n",
       "      <td>1</td>\n",
       "      <td>194</td>\n",
       "      <td>Brooklyn</td>\n",
       "    </tr>\n",
       "    <tr>\n",
       "      <th>4</th>\n",
       "      <td>5022</td>\n",
       "      <td>Entire Apt: Spacious Studio/Loft by central park</td>\n",
       "      <td>7192</td>\n",
       "      <td>Laura</td>\n",
       "      <td>East Harlem</td>\n",
       "      <td>40.79851</td>\n",
       "      <td>-73.94399</td>\n",
       "      <td>Entire home/apt</td>\n",
       "      <td>80</td>\n",
       "      <td>10</td>\n",
       "      <td>9</td>\n",
       "      <td>11/19/2018</td>\n",
       "      <td>0.10</td>\n",
       "      <td>1</td>\n",
       "      <td>0</td>\n",
       "      <td>Manhattan</td>\n",
       "    </tr>\n",
       "    <tr>\n",
       "      <th>5</th>\n",
       "      <td>5099</td>\n",
       "      <td>Large Cozy 1 BR Apartment In Midtown East</td>\n",
       "      <td>7322</td>\n",
       "      <td>Chris</td>\n",
       "      <td>Murray Hill</td>\n",
       "      <td>40.74767</td>\n",
       "      <td>-73.97500</td>\n",
       "      <td>Entire home/apt</td>\n",
       "      <td>200</td>\n",
       "      <td>3</td>\n",
       "      <td>74</td>\n",
       "      <td>6/22/2019</td>\n",
       "      <td>0.59</td>\n",
       "      <td>1</td>\n",
       "      <td>129</td>\n",
       "      <td>Manhattan</td>\n",
       "    </tr>\n",
       "    <tr>\n",
       "      <th>6</th>\n",
       "      <td>5121</td>\n",
       "      <td>BlissArtsSpace!</td>\n",
       "      <td>7356</td>\n",
       "      <td>Garon</td>\n",
       "      <td>Bedford-Stuyvesant</td>\n",
       "      <td>40.68688</td>\n",
       "      <td>-73.95596</td>\n",
       "      <td>Private room</td>\n",
       "      <td>60</td>\n",
       "      <td>45</td>\n",
       "      <td>49</td>\n",
       "      <td>10/5/2017</td>\n",
       "      <td>0.40</td>\n",
       "      <td>1</td>\n",
       "      <td>0</td>\n",
       "      <td>Brooklyn</td>\n",
       "    </tr>\n",
       "    <tr>\n",
       "      <th>7</th>\n",
       "      <td>5178</td>\n",
       "      <td>Large Furnished Room Near B'way</td>\n",
       "      <td>8967</td>\n",
       "      <td>Shunichi</td>\n",
       "      <td>Hell's Kitchen</td>\n",
       "      <td>40.76489</td>\n",
       "      <td>-73.98493</td>\n",
       "      <td>Private room</td>\n",
       "      <td>79</td>\n",
       "      <td>2</td>\n",
       "      <td>430</td>\n",
       "      <td>6/24/2019</td>\n",
       "      <td>3.47</td>\n",
       "      <td>1</td>\n",
       "      <td>220</td>\n",
       "      <td>Manhattan</td>\n",
       "    </tr>\n",
       "    <tr>\n",
       "      <th>8</th>\n",
       "      <td>5203</td>\n",
       "      <td>Cozy Clean Guest Room - Family Apt</td>\n",
       "      <td>7490</td>\n",
       "      <td>MaryEllen</td>\n",
       "      <td>Upper West Side</td>\n",
       "      <td>40.80178</td>\n",
       "      <td>-73.96723</td>\n",
       "      <td>Private room</td>\n",
       "      <td>79</td>\n",
       "      <td>2</td>\n",
       "      <td>118</td>\n",
       "      <td>7/21/2017</td>\n",
       "      <td>0.99</td>\n",
       "      <td>1</td>\n",
       "      <td>0</td>\n",
       "      <td>Manhattan</td>\n",
       "    </tr>\n",
       "    <tr>\n",
       "      <th>9</th>\n",
       "      <td>5238</td>\n",
       "      <td>Cute &amp; Cozy Lower East Side 1 bdrm</td>\n",
       "      <td>7549</td>\n",
       "      <td>Ben</td>\n",
       "      <td>Chinatown</td>\n",
       "      <td>40.71344</td>\n",
       "      <td>-73.99037</td>\n",
       "      <td>Entire home/apt</td>\n",
       "      <td>150</td>\n",
       "      <td>1</td>\n",
       "      <td>160</td>\n",
       "      <td>6/9/2019</td>\n",
       "      <td>1.33</td>\n",
       "      <td>4</td>\n",
       "      <td>188</td>\n",
       "      <td>Manhattan</td>\n",
       "    </tr>\n",
       "  </tbody>\n",
       "</table>\n",
       "</div>"
      ],
      "text/plain": [
       "     id                                              name  host_id  \\\n",
       "0  2539                Clean & quiet apt home by the park     2787   \n",
       "1  2595                             Skylit Midtown Castle     2845   \n",
       "2  3647               THE VILLAGE OF HARLEM....NEW YORK !     4632   \n",
       "3  3831                   Cozy Entire Floor of Brownstone     4869   \n",
       "4  5022  Entire Apt: Spacious Studio/Loft by central park     7192   \n",
       "5  5099         Large Cozy 1 BR Apartment In Midtown East     7322   \n",
       "6  5121                                   BlissArtsSpace!     7356   \n",
       "7  5178                  Large Furnished Room Near B'way      8967   \n",
       "8  5203                Cozy Clean Guest Room - Family Apt     7490   \n",
       "9  5238                Cute & Cozy Lower East Side 1 bdrm     7549   \n",
       "\n",
       "     host_name       neighbourhood  latitude  longitude        room_type  \\\n",
       "0         John          Kensington  40.64749  -73.97237     Private room   \n",
       "1     Jennifer             Midtown  40.75362  -73.98377  Entire home/apt   \n",
       "2    Elisabeth              Harlem  40.80902  -73.94190     Private room   \n",
       "3  LisaRoxanne        Clinton Hill  40.68514  -73.95976  Entire home/apt   \n",
       "4        Laura         East Harlem  40.79851  -73.94399  Entire home/apt   \n",
       "5        Chris         Murray Hill  40.74767  -73.97500  Entire home/apt   \n",
       "6        Garon  Bedford-Stuyvesant  40.68688  -73.95596     Private room   \n",
       "7     Shunichi      Hell's Kitchen  40.76489  -73.98493     Private room   \n",
       "8    MaryEllen     Upper West Side  40.80178  -73.96723     Private room   \n",
       "9          Ben           Chinatown  40.71344  -73.99037  Entire home/apt   \n",
       "\n",
       "   price  minimum_nights  number_of_reviews last_review  reviews_per_month  \\\n",
       "0    149               1                  9  10/19/2018               0.21   \n",
       "1    225               1                 45   5/21/2019               0.38   \n",
       "2    150               3                  0         NaN                NaN   \n",
       "3     89               1                270    7/5/2019               4.64   \n",
       "4     80              10                  9  11/19/2018               0.10   \n",
       "5    200               3                 74   6/22/2019               0.59   \n",
       "6     60              45                 49   10/5/2017               0.40   \n",
       "7     79               2                430   6/24/2019               3.47   \n",
       "8     79               2                118   7/21/2017               0.99   \n",
       "9    150               1                160    6/9/2019               1.33   \n",
       "\n",
       "   calculated_host_listings_count  availability_365 neighbourhood_group  \n",
       "0                               6               365            Brooklyn  \n",
       "1                               2               355           Manhattan  \n",
       "2                               1               365           Manhattan  \n",
       "3                               1               194            Brooklyn  \n",
       "4                               1                 0           Manhattan  \n",
       "5                               1               129           Manhattan  \n",
       "6                               1                 0            Brooklyn  \n",
       "7                               1               220           Manhattan  \n",
       "8                               1                 0           Manhattan  \n",
       "9                               4               188           Manhattan  "
      ]
     },
     "execution_count": 5,
     "metadata": {},
     "output_type": "execute_result"
    }
   ],
   "source": [
    "full_data.head(10)"
   ]
  },
  {
   "cell_type": "markdown",
   "metadata": {},
   "source": [
    "### Dealing with missing values"
   ]
  },
  {
   "cell_type": "code",
   "execution_count": 6,
   "metadata": {},
   "outputs": [
    {
     "data": {
      "text/plain": [
       "reviews_per_month    10052\n",
       "last_review          10052\n",
       "host_name               21\n",
       "name                    16\n",
       "dtype: int64"
      ]
     },
     "execution_count": 6,
     "metadata": {},
     "output_type": "execute_result"
    }
   ],
   "source": [
    "missing_values = full_data.isnull().sum().sort_values(ascending=False)\n",
    "missing_values[missing_values > 0]"
   ]
  },
  {
   "cell_type": "markdown",
   "metadata": {},
   "source": [
    "`host_name` and `name` columns are missing a few values and I decided to impute them with a string `Unknown`."
   ]
  },
  {
   "cell_type": "code",
   "execution_count": 7,
   "metadata": {},
   "outputs": [
    {
     "data": {
      "text/plain": [
       "reviews_per_month    10052\n",
       "last_review          10052\n",
       "dtype: int64"
      ]
     },
     "execution_count": 7,
     "metadata": {},
     "output_type": "execute_result"
    }
   ],
   "source": [
    "full_data[[\"name\", \"host_name\"]] = full_data[[\"name\", \"host_name\"]].fillna(\"Unknown\")\n",
    "missing_values = full_data.isnull().sum().sort_values(ascending=False)\n",
    "missing_values[missing_values > 0]"
   ]
  },
  {
   "cell_type": "code",
   "execution_count": 8,
   "metadata": {},
   "outputs": [
    {
     "data": {
      "text/html": [
       "<div>\n",
       "<style scoped>\n",
       "    .dataframe tbody tr th:only-of-type {\n",
       "        vertical-align: middle;\n",
       "    }\n",
       "\n",
       "    .dataframe tbody tr th {\n",
       "        vertical-align: top;\n",
       "    }\n",
       "\n",
       "    .dataframe thead th {\n",
       "        text-align: right;\n",
       "    }\n",
       "</style>\n",
       "<table border=\"1\" class=\"dataframe\">\n",
       "  <thead>\n",
       "    <tr style=\"text-align: right;\">\n",
       "      <th></th>\n",
       "      <th>id</th>\n",
       "      <th>host_id</th>\n",
       "      <th>latitude</th>\n",
       "      <th>longitude</th>\n",
       "      <th>price</th>\n",
       "      <th>minimum_nights</th>\n",
       "      <th>number_of_reviews</th>\n",
       "      <th>reviews_per_month</th>\n",
       "      <th>calculated_host_listings_count</th>\n",
       "      <th>availability_365</th>\n",
       "    </tr>\n",
       "  </thead>\n",
       "  <tbody>\n",
       "    <tr>\n",
       "      <th>count</th>\n",
       "      <td>4.889500e+04</td>\n",
       "      <td>4.889500e+04</td>\n",
       "      <td>48895.000000</td>\n",
       "      <td>48895.000000</td>\n",
       "      <td>48895.000000</td>\n",
       "      <td>48895.000000</td>\n",
       "      <td>48895.000000</td>\n",
       "      <td>38843.000000</td>\n",
       "      <td>48895.000000</td>\n",
       "      <td>48895.000000</td>\n",
       "    </tr>\n",
       "    <tr>\n",
       "      <th>mean</th>\n",
       "      <td>1.901714e+07</td>\n",
       "      <td>6.762001e+07</td>\n",
       "      <td>40.728949</td>\n",
       "      <td>-73.952170</td>\n",
       "      <td>152.720687</td>\n",
       "      <td>7.029962</td>\n",
       "      <td>23.274466</td>\n",
       "      <td>1.373221</td>\n",
       "      <td>7.143982</td>\n",
       "      <td>112.781327</td>\n",
       "    </tr>\n",
       "    <tr>\n",
       "      <th>std</th>\n",
       "      <td>1.098311e+07</td>\n",
       "      <td>7.861097e+07</td>\n",
       "      <td>0.054530</td>\n",
       "      <td>0.046157</td>\n",
       "      <td>240.154170</td>\n",
       "      <td>20.510550</td>\n",
       "      <td>44.550582</td>\n",
       "      <td>1.680442</td>\n",
       "      <td>32.952519</td>\n",
       "      <td>131.622289</td>\n",
       "    </tr>\n",
       "    <tr>\n",
       "      <th>min</th>\n",
       "      <td>2.539000e+03</td>\n",
       "      <td>2.438000e+03</td>\n",
       "      <td>40.499790</td>\n",
       "      <td>-74.244420</td>\n",
       "      <td>0.000000</td>\n",
       "      <td>1.000000</td>\n",
       "      <td>0.000000</td>\n",
       "      <td>0.010000</td>\n",
       "      <td>1.000000</td>\n",
       "      <td>0.000000</td>\n",
       "    </tr>\n",
       "    <tr>\n",
       "      <th>25%</th>\n",
       "      <td>9.471945e+06</td>\n",
       "      <td>7.822033e+06</td>\n",
       "      <td>40.690100</td>\n",
       "      <td>-73.983070</td>\n",
       "      <td>69.000000</td>\n",
       "      <td>1.000000</td>\n",
       "      <td>1.000000</td>\n",
       "      <td>0.190000</td>\n",
       "      <td>1.000000</td>\n",
       "      <td>0.000000</td>\n",
       "    </tr>\n",
       "    <tr>\n",
       "      <th>50%</th>\n",
       "      <td>1.967728e+07</td>\n",
       "      <td>3.079382e+07</td>\n",
       "      <td>40.723070</td>\n",
       "      <td>-73.955680</td>\n",
       "      <td>106.000000</td>\n",
       "      <td>3.000000</td>\n",
       "      <td>5.000000</td>\n",
       "      <td>0.720000</td>\n",
       "      <td>1.000000</td>\n",
       "      <td>45.000000</td>\n",
       "    </tr>\n",
       "    <tr>\n",
       "      <th>75%</th>\n",
       "      <td>2.915218e+07</td>\n",
       "      <td>1.074344e+08</td>\n",
       "      <td>40.763115</td>\n",
       "      <td>-73.936275</td>\n",
       "      <td>175.000000</td>\n",
       "      <td>5.000000</td>\n",
       "      <td>24.000000</td>\n",
       "      <td>2.020000</td>\n",
       "      <td>2.000000</td>\n",
       "      <td>227.000000</td>\n",
       "    </tr>\n",
       "    <tr>\n",
       "      <th>max</th>\n",
       "      <td>3.648724e+07</td>\n",
       "      <td>2.743213e+08</td>\n",
       "      <td>40.913060</td>\n",
       "      <td>-73.712990</td>\n",
       "      <td>10000.000000</td>\n",
       "      <td>1250.000000</td>\n",
       "      <td>629.000000</td>\n",
       "      <td>58.500000</td>\n",
       "      <td>327.000000</td>\n",
       "      <td>365.000000</td>\n",
       "    </tr>\n",
       "  </tbody>\n",
       "</table>\n",
       "</div>"
      ],
      "text/plain": [
       "                 id       host_id      latitude     longitude         price  \\\n",
       "count  4.889500e+04  4.889500e+04  48895.000000  48895.000000  48895.000000   \n",
       "mean   1.901714e+07  6.762001e+07     40.728949    -73.952170    152.720687   \n",
       "std    1.098311e+07  7.861097e+07      0.054530      0.046157    240.154170   \n",
       "min    2.539000e+03  2.438000e+03     40.499790    -74.244420      0.000000   \n",
       "25%    9.471945e+06  7.822033e+06     40.690100    -73.983070     69.000000   \n",
       "50%    1.967728e+07  3.079382e+07     40.723070    -73.955680    106.000000   \n",
       "75%    2.915218e+07  1.074344e+08     40.763115    -73.936275    175.000000   \n",
       "max    3.648724e+07  2.743213e+08     40.913060    -73.712990  10000.000000   \n",
       "\n",
       "       minimum_nights  number_of_reviews  reviews_per_month  \\\n",
       "count    48895.000000       48895.000000       38843.000000   \n",
       "mean         7.029962          23.274466           1.373221   \n",
       "std         20.510550          44.550582           1.680442   \n",
       "min          1.000000           0.000000           0.010000   \n",
       "25%          1.000000           1.000000           0.190000   \n",
       "50%          3.000000           5.000000           0.720000   \n",
       "75%          5.000000          24.000000           2.020000   \n",
       "max       1250.000000         629.000000          58.500000   \n",
       "\n",
       "       calculated_host_listings_count  availability_365  \n",
       "count                    48895.000000      48895.000000  \n",
       "mean                         7.143982        112.781327  \n",
       "std                         32.952519        131.622289  \n",
       "min                          1.000000          0.000000  \n",
       "25%                          1.000000          0.000000  \n",
       "50%                          1.000000         45.000000  \n",
       "75%                          2.000000        227.000000  \n",
       "max                        327.000000        365.000000  "
      ]
     },
     "execution_count": 8,
     "metadata": {},
     "output_type": "execute_result"
    }
   ],
   "source": [
    "full_data.describe()"
   ]
  },
  {
   "cell_type": "code",
   "execution_count": 9,
   "metadata": {},
   "outputs": [
    {
     "data": {
      "text/plain": [
       "array(['Brooklyn', 'Manhattan', 'Queens', 'Staten Island', 'Bronx'],\n",
       "      dtype=object)"
      ]
     },
     "execution_count": 9,
     "metadata": {},
     "output_type": "execute_result"
    }
   ],
   "source": [
    "full_data[\"neighbourhood_group\"].unique()"
   ]
  },
  {
   "cell_type": "markdown",
   "metadata": {},
   "source": [
    "### Dealing with outliers"
   ]
  },
  {
   "cell_type": "code",
   "execution_count": 10,
   "metadata": {
    "scrolled": true
   },
   "outputs": [
    {
     "data": {
      "text/plain": [
       "<AxesSubplot:>"
      ]
     },
     "execution_count": 10,
     "metadata": {},
     "output_type": "execute_result"
    },
    {
     "data": {
      "image/png": "[encoded data removed]",
      "text/plain": [
       "<Figure size 432x288 with 1 Axes>"
      ]
     },
     "metadata": {
      "needs_background": "light"
     },
     "output_type": "display_data"
    }
   ],
   "source": [
    "full_data.boxplot(column=[\"price\",\"minimum_nights\"])"
   ]
  },
  {
   "cell_type": "code",
   "execution_count": 11,
   "metadata": {
    "scrolled": true
   },
   "outputs": [
    {
     "data": {
      "text/html": [
       "<div>\n",
       "<style scoped>\n",
       "    .dataframe tbody tr th:only-of-type {\n",
       "        vertical-align: middle;\n",
       "    }\n",
       "\n",
       "    .dataframe tbody tr th {\n",
       "        vertical-align: top;\n",
       "    }\n",
       "\n",
       "    .dataframe thead th {\n",
       "        text-align: right;\n",
       "    }\n",
       "</style>\n",
       "<table border=\"1\" class=\"dataframe\">\n",
       "  <thead>\n",
       "    <tr style=\"text-align: right;\">\n",
       "      <th></th>\n",
       "      <th>id</th>\n",
       "      <th>name</th>\n",
       "      <th>host_id</th>\n",
       "      <th>host_name</th>\n",
       "      <th>neighbourhood</th>\n",
       "      <th>latitude</th>\n",
       "      <th>longitude</th>\n",
       "      <th>room_type</th>\n",
       "      <th>price</th>\n",
       "      <th>minimum_nights</th>\n",
       "      <th>number_of_reviews</th>\n",
       "      <th>last_review</th>\n",
       "      <th>reviews_per_month</th>\n",
       "      <th>calculated_host_listings_count</th>\n",
       "      <th>availability_365</th>\n",
       "      <th>neighbourhood_group</th>\n",
       "    </tr>\n",
       "  </thead>\n",
       "  <tbody>\n",
       "    <tr>\n",
       "      <th>6530</th>\n",
       "      <td>4737930</td>\n",
       "      <td>Spanish Harlem Apt</td>\n",
       "      <td>1235070</td>\n",
       "      <td>Olson</td>\n",
       "      <td>East Harlem</td>\n",
       "      <td>40.79264</td>\n",
       "      <td>-73.93898</td>\n",
       "      <td>Entire home/apt</td>\n",
       "      <td>9999</td>\n",
       "      <td>5</td>\n",
       "      <td>1</td>\n",
       "      <td>1/2/2015</td>\n",
       "      <td>0.02</td>\n",
       "      <td>1</td>\n",
       "      <td>0</td>\n",
       "      <td>Manhattan</td>\n",
       "    </tr>\n",
       "    <tr>\n",
       "      <th>9151</th>\n",
       "      <td>7003697</td>\n",
       "      <td>Furnished room in Astoria apartment</td>\n",
       "      <td>20582832</td>\n",
       "      <td>Kathrine</td>\n",
       "      <td>Astoria</td>\n",
       "      <td>40.76810</td>\n",
       "      <td>-73.91651</td>\n",
       "      <td>Private room</td>\n",
       "      <td>10000</td>\n",
       "      <td>100</td>\n",
       "      <td>2</td>\n",
       "      <td>2/13/2016</td>\n",
       "      <td>0.04</td>\n",
       "      <td>1</td>\n",
       "      <td>0</td>\n",
       "      <td>Queens</td>\n",
       "    </tr>\n",
       "    <tr>\n",
       "      <th>12342</th>\n",
       "      <td>9528920</td>\n",
       "      <td>Quiet, Clean, Lit @ LES &amp; Chinatown</td>\n",
       "      <td>3906464</td>\n",
       "      <td>Amy</td>\n",
       "      <td>Lower East Side</td>\n",
       "      <td>40.71355</td>\n",
       "      <td>-73.98507</td>\n",
       "      <td>Private room</td>\n",
       "      <td>9999</td>\n",
       "      <td>99</td>\n",
       "      <td>6</td>\n",
       "      <td>1/1/2016</td>\n",
       "      <td>0.14</td>\n",
       "      <td>1</td>\n",
       "      <td>83</td>\n",
       "      <td>Manhattan</td>\n",
       "    </tr>\n",
       "    <tr>\n",
       "      <th>17692</th>\n",
       "      <td>13894339</td>\n",
       "      <td>Luxury 1 bedroom apt. -stunning Manhattan views</td>\n",
       "      <td>5143901</td>\n",
       "      <td>Erin</td>\n",
       "      <td>Greenpoint</td>\n",
       "      <td>40.73260</td>\n",
       "      <td>-73.95739</td>\n",
       "      <td>Entire home/apt</td>\n",
       "      <td>10000</td>\n",
       "      <td>5</td>\n",
       "      <td>5</td>\n",
       "      <td>7/27/2017</td>\n",
       "      <td>0.16</td>\n",
       "      <td>1</td>\n",
       "      <td>0</td>\n",
       "      <td>Brooklyn</td>\n",
       "    </tr>\n",
       "    <tr>\n",
       "      <th>29238</th>\n",
       "      <td>22436899</td>\n",
       "      <td>1-BR Lincoln Center</td>\n",
       "      <td>72390391</td>\n",
       "      <td>Jelena</td>\n",
       "      <td>Upper West Side</td>\n",
       "      <td>40.77213</td>\n",
       "      <td>-73.98665</td>\n",
       "      <td>Entire home/apt</td>\n",
       "      <td>10000</td>\n",
       "      <td>30</td>\n",
       "      <td>0</td>\n",
       "      <td>NaN</td>\n",
       "      <td>NaN</td>\n",
       "      <td>1</td>\n",
       "      <td>83</td>\n",
       "      <td>Manhattan</td>\n",
       "    </tr>\n",
       "    <tr>\n",
       "      <th>30268</th>\n",
       "      <td>23377410</td>\n",
       "      <td>Beautiful/Spacious 1 bed luxury flat-TriBeCa/Soho</td>\n",
       "      <td>18128455</td>\n",
       "      <td>Rum</td>\n",
       "      <td>Tribeca</td>\n",
       "      <td>40.72197</td>\n",
       "      <td>-74.00633</td>\n",
       "      <td>Entire home/apt</td>\n",
       "      <td>8500</td>\n",
       "      <td>30</td>\n",
       "      <td>2</td>\n",
       "      <td>9/18/2018</td>\n",
       "      <td>0.18</td>\n",
       "      <td>1</td>\n",
       "      <td>251</td>\n",
       "      <td>Manhattan</td>\n",
       "    </tr>\n",
       "    <tr>\n",
       "      <th>40433</th>\n",
       "      <td>31340283</td>\n",
       "      <td>2br - The Heart of NYC: Manhattans Lower East ...</td>\n",
       "      <td>4382127</td>\n",
       "      <td>Matt</td>\n",
       "      <td>Lower East Side</td>\n",
       "      <td>40.71980</td>\n",
       "      <td>-73.98566</td>\n",
       "      <td>Entire home/apt</td>\n",
       "      <td>9999</td>\n",
       "      <td>30</td>\n",
       "      <td>0</td>\n",
       "      <td>NaN</td>\n",
       "      <td>NaN</td>\n",
       "      <td>1</td>\n",
       "      <td>365</td>\n",
       "      <td>Manhattan</td>\n",
       "    </tr>\n",
       "  </tbody>\n",
       "</table>\n",
       "</div>"
      ],
      "text/plain": [
       "             id                                               name   host_id  \\\n",
       "6530    4737930                                 Spanish Harlem Apt   1235070   \n",
       "9151    7003697                Furnished room in Astoria apartment  20582832   \n",
       "12342   9528920                Quiet, Clean, Lit @ LES & Chinatown   3906464   \n",
       "17692  13894339    Luxury 1 bedroom apt. -stunning Manhattan views   5143901   \n",
       "29238  22436899                                1-BR Lincoln Center  72390391   \n",
       "30268  23377410  Beautiful/Spacious 1 bed luxury flat-TriBeCa/Soho  18128455   \n",
       "40433  31340283  2br - The Heart of NYC: Manhattans Lower East ...   4382127   \n",
       "\n",
       "      host_name    neighbourhood  latitude  longitude        room_type  price  \\\n",
       "6530      Olson      East Harlem  40.79264  -73.93898  Entire home/apt   9999   \n",
       "9151   Kathrine          Astoria  40.76810  -73.91651     Private room  10000   \n",
       "12342       Amy  Lower East Side  40.71355  -73.98507     Private room   9999   \n",
       "17692      Erin       Greenpoint  40.73260  -73.95739  Entire home/apt  10000   \n",
       "29238    Jelena  Upper West Side  40.77213  -73.98665  Entire home/apt  10000   \n",
       "30268       Rum          Tribeca  40.72197  -74.00633  Entire home/apt   8500   \n",
       "40433      Matt  Lower East Side  40.71980  -73.98566  Entire home/apt   9999   \n",
       "\n",
       "       minimum_nights  number_of_reviews last_review  reviews_per_month  \\\n",
       "6530                5                  1    1/2/2015               0.02   \n",
       "9151              100                  2   2/13/2016               0.04   \n",
       "12342              99                  6    1/1/2016               0.14   \n",
       "17692               5                  5   7/27/2017               0.16   \n",
       "29238              30                  0         NaN                NaN   \n",
       "30268              30                  2   9/18/2018               0.18   \n",
       "40433              30                  0         NaN                NaN   \n",
       "\n",
       "       calculated_host_listings_count  availability_365 neighbourhood_group  \n",
       "6530                                1                 0           Manhattan  \n",
       "9151                                1                 0              Queens  \n",
       "12342                               1                83           Manhattan  \n",
       "17692                               1                 0            Brooklyn  \n",
       "29238                               1                83           Manhattan  \n",
       "30268                               1               251           Manhattan  \n",
       "40433                               1               365           Manhattan  "
      ]
     },
     "execution_count": 11,
     "metadata": {},
     "output_type": "execute_result"
    }
   ],
   "source": [
    "full_data[full_data[\"price\"]>8000]"
   ]
  },
  {
   "cell_type": "markdown",
   "metadata": {},
   "source": [
    "As we can see, price varies greatly in the dataset, this raises a question on the dataset quality. `price`column could signifiy many things. The outliers indicates that `price` column can possibly mean price per minimum nights rather than per night as 10000USD per night is unreasonable. Therefore, we need to take precautious when dealing with price for future analysis."
   ]
  },
  {
   "cell_type": "code",
   "execution_count": 12,
   "metadata": {
    "scrolled": true
   },
   "outputs": [
    {
     "name": "stdout",
     "output_type": "stream",
     "text": [
      "2972\n"
     ]
    },
    {
     "data": {
      "text/html": [
       "<div>\n",
       "<style scoped>\n",
       "    .dataframe tbody tr th:only-of-type {\n",
       "        vertical-align: middle;\n",
       "    }\n",
       "\n",
       "    .dataframe tbody tr th {\n",
       "        vertical-align: top;\n",
       "    }\n",
       "\n",
       "    .dataframe thead th {\n",
       "        text-align: right;\n",
       "    }\n",
       "</style>\n",
       "<table border=\"1\" class=\"dataframe\">\n",
       "  <thead>\n",
       "    <tr style=\"text-align: right;\">\n",
       "      <th></th>\n",
       "      <th>id</th>\n",
       "      <th>name</th>\n",
       "      <th>host_id</th>\n",
       "      <th>host_name</th>\n",
       "      <th>neighbourhood</th>\n",
       "      <th>latitude</th>\n",
       "      <th>longitude</th>\n",
       "      <th>room_type</th>\n",
       "      <th>price</th>\n",
       "      <th>minimum_nights</th>\n",
       "      <th>number_of_reviews</th>\n",
       "      <th>last_review</th>\n",
       "      <th>reviews_per_month</th>\n",
       "      <th>calculated_host_listings_count</th>\n",
       "      <th>availability_365</th>\n",
       "      <th>neighbourhood_group</th>\n",
       "    </tr>\n",
       "  </thead>\n",
       "  <tbody>\n",
       "    <tr>\n",
       "      <th>61</th>\n",
       "      <td>15396</td>\n",
       "      <td>Sunny &amp; Spacious Chelsea Apartment</td>\n",
       "      <td>60278</td>\n",
       "      <td>Petra</td>\n",
       "      <td>Chelsea</td>\n",
       "      <td>40.74623</td>\n",
       "      <td>-73.99530</td>\n",
       "      <td>Entire home/apt</td>\n",
       "      <td>375</td>\n",
       "      <td>180</td>\n",
       "      <td>5</td>\n",
       "      <td>11/3/2018</td>\n",
       "      <td>0.12</td>\n",
       "      <td>1</td>\n",
       "      <td>180</td>\n",
       "      <td>Manhattan</td>\n",
       "    </tr>\n",
       "    <tr>\n",
       "      <th>85</th>\n",
       "      <td>19601</td>\n",
       "      <td>perfect for a family or small group</td>\n",
       "      <td>74303</td>\n",
       "      <td>Maggie</td>\n",
       "      <td>Brooklyn Heights</td>\n",
       "      <td>40.69723</td>\n",
       "      <td>-73.99268</td>\n",
       "      <td>Entire home/apt</td>\n",
       "      <td>800</td>\n",
       "      <td>1</td>\n",
       "      <td>25</td>\n",
       "      <td>8/4/2016</td>\n",
       "      <td>0.24</td>\n",
       "      <td>1</td>\n",
       "      <td>7</td>\n",
       "      <td>Brooklyn</td>\n",
       "    </tr>\n",
       "    <tr>\n",
       "      <th>103</th>\n",
       "      <td>23686</td>\n",
       "      <td>2000 SF 3br 2bath West Village private  townhouse</td>\n",
       "      <td>93790</td>\n",
       "      <td>Ann</td>\n",
       "      <td>West Village</td>\n",
       "      <td>40.73096</td>\n",
       "      <td>-74.00319</td>\n",
       "      <td>Entire home/apt</td>\n",
       "      <td>500</td>\n",
       "      <td>4</td>\n",
       "      <td>46</td>\n",
       "      <td>5/18/2019</td>\n",
       "      <td>0.55</td>\n",
       "      <td>2</td>\n",
       "      <td>243</td>\n",
       "      <td>Manhattan</td>\n",
       "    </tr>\n",
       "    <tr>\n",
       "      <th>114</th>\n",
       "      <td>26933</td>\n",
       "      <td>2 BR / 2 Bath Duplex Apt with patio! East Village</td>\n",
       "      <td>72062</td>\n",
       "      <td>Bruce</td>\n",
       "      <td>East Village</td>\n",
       "      <td>40.72540</td>\n",
       "      <td>-73.98157</td>\n",
       "      <td>Entire home/apt</td>\n",
       "      <td>350</td>\n",
       "      <td>2</td>\n",
       "      <td>7</td>\n",
       "      <td>8/9/2017</td>\n",
       "      <td>0.06</td>\n",
       "      <td>4</td>\n",
       "      <td>298</td>\n",
       "      <td>Manhattan</td>\n",
       "    </tr>\n",
       "    <tr>\n",
       "      <th>121</th>\n",
       "      <td>27659</td>\n",
       "      <td>3 Story Town House in Park Slope</td>\n",
       "      <td>119588</td>\n",
       "      <td>Vero</td>\n",
       "      <td>South Slope</td>\n",
       "      <td>40.66499</td>\n",
       "      <td>-73.97925</td>\n",
       "      <td>Entire home/apt</td>\n",
       "      <td>400</td>\n",
       "      <td>2</td>\n",
       "      <td>16</td>\n",
       "      <td>12/30/2018</td>\n",
       "      <td>0.24</td>\n",
       "      <td>2</td>\n",
       "      <td>216</td>\n",
       "      <td>Brooklyn</td>\n",
       "    </tr>\n",
       "  </tbody>\n",
       "</table>\n",
       "</div>"
      ],
      "text/plain": [
       "        id                                               name  host_id  \\\n",
       "61   15396                 Sunny & Spacious Chelsea Apartment    60278   \n",
       "85   19601                perfect for a family or small group    74303   \n",
       "103  23686  2000 SF 3br 2bath West Village private  townhouse    93790   \n",
       "114  26933  2 BR / 2 Bath Duplex Apt with patio! East Village    72062   \n",
       "121  27659                   3 Story Town House in Park Slope   119588   \n",
       "\n",
       "    host_name     neighbourhood  latitude  longitude        room_type  price  \\\n",
       "61      Petra           Chelsea  40.74623  -73.99530  Entire home/apt    375   \n",
       "85     Maggie  Brooklyn Heights  40.69723  -73.99268  Entire home/apt    800   \n",
       "103       Ann      West Village  40.73096  -74.00319  Entire home/apt    500   \n",
       "114     Bruce      East Village  40.72540  -73.98157  Entire home/apt    350   \n",
       "121      Vero       South Slope  40.66499  -73.97925  Entire home/apt    400   \n",
       "\n",
       "     minimum_nights  number_of_reviews last_review  reviews_per_month  \\\n",
       "61              180                  5   11/3/2018               0.12   \n",
       "85                1                 25    8/4/2016               0.24   \n",
       "103               4                 46   5/18/2019               0.55   \n",
       "114               2                  7    8/9/2017               0.06   \n",
       "121               2                 16  12/30/2018               0.24   \n",
       "\n",
       "     calculated_host_listings_count  availability_365 neighbourhood_group  \n",
       "61                                1               180           Manhattan  \n",
       "85                                1                 7            Brooklyn  \n",
       "103                               2               243           Manhattan  \n",
       "114                               4               298           Manhattan  \n",
       "121                               2               216            Brooklyn  "
      ]
     },
     "execution_count": 12,
     "metadata": {},
     "output_type": "execute_result"
    }
   ],
   "source": [
    "def get_lower_upper(df, col):    \n",
    "    Q1= df[col].quantile(0.25)\n",
    "    Q3= df[col].quantile(0.75)\n",
    "    IQR= Q3-Q1\n",
    "    lower = Q1 - 1.5 * IQR\n",
    "    upper = Q3 + 1.5 * IQR\n",
    "    outliers = df[(df[col] > upper) | (df[col] < lower)]\n",
    "    return outliers\n",
    "\n",
    "outliers_price = get_lower_upper(full_data, \"price\")\n",
    "print(len(outliers_price))\n",
    "outliers_price.head()"
   ]
  },
  {
   "cell_type": "code",
   "execution_count": 13,
   "metadata": {},
   "outputs": [
    {
     "name": "stdout",
     "output_type": "stream",
     "text": [
      "6607\n"
     ]
    },
    {
     "data": {
      "text/html": [
       "<div>\n",
       "<style scoped>\n",
       "    .dataframe tbody tr th:only-of-type {\n",
       "        vertical-align: middle;\n",
       "    }\n",
       "\n",
       "    .dataframe tbody tr th {\n",
       "        vertical-align: top;\n",
       "    }\n",
       "\n",
       "    .dataframe thead th {\n",
       "        text-align: right;\n",
       "    }\n",
       "</style>\n",
       "<table border=\"1\" class=\"dataframe\">\n",
       "  <thead>\n",
       "    <tr style=\"text-align: right;\">\n",
       "      <th></th>\n",
       "      <th>id</th>\n",
       "      <th>name</th>\n",
       "      <th>host_id</th>\n",
       "      <th>host_name</th>\n",
       "      <th>neighbourhood</th>\n",
       "      <th>latitude</th>\n",
       "      <th>longitude</th>\n",
       "      <th>room_type</th>\n",
       "      <th>price</th>\n",
       "      <th>minimum_nights</th>\n",
       "      <th>number_of_reviews</th>\n",
       "      <th>last_review</th>\n",
       "      <th>reviews_per_month</th>\n",
       "      <th>calculated_host_listings_count</th>\n",
       "      <th>availability_365</th>\n",
       "      <th>neighbourhood_group</th>\n",
       "    </tr>\n",
       "  </thead>\n",
       "  <tbody>\n",
       "    <tr>\n",
       "      <th>6</th>\n",
       "      <td>5121</td>\n",
       "      <td>BlissArtsSpace!</td>\n",
       "      <td>7356</td>\n",
       "      <td>Garon</td>\n",
       "      <td>Bedford-Stuyvesant</td>\n",
       "      <td>40.68688</td>\n",
       "      <td>-73.95596</td>\n",
       "      <td>Private room</td>\n",
       "      <td>60</td>\n",
       "      <td>45</td>\n",
       "      <td>49</td>\n",
       "      <td>10/5/2017</td>\n",
       "      <td>0.40</td>\n",
       "      <td>1</td>\n",
       "      <td>0</td>\n",
       "      <td>Brooklyn</td>\n",
       "    </tr>\n",
       "    <tr>\n",
       "      <th>14</th>\n",
       "      <td>6090</td>\n",
       "      <td>West Village Nest - Superhost</td>\n",
       "      <td>11975</td>\n",
       "      <td>Alina</td>\n",
       "      <td>West Village</td>\n",
       "      <td>40.73530</td>\n",
       "      <td>-74.00525</td>\n",
       "      <td>Entire home/apt</td>\n",
       "      <td>120</td>\n",
       "      <td>90</td>\n",
       "      <td>27</td>\n",
       "      <td>10/31/2018</td>\n",
       "      <td>0.22</td>\n",
       "      <td>1</td>\n",
       "      <td>0</td>\n",
       "      <td>Manhattan</td>\n",
       "    </tr>\n",
       "    <tr>\n",
       "      <th>29</th>\n",
       "      <td>9657</td>\n",
       "      <td>Modern 1 BR / NYC / EAST VILLAGE</td>\n",
       "      <td>21904</td>\n",
       "      <td>Dana</td>\n",
       "      <td>East Village</td>\n",
       "      <td>40.72920</td>\n",
       "      <td>-73.98542</td>\n",
       "      <td>Entire home/apt</td>\n",
       "      <td>180</td>\n",
       "      <td>14</td>\n",
       "      <td>29</td>\n",
       "      <td>4/19/2019</td>\n",
       "      <td>0.24</td>\n",
       "      <td>1</td>\n",
       "      <td>67</td>\n",
       "      <td>Manhattan</td>\n",
       "    </tr>\n",
       "    <tr>\n",
       "      <th>36</th>\n",
       "      <td>11452</td>\n",
       "      <td>Clean and Quiet in Brooklyn</td>\n",
       "      <td>7355</td>\n",
       "      <td>Vt</td>\n",
       "      <td>Bedford-Stuyvesant</td>\n",
       "      <td>40.68876</td>\n",
       "      <td>-73.94312</td>\n",
       "      <td>Private room</td>\n",
       "      <td>35</td>\n",
       "      <td>60</td>\n",
       "      <td>0</td>\n",
       "      <td>NaN</td>\n",
       "      <td>NaN</td>\n",
       "      <td>1</td>\n",
       "      <td>365</td>\n",
       "      <td>Brooklyn</td>\n",
       "    </tr>\n",
       "    <tr>\n",
       "      <th>45</th>\n",
       "      <td>12627</td>\n",
       "      <td>Entire apartment in central Brooklyn neighborh...</td>\n",
       "      <td>49670</td>\n",
       "      <td>Rana</td>\n",
       "      <td>Prospect-Lefferts Gardens</td>\n",
       "      <td>40.65944</td>\n",
       "      <td>-73.96238</td>\n",
       "      <td>Entire home/apt</td>\n",
       "      <td>150</td>\n",
       "      <td>29</td>\n",
       "      <td>11</td>\n",
       "      <td>6/5/2019</td>\n",
       "      <td>0.49</td>\n",
       "      <td>1</td>\n",
       "      <td>95</td>\n",
       "      <td>Brooklyn</td>\n",
       "    </tr>\n",
       "  </tbody>\n",
       "</table>\n",
       "</div>"
      ],
      "text/plain": [
       "       id                                               name  host_id  \\\n",
       "6    5121                                    BlissArtsSpace!     7356   \n",
       "14   6090                      West Village Nest - Superhost    11975   \n",
       "29   9657                   Modern 1 BR / NYC / EAST VILLAGE    21904   \n",
       "36  11452                        Clean and Quiet in Brooklyn     7355   \n",
       "45  12627  Entire apartment in central Brooklyn neighborh...    49670   \n",
       "\n",
       "   host_name              neighbourhood  latitude  longitude        room_type  \\\n",
       "6      Garon         Bedford-Stuyvesant  40.68688  -73.95596     Private room   \n",
       "14     Alina               West Village  40.73530  -74.00525  Entire home/apt   \n",
       "29      Dana               East Village  40.72920  -73.98542  Entire home/apt   \n",
       "36        Vt         Bedford-Stuyvesant  40.68876  -73.94312     Private room   \n",
       "45      Rana  Prospect-Lefferts Gardens  40.65944  -73.96238  Entire home/apt   \n",
       "\n",
       "    price  minimum_nights  number_of_reviews last_review  reviews_per_month  \\\n",
       "6      60              45                 49   10/5/2017               0.40   \n",
       "14    120              90                 27  10/31/2018               0.22   \n",
       "29    180              14                 29   4/19/2019               0.24   \n",
       "36     35              60                  0         NaN                NaN   \n",
       "45    150              29                 11    6/5/2019               0.49   \n",
       "\n",
       "    calculated_host_listings_count  availability_365 neighbourhood_group  \n",
       "6                                1                 0            Brooklyn  \n",
       "14                               1                 0           Manhattan  \n",
       "29                               1                67           Manhattan  \n",
       "36                               1               365            Brooklyn  \n",
       "45                               1                95            Brooklyn  "
      ]
     },
     "execution_count": 13,
     "metadata": {},
     "output_type": "execute_result"
    }
   ],
   "source": [
    "outliers_nights = get_lower_upper(full_data, \"minimum_nights\")\n",
    "print(len(outliers_nights))\n",
    "outliers_nights.head()"
   ]
  },
  {
   "cell_type": "code",
   "execution_count": 14,
   "metadata": {},
   "outputs": [
    {
     "data": {
      "text/html": [
       "<div>\n",
       "<style scoped>\n",
       "    .dataframe tbody tr th:only-of-type {\n",
       "        vertical-align: middle;\n",
       "    }\n",
       "\n",
       "    .dataframe tbody tr th {\n",
       "        vertical-align: top;\n",
       "    }\n",
       "\n",
       "    .dataframe thead th {\n",
       "        text-align: right;\n",
       "    }\n",
       "</style>\n",
       "<table border=\"1\" class=\"dataframe\">\n",
       "  <thead>\n",
       "    <tr style=\"text-align: right;\">\n",
       "      <th></th>\n",
       "      <th>id</th>\n",
       "      <th>name</th>\n",
       "      <th>host_id</th>\n",
       "      <th>host_name</th>\n",
       "      <th>neighbourhood</th>\n",
       "      <th>latitude</th>\n",
       "      <th>longitude</th>\n",
       "      <th>room_type</th>\n",
       "      <th>price</th>\n",
       "      <th>minimum_nights</th>\n",
       "      <th>number_of_reviews</th>\n",
       "      <th>last_review</th>\n",
       "      <th>reviews_per_month</th>\n",
       "      <th>calculated_host_listings_count</th>\n",
       "      <th>availability_365</th>\n",
       "      <th>neighbourhood_group</th>\n",
       "    </tr>\n",
       "  </thead>\n",
       "  <tbody>\n",
       "    <tr>\n",
       "      <th>2854</th>\n",
       "      <td>1615764</td>\n",
       "      <td>Unknown</td>\n",
       "      <td>6676776</td>\n",
       "      <td>Peter</td>\n",
       "      <td>Battery Park City</td>\n",
       "      <td>40.71239</td>\n",
       "      <td>-74.01620</td>\n",
       "      <td>Entire home/apt</td>\n",
       "      <td>400</td>\n",
       "      <td>1000</td>\n",
       "      <td>0</td>\n",
       "      <td>NaN</td>\n",
       "      <td>NaN</td>\n",
       "      <td>1</td>\n",
       "      <td>362</td>\n",
       "      <td>Manhattan</td>\n",
       "    </tr>\n",
       "    <tr>\n",
       "      <th>5767</th>\n",
       "      <td>4204302</td>\n",
       "      <td>Prime W. Village location 1 bdrm</td>\n",
       "      <td>17550546</td>\n",
       "      <td>Genevieve</td>\n",
       "      <td>Greenwich Village</td>\n",
       "      <td>40.73293</td>\n",
       "      <td>-73.99782</td>\n",
       "      <td>Entire home/apt</td>\n",
       "      <td>180</td>\n",
       "      <td>1250</td>\n",
       "      <td>2</td>\n",
       "      <td>11/9/2014</td>\n",
       "      <td>0.03</td>\n",
       "      <td>1</td>\n",
       "      <td>365</td>\n",
       "      <td>Manhattan</td>\n",
       "    </tr>\n",
       "    <tr>\n",
       "      <th>13404</th>\n",
       "      <td>10053943</td>\n",
       "      <td>Historic Designer 2 Bed. Apartment</td>\n",
       "      <td>2697686</td>\n",
       "      <td>Glenn H.</td>\n",
       "      <td>Harlem</td>\n",
       "      <td>40.82915</td>\n",
       "      <td>-73.94034</td>\n",
       "      <td>Entire home/apt</td>\n",
       "      <td>99</td>\n",
       "      <td>999</td>\n",
       "      <td>2</td>\n",
       "      <td>1/4/2018</td>\n",
       "      <td>0.07</td>\n",
       "      <td>1</td>\n",
       "      <td>42</td>\n",
       "      <td>Manhattan</td>\n",
       "    </tr>\n",
       "    <tr>\n",
       "      <th>26341</th>\n",
       "      <td>20990053</td>\n",
       "      <td>Beautiful place in Brooklyn! #2</td>\n",
       "      <td>151084261</td>\n",
       "      <td>Angie</td>\n",
       "      <td>Williamsburg</td>\n",
       "      <td>40.71772</td>\n",
       "      <td>-73.95059</td>\n",
       "      <td>Private room</td>\n",
       "      <td>79</td>\n",
       "      <td>999</td>\n",
       "      <td>24</td>\n",
       "      <td>6/28/2018</td>\n",
       "      <td>1.12</td>\n",
       "      <td>6</td>\n",
       "      <td>249</td>\n",
       "      <td>Brooklyn</td>\n",
       "    </tr>\n",
       "    <tr>\n",
       "      <th>38664</th>\n",
       "      <td>30378211</td>\n",
       "      <td>Shared Studio (females only)</td>\n",
       "      <td>200401254</td>\n",
       "      <td>Meg</td>\n",
       "      <td>Greenwich Village</td>\n",
       "      <td>40.73094</td>\n",
       "      <td>-73.99900</td>\n",
       "      <td>Shared room</td>\n",
       "      <td>110</td>\n",
       "      <td>999</td>\n",
       "      <td>0</td>\n",
       "      <td>NaN</td>\n",
       "      <td>NaN</td>\n",
       "      <td>1</td>\n",
       "      <td>365</td>\n",
       "      <td>Manhattan</td>\n",
       "    </tr>\n",
       "  </tbody>\n",
       "</table>\n",
       "</div>"
      ],
      "text/plain": [
       "             id                                name    host_id  host_name  \\\n",
       "2854    1615764                             Unknown    6676776      Peter   \n",
       "5767    4204302    Prime W. Village location 1 bdrm   17550546  Genevieve   \n",
       "13404  10053943  Historic Designer 2 Bed. Apartment    2697686   Glenn H.   \n",
       "26341  20990053     Beautiful place in Brooklyn! #2  151084261      Angie   \n",
       "38664  30378211        Shared Studio (females only)  200401254        Meg   \n",
       "\n",
       "           neighbourhood  latitude  longitude        room_type  price  \\\n",
       "2854   Battery Park City  40.71239  -74.01620  Entire home/apt    400   \n",
       "5767   Greenwich Village  40.73293  -73.99782  Entire home/apt    180   \n",
       "13404             Harlem  40.82915  -73.94034  Entire home/apt     99   \n",
       "26341       Williamsburg  40.71772  -73.95059     Private room     79   \n",
       "38664  Greenwich Village  40.73094  -73.99900      Shared room    110   \n",
       "\n",
       "       minimum_nights  number_of_reviews last_review  reviews_per_month  \\\n",
       "2854             1000                  0         NaN                NaN   \n",
       "5767             1250                  2   11/9/2014               0.03   \n",
       "13404             999                  2    1/4/2018               0.07   \n",
       "26341             999                 24   6/28/2018               1.12   \n",
       "38664             999                  0         NaN                NaN   \n",
       "\n",
       "       calculated_host_listings_count  availability_365 neighbourhood_group  \n",
       "2854                                1               362           Manhattan  \n",
       "5767                                1               365           Manhattan  \n",
       "13404                               1                42           Manhattan  \n",
       "26341                               6               249            Brooklyn  \n",
       "38664                               1               365           Manhattan  "
      ]
     },
     "execution_count": 14,
     "metadata": {},
     "output_type": "execute_result"
    }
   ],
   "source": [
    "outliers_nights[outliers_nights[\"minimum_nights\"] > 500]"
   ]
  },
  {
   "cell_type": "markdown",
   "metadata": {},
   "source": [
    "## Exploratory Analysis\n",
    "\n",
    "We'll first start to answer the first question - to measure the company's presence around New York City."
   ]
  },
  {
   "cell_type": "code",
   "execution_count": 15,
   "metadata": {},
   "outputs": [
    {
     "data": {
      "text/plain": [
       "Text(0.5, 1.0, 'Proportions of Rental Spaces by Location')"
      ]
     },
     "execution_count": 15,
     "metadata": {},
     "output_type": "execute_result"
    },
    {
     "data": {
      "image/png": "[encoded data removed]",
      "text/plain": [
       "<Figure size 432x288 with 1 Axes>"
      ]
     },
     "metadata": {
      "needs_background": "light"
     },
     "output_type": "display_data"
    }
   ],
   "source": [
    "neighbourhood = full_data[\"neighbourhood_group\"].value_counts(normalize=True)\n",
    "neighbourhood.plot.bar(rot=0)\n",
    "plt.title(\"Proportions of Rental Spaces by Location\")"
   ]
  },
  {
   "cell_type": "code",
   "execution_count": 32,
   "metadata": {
    "scrolled": true
   },
   "outputs": [
    {
     "data": {
      "text/plain": [
       "Text(0.5, 1.0, 'Proportions of Rental Spaces by Type of Rent')"
      ]
     },
     "execution_count": 32,
     "metadata": {},
     "output_type": "execute_result"
    },
    {
     "data": {
      "image/png": "[encoded data removed]",
      "text/plain": [
       "<Figure size 432x288 with 1 Axes>"
      ]
     },
     "metadata": {
      "needs_background": "light"
     },
     "output_type": "display_data"
    }
   ],
   "source": [
    "full_data[\"location_agg\"] = pd.cut(full_data[\"minimum_nights\"], [0,5,14,1250], labels=[\"short-term\", \"medium-term\", \"long-term\"])\n",
    "full_data[\"location_agg\"].value_counts(normalize=True).plot.bar(rot=0)\n",
    "plt.title(\"Proportions of Rental Spaces by Type of Rent\")"
   ]
  },
  {
   "cell_type": "code",
   "execution_count": 17,
   "metadata": {},
   "outputs": [
    {
     "data": {
      "image/png": "[encoded data removed]",
      "text/plain": [
       "<Figure size 432x288 with 1 Axes>"
      ]
     },
     "metadata": {
      "needs_background": "light"
     },
     "output_type": "display_data"
    },
    {
     "data": {
      "image/png": "[encoded data removed]",
      "text/plain": [
       "<Figure size 432x288 with 1 Axes>"
      ]
     },
     "metadata": {
      "needs_background": "light"
     },
     "output_type": "display_data"
    },
    {
     "data": {
      "image/png": "[encoded data removed]",
      "text/plain": [
       "<Figure size 432x288 with 1 Axes>"
      ]
     },
     "metadata": {
      "needs_background": "light"
     },
     "output_type": "display_data"
    }
   ],
   "source": [
    "short_term = full_data[full_data[\"location_agg\"] == \"short-term\"]\n",
    "medium_term = full_data[full_data[\"location_agg\"] == \"medium-term\"]\n",
    "long_term = full_data[full_data[\"location_agg\"] == \"long-term\"]\n",
    "\n",
    "periods = [short_term, medium_term, long_term]\n",
    "\n",
    "for period in periods:\n",
    "    period[\"room_type\"].value_counts().plot.bar(rot=0)\n",
    "    plt.show()"
   ]
  },
  {
   "cell_type": "code",
   "execution_count": 18,
   "metadata": {},
   "outputs": [
    {
     "data": {
      "text/plain": [
       "Text(0.5, 1.0, 'Frequency of Type of Room')"
      ]
     },
     "execution_count": 18,
     "metadata": {},
     "output_type": "execute_result"
    },
    {
     "data": {
      "image/png": "[encoded data removed]",
      "text/plain": [
       "<Figure size 432x288 with 1 Axes>"
      ]
     },
     "metadata": {
      "needs_background": "light"
     },
     "output_type": "display_data"
    }
   ],
   "source": [
    "full_data[\"room_type\"].value_counts().plot.bar(rot=0)\n",
    "plt.title(\"Frequency of Type of Room\")"
   ]
  },
  {
   "cell_type": "markdown",
   "metadata": {},
   "source": [
    "### Objective number two"
   ]
  },
  {
   "cell_type": "code",
   "execution_count": 19,
   "metadata": {},
   "outputs": [],
   "source": [
    "Q1 = full_data[\"price\"].quantile(0.25)\n",
    "Q3 = full_data[\"price\"].quantile(0.75)\n",
    "full_data[\"price_range\"] = pd.cut(full_data[\"price\"], [0, Q1, Q3,10000], labels=[\"cheap\", \"mid\", \"expensive\"])"
   ]
  },
  {
   "cell_type": "code",
   "execution_count": 34,
   "metadata": {
    "scrolled": true
   },
   "outputs": [
    {
     "name": "stdout",
     "output_type": "stream",
     "text": [
      "total rental spaces in this categoty is 12360\n"
     ]
    },
    {
     "data": {
      "image/png": "[encoded data removed]",
      "text/plain": [
       "<Figure size 432x288 with 1 Axes>"
      ]
     },
     "metadata": {
      "needs_background": "light"
     },
     "output_type": "display_data"
    }
   ],
   "source": [
    "full_data[full_data[\"price_range\"] == \"cheap\"][\"neighbourhood_group\"].value_counts(normalize=True).plot.barh()\n",
    "plt.title(\"Proportion on cheap rental spaces by locations\")\n",
    "total_cheap = len(full_data[full_data[\"price_range\"] == \"cheap\"][\"neighbourhood_group\"])\n",
    "print(f\"total rental spaces in this categoty is {total_cheap}\")"
   ]
  },
  {
   "cell_type": "code",
   "execution_count": 35,
   "metadata": {
    "scrolled": true
   },
   "outputs": [
    {
     "name": "stdout",
     "output_type": "stream",
     "text": [
      "total rental spaces in this categoty is 24347\n"
     ]
    },
    {
     "data": {
      "image/png": "[encoded data removed]",
      "text/plain": [
       "<Figure size 432x288 with 1 Axes>"
      ]
     },
     "metadata": {
      "needs_background": "light"
     },
     "output_type": "display_data"
    }
   ],
   "source": [
    "full_data[full_data[\"price_range\"] == \"mid\"][\"neighbourhood_group\"].value_counts(normalize=True).plot.barh()\n",
    "plt.title(\"Proportion on medium-priced rental spaces by locations\")\n",
    "total_cheap = len(full_data[full_data[\"price_range\"] == \"mid\"][\"neighbourhood_group\"])\n",
    "print(f\"total rental spaces in this categoty is {total_cheap}\")"
   ]
  },
  {
   "cell_type": "code",
   "execution_count": 33,
   "metadata": {},
   "outputs": [
    {
     "name": "stdout",
     "output_type": "stream",
     "text": [
      "total rental spaces in this categoty is 12177\n"
     ]
    },
    {
     "data": {
      "image/png": "[encoded data removed]",
      "text/plain": [
       "<Figure size 432x288 with 1 Axes>"
      ]
     },
     "metadata": {
      "needs_background": "light"
     },
     "output_type": "display_data"
    }
   ],
   "source": [
    "full_data[full_data[\"price_range\"] == \"expensive\"][\"neighbourhood_group\"].value_counts(normalize=True).plot.barh()\n",
    "plt.title(\"Proportion on expensive rental spaces by locations\")\n",
    "total_cheap = len(full_data[full_data[\"price_range\"] == \"expensive\"][\"neighbourhood_group\"])\n",
    "print(f\"total rental spaces in this categoty is {total_cheap}\")"
   ]
  },
  {
   "cell_type": "code",
   "execution_count": 23,
   "metadata": {
    "scrolled": true
   },
   "outputs": [
    {
     "data": {
      "text/plain": [
       "45923"
      ]
     },
     "execution_count": 23,
     "metadata": {},
     "output_type": "execute_result"
    }
   ],
   "source": [
    "cleaned_price = full_data.drop(index = outliers_price.index)\n",
    "len(cleaned_price)"
   ]
  },
  {
   "cell_type": "markdown",
   "metadata": {},
   "source": [
    "remove some price outliers from the dataset"
   ]
  },
  {
   "cell_type": "code",
   "execution_count": 24,
   "metadata": {
    "scrolled": true
   },
   "outputs": [
    {
     "data": {
      "text/plain": [
       "<matplotlib.collections.PathCollection at 0x26e56d973a0>"
      ]
     },
     "execution_count": 24,
     "metadata": {},
     "output_type": "execute_result"
    },
    {
     "data": {
      "image/png": "[encoded data removed]",
      "text/plain": [
       "<Figure size 432x288 with 1 Axes>"
      ]
     },
     "metadata": {
      "needs_background": "light"
     },
     "output_type": "display_data"
    }
   ],
   "source": [
    "plt.scatter(cleaned_price[\"number_of_reviews\"], cleaned_price[\"price\"])"
   ]
  },
  {
   "cell_type": "code",
   "execution_count": 25,
   "metadata": {},
   "outputs": [
    {
     "data": {
      "text/html": [
       "<div>\n",
       "<style scoped>\n",
       "    .dataframe tbody tr th:only-of-type {\n",
       "        vertical-align: middle;\n",
       "    }\n",
       "\n",
       "    .dataframe tbody tr th {\n",
       "        vertical-align: top;\n",
       "    }\n",
       "\n",
       "    .dataframe thead th {\n",
       "        text-align: right;\n",
       "    }\n",
       "</style>\n",
       "<table border=\"1\" class=\"dataframe\">\n",
       "  <thead>\n",
       "    <tr style=\"text-align: right;\">\n",
       "      <th></th>\n",
       "      <th>number_of_reviews</th>\n",
       "      <th>price</th>\n",
       "    </tr>\n",
       "  </thead>\n",
       "  <tbody>\n",
       "    <tr>\n",
       "      <th>number_of_reviews</th>\n",
       "      <td>1.00000</td>\n",
       "      <td>-0.02769</td>\n",
       "    </tr>\n",
       "    <tr>\n",
       "      <th>price</th>\n",
       "      <td>-0.02769</td>\n",
       "      <td>1.00000</td>\n",
       "    </tr>\n",
       "  </tbody>\n",
       "</table>\n",
       "</div>"
      ],
      "text/plain": [
       "                   number_of_reviews    price\n",
       "number_of_reviews            1.00000 -0.02769\n",
       "price                       -0.02769  1.00000"
      ]
     },
     "execution_count": 25,
     "metadata": {},
     "output_type": "execute_result"
    }
   ],
   "source": [
    "cleaned_price[[\"number_of_reviews\", \"price\"]].corr()"
   ]
  },
  {
   "cell_type": "code",
   "execution_count": 26,
   "metadata": {},
   "outputs": [
    {
     "data": {
      "text/plain": [
       "{'Brooklyn': 20104,\n",
       " 'Manhattan': 21661,\n",
       " 'Queens': 5666,\n",
       " 'Staten Island': 373,\n",
       " 'Bronx': 1091}"
      ]
     },
     "execution_count": 26,
     "metadata": {},
     "output_type": "execute_result"
    }
   ],
   "source": [
    "group_loc = dict()\n",
    "\n",
    "for loc in full_data[\"neighbourhood_group\"].unique():\n",
    "    group_loc[loc] = len(full_data[full_data[\"neighbourhood_group\"] == loc])\n",
    "    \n",
    "group_loc"
   ]
  },
  {
   "cell_type": "code",
   "execution_count": 27,
   "metadata": {
    "scrolled": true
   },
   "outputs": [
    {
     "data": {
      "text/plain": [
       "{'Brooklyn': [0.45329287703939514,\n",
       "  0.2537306008754477,\n",
       "  0.1819040986868285,\n",
       "  0.11107242339832869],\n",
       " 'Manhattan': [0.4421310188818614,\n",
       "  0.21596417524583353,\n",
       "  0.23216841327731869,\n",
       "  0.10973639259498638],\n",
       " 'Queens': [0.4204024002823862,\n",
       "  0.29632897987998585,\n",
       "  0.19272855630074126,\n",
       "  0.09054006353688669],\n",
       " 'Staten Island': [0.3753351206434316,\n",
       "  0.3646112600536193,\n",
       "  0.1581769436997319,\n",
       "  0.10187667560321716],\n",
       " 'Bronx': [0.4188817598533456,\n",
       "  0.307974335472044,\n",
       "  0.19706691109074242,\n",
       "  0.076076993583868]}"
      ]
     },
     "execution_count": 27,
     "metadata": {},
     "output_type": "execute_result"
    }
   ],
   "source": [
    "full_data[\"review_prop\"] = pd.cut(full_data[\"number_of_reviews\"], [-1,0.5,1,24,629], labels=[\"No Review\", \"Good\", \"Great\", \"Excellent\"])\n",
    "\n",
    "reviews = full_data[\"review_prop\"].unique()\n",
    "\n",
    "locations = dict()\n",
    "for loc in group_loc.keys():\n",
    "    proportions = []\n",
    "    for label in reviews:\n",
    "        num = len(full_data[(full_data[\"review_prop\"] == label) & (full_data[\"neighbourhood_group\"] == loc)])\n",
    "        proportions.append(num/group_loc[loc])\n",
    "    locations[loc] = proportions\n",
    "\n",
    "locations"
   ]
  },
  {
   "cell_type": "code",
   "execution_count": 28,
   "metadata": {
    "scrolled": true
   },
   "outputs": [
    {
     "data": {
      "text/html": [
       "<div>\n",
       "<style scoped>\n",
       "    .dataframe tbody tr th:only-of-type {\n",
       "        vertical-align: middle;\n",
       "    }\n",
       "\n",
       "    .dataframe tbody tr th {\n",
       "        vertical-align: top;\n",
       "    }\n",
       "\n",
       "    .dataframe thead th {\n",
       "        text-align: right;\n",
       "    }\n",
       "</style>\n",
       "<table border=\"1\" class=\"dataframe\">\n",
       "  <thead>\n",
       "    <tr style=\"text-align: right;\">\n",
       "      <th></th>\n",
       "      <th>Brooklyn</th>\n",
       "      <th>Manhattan</th>\n",
       "      <th>Queens</th>\n",
       "      <th>Staten Island</th>\n",
       "      <th>Bronx</th>\n",
       "    </tr>\n",
       "  </thead>\n",
       "  <tbody>\n",
       "    <tr>\n",
       "      <th>No Review</th>\n",
       "      <td>0.181904</td>\n",
       "      <td>0.232168</td>\n",
       "      <td>0.192729</td>\n",
       "      <td>0.158177</td>\n",
       "      <td>0.197067</td>\n",
       "    </tr>\n",
       "    <tr>\n",
       "      <th>Good</th>\n",
       "      <td>0.111072</td>\n",
       "      <td>0.109736</td>\n",
       "      <td>0.090540</td>\n",
       "      <td>0.101877</td>\n",
       "      <td>0.076077</td>\n",
       "    </tr>\n",
       "    <tr>\n",
       "      <th>Great</th>\n",
       "      <td>0.453293</td>\n",
       "      <td>0.442131</td>\n",
       "      <td>0.420402</td>\n",
       "      <td>0.375335</td>\n",
       "      <td>0.418882</td>\n",
       "    </tr>\n",
       "    <tr>\n",
       "      <th>Excellent</th>\n",
       "      <td>0.253731</td>\n",
       "      <td>0.215964</td>\n",
       "      <td>0.296329</td>\n",
       "      <td>0.364611</td>\n",
       "      <td>0.307974</td>\n",
       "    </tr>\n",
       "  </tbody>\n",
       "</table>\n",
       "</div>"
      ],
      "text/plain": [
       "           Brooklyn  Manhattan    Queens  Staten Island     Bronx\n",
       "No Review  0.181904   0.232168  0.192729       0.158177  0.197067\n",
       "Good       0.111072   0.109736  0.090540       0.101877  0.076077\n",
       "Great      0.453293   0.442131  0.420402       0.375335  0.418882\n",
       "Excellent  0.253731   0.215964  0.296329       0.364611  0.307974"
      ]
     },
     "execution_count": 28,
     "metadata": {},
     "output_type": "execute_result"
    }
   ],
   "source": [
    "location_df = pd.DataFrame(locations, index=reviews)\n",
    "location_df= location_df.reindex([\"No Review\",\"Good\", \"Great\", \"Excellent\"])\n",
    "location_df"
   ]
  },
  {
   "cell_type": "code",
   "execution_count": 36,
   "metadata": {
    "scrolled": true
   },
   "outputs": [
    {
     "data": {
      "image/png": "[encoded data removed]",
      "text/plain": [
       "<Figure size 432x288 with 1 Axes>"
      ]
     },
     "metadata": {
      "needs_background": "light"
     },
     "output_type": "display_data"
    },
    {
     "data": {
      "image/png": "[encoded data removed]",
      "text/plain": [
       "<Figure size 432x288 with 1 Axes>"
      ]
     },
     "metadata": {
      "needs_background": "light"
     },
     "output_type": "display_data"
    },
    {
     "data": {
      "image/png": "[encoded data removed]",
      "text/plain": [
       "<Figure size 432x288 with 1 Axes>"
      ]
     },
     "metadata": {
      "needs_background": "light"
     },
     "output_type": "display_data"
    },
    {
     "data": {
      "image/png": "[encoded data removed]",
      "text/plain": [
       "<Figure size 432x288 with 1 Axes>"
      ]
     },
     "metadata": {
      "needs_background": "light"
     },
     "output_type": "display_data"
    },
    {
     "data": {
      "image/png": "[encoded data removed]",
      "text/plain": [
       "<Figure size 432x288 with 1 Axes>"
      ]
     },
     "metadata": {
      "needs_background": "light"
     },
     "output_type": "display_data"
    }
   ],
   "source": [
    "for locat in locations.keys():\n",
    "    location_df[locat].plot.bar(rot=0)\n",
    "    plt.title(locat)\n",
    "    plt.show()"
   ]
  },
  {
   "cell_type": "markdown",
   "metadata": {},
   "source": [
    "It seems that each neighbourhood has a fairly same amount of distribution of `Good`, `Great`, and `Excellent` quality of properties. "
   ]
  },
  {
   "cell_type": "code",
   "execution_count": null,
   "metadata": {},
   "outputs": [],
   "source": []
  }
 ],
 "metadata": {
  "kernelspec": {
   "display_name": "Python 3",
   "language": "python",
   "name": "python3"
  },
  "language_info": {
   "codemirror_mode": {
    "name": "ipython",
    "version": 3
   },
   "file_extension": ".py",
   "mimetype": "text/x-python",
   "name": "python",
   "nbconvert_exporter": "python",
   "pygments_lexer": "ipython3",
   "version": "3.8.5"
  }
 },
 "nbformat": 4,
 "nbformat_minor": 5
}
