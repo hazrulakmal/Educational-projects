{
 "cells": [
  {
   "cell_type": "markdown",
   "metadata": {},
   "source": [
    "# ST101 Final Project"
   ]
  },
  {
   "cell_type": "markdown",
   "metadata": {},
   "source": [
    "Candidate Number: 14936"
   ]
  },
  {
   "cell_type": "markdown",
   "metadata": {},
   "source": [
    "## Introduction\n",
    "\n",
    "This project is a continuation of previous problem sets, namely problem set 8 and 9. In this project, I will make improvements on the existing class to reflect the real-world scenarios by relaxing a few oversimplified assumptions set in the previous problem sets. Therefore, I will generally do three tasks as per set by the ST101 project general guidelines. The first task is to create a new class `User` to represent subscribers of a streaming service. In this section, I will explore the combination implementation of the `User` and `Playlist` class. The second task involves further enhancing the coding functionality of the searching method by making the search engine works smarter and reflect more of the real world. I will implement an inverted index concept, that allows the search engine to find relevant shows related to any words given by the user and natural language processing (NLP), where I use a newly introduced package `NLTK` to do both stop words filtering and stemming. I will also consider a scenario in which the user gives more than one word to the search engine. And lastly, I will do a performance analysis on the search engine to dissect its weak parts so that improvements can be proposed. "
   ]
  },
  {
   "cell_type": "markdown",
   "metadata": {},
   "source": [
    "## Task 1\n",
    "**Streaming service user and playlist**"
   ]
  },
  {
   "cell_type": "markdown",
   "metadata": {},
   "source": [
    "Readers can access my `User`,`StreamingService`, `Playlist & FavouritePlaylist`, `Show` class code structure from these [user.py](http://localhost:8888/edit/Documents/GitHub/LSE/2020-project-trixy-zero/src/User.py), [streamingservice.py](http://localhost:8888/edit/Documents/GitHub/LSE/2020-project-trixy-zero/src/streaming_service.py), [playlist.py](http://localhost:8888/edit/Documents/GitHub/LSE/2020-project-trixy-zero/src/Playlist.py), [show](http://localhost:8888/edit/Documents/GitHub/LSE/2020-project-trixy-zero/src/show.py) files respectively where abstractions are written to let readers understand the use of the methods. If the links are not working, you may find them in the src file. In this report, I will show how the class can be used and also run some testing to ensure the class works as intended. First, we import modules and load the necessary files for the report."
   ]
  },
  {
   "cell_type": "code",
   "execution_count": 1,
   "metadata": {},
   "outputs": [],
   "source": [
    "from show import Show\n",
    "from streaming_service import StreamingService\n",
    "from Playlist import Playlist, FavouritePlaylist\n",
    "from User import User\n",
    "from nltk.stem.snowball import SnowballStemmer\n",
    "from nltk.corpus import stopwords \n",
    "\n",
    "import random\n",
    "from datetime import date\n",
    "import pandas as pd\n",
    "import numpy as np"
   ]
  },
  {
   "cell_type": "markdown",
   "metadata": {},
   "source": [
    "### Demonstrate `User`"
   ]
  },
  {
   "cell_type": "markdown",
   "metadata": {},
   "source": [
    "Read and clean the files to get title, type, cast, year_added, rating, duration and description columns only. create **watch_later** and **favourite** `playlist` for the use of `User` class later. "
   ]
  },
  {
   "cell_type": "code",
   "execution_count": 2,
   "metadata": {},
   "outputs": [],
   "source": [
    "netflix_data = pd.read_csv('../data/netflix_titles.csv')\n",
    "netflix_data = netflix_data.drop(['show_id','director', 'country', 'release_year', 'listed_in'], axis = 1)\n",
    "netflix = StreamingService('Netflix', netflix_data) #create an instance of netflix\n",
    "watch_later = Playlist('watch_later', 10) #create a 'watch later' playlist\n",
    "favourite = FavouritePlaylist('Fav', 10)  #create a 'favourite' playlist"
   ]
  },
  {
   "cell_type": "markdown",
   "metadata": {},
   "source": [
    "Create one netflix subscriber to show how the `User` class operates. I will show as follows:\n",
    "\n",
    "    1. add the shows to user's favourite and watch later playlists\n",
    "    2. get the list of shows in watch later and favourite playlists\n",
    "    3. remove one show each from watch later and favourite playlists\n",
    "    4. user plays shows from watch_later and favourite playlists twice \n",
    "    5. get the history of shows and delete them afterwards\n",
    "   "
   ]
  },
  {
   "cell_type": "code",
   "execution_count": 3,
   "metadata": {},
   "outputs": [],
   "source": [
    "subscriber = User('2000-3-27', watch_later, favourite)\n",
    "later = ['Antar: Son of Shadad', 'Antariksha Ke Rakhwale','Anthony Bourdain: Parts Unknown', 'Anthony Jeselnik: Fire in the Maternity Ward','Anthony Jeselnik: Thoughts and Prayers','Antoine Griezmann: The Making of a Legend','Lucifer']\n",
    "fav = ['A Good Wife','A Grand Night In: The Story of Aardman','A Gray State','A Haunted House', 'A Haunting at Silver Falls: The Return','A Heavy Heart','A Holiday Engagement', 'Lucifer']\n",
    "for i in later:\n",
    "    subscriber.add_watch_later(netflix.get_show(i))\n",
    "for x in fav:\n",
    "    subscriber.add_favourite(netflix.get_show(x))"
   ]
  },
  {
   "cell_type": "code",
   "execution_count": 4,
   "metadata": {},
   "outputs": [
    {
     "name": "stdout",
     "output_type": "stream",
     "text": [
      "list of shows in subscriber's watch later playlist ['Antar: Son of Shadad', 'Antariksha Ke Rakhwale', 'Anthony Bourdain: Parts Unknown', 'Anthony Jeselnik: Fire in the Maternity Ward', 'Anthony Jeselnik: Thoughts and Prayers', 'Antoine Griezmann: The Making of a Legend', 'Lucifer'].\n",
      "----------------------------------------------------------------------\n",
      "list of shows in subscriber's favourite playlist ['A Good Wife', 'A Grand Night In: The Story of Aardman', 'A Gray State', 'A Haunted House', 'A Haunting at Silver Falls: The Return', 'A Heavy Heart', 'A Holiday Engagement', 'Lucifer'].\n",
      "----------------------------------------------------------------------\n",
      "two shows have been removed from the playlists\n",
      "['A Good Wife', 'A Gray State', 'A Haunted House', 'A Haunting at Silver Falls: The Return', 'A Heavy Heart', 'A Holiday Engagement', 'Lucifer']\n",
      "['Antar: Son of Shadad', 'Antariksha Ke Rakhwale', 'Anthony Jeselnik: Fire in the Maternity Ward', 'Anthony Jeselnik: Thoughts and Prayers', 'Antoine Griezmann: The Making of a Legend', 'Lucifer']\n"
     ]
    }
   ],
   "source": [
    "# 2 & 3\n",
    "list_of_watchlater = subscriber.get_watch_later()\n",
    "print(f\"list of shows in subscriber's watch later playlist {list_of_watchlater}.\")\n",
    "print('----------------------------------------------------------------------')\n",
    "\n",
    "list_of_fav = subscriber.get_favourite()\n",
    "print(f\"list of shows in subscriber's favourite playlist {list_of_fav}.\")\n",
    "print('----------------------------------------------------------------------')\n",
    "\n",
    "subscriber.remove_favourite('A Grand Night In: The Story of Aardman')\n",
    "subscriber.remove_watch_later('Anthony Bourdain: Parts Unknown')\n",
    "if 'A Grand Night In: The Story of Aardman' not in subscriber.get_favourite() and 'Anthony Bourdain: Parts Unknown' not in subscriber.get_watch_later():\n",
    "    print('two shows have been removed from the playlists')\n",
    "print(subscriber.get_favourite())\n",
    "print(subscriber.get_watch_later())"
   ]
  },
  {
   "cell_type": "markdown",
   "metadata": {},
   "source": [
    "as you can inspect from the list, both `A Grand Night In: The Story of Aardman` & `Anthony Bourdain: Parts Unknown`are not in the playlist as they have been removed."
   ]
  },
  {
   "cell_type": "code",
   "execution_count": 5,
   "metadata": {},
   "outputs": [
    {
     "name": "stdout",
     "output_type": "stream",
     "text": [
      "Playing the show Antar: Son of Shadad (110 min)\n",
      "Playing the show A Good Wife (1 Season)\n",
      "Playing the show Antariksha Ke Rakhwale (65 min)\n",
      "Playing the show A Gray State (93 min)\n",
      "list of shows that have been watched Antar: Son of Shadad, A Good Wife, Antariksha Ke Rakhwale, A Gray State.\n",
      "---------------------------------------------------------------\n",
      "no show in history\n"
     ]
    }
   ],
   "source": [
    "# 4 & 5\n",
    "for i in range (2):\n",
    "    subscriber.play_watch_later()\n",
    "    subscriber.play_favourite()\n",
    "\n",
    "history = subscriber.get_history()\n",
    "print(f\"list of shows that have been watched {', '.join(history)}.\")\n",
    "print('---------------------------------------------------------------')\n",
    "\n",
    "subscriber.clear_history()\n",
    "if len(subscriber.get_history()) == 0:\n",
    "    print(f'no show in history')\n",
    "else:\n",
    "    print(f'subscriber.get_history()')\n"
   ]
  },
  {
   "cell_type": "markdown",
   "metadata": {},
   "source": [
    "## Test `User`\n",
    "we first create another subscriber so that testing would not be affeted by code in `User` demostration above."
   ]
  },
  {
   "cell_type": "code",
   "execution_count": 6,
   "metadata": {},
   "outputs": [],
   "source": [
    "watch_later2 = Playlist('watch later playlist', 10) #create a new 'watch later' playlist\n",
    "favourite2 = FavouritePlaylist('Favourite playlist', 10)  #create a new 'favourite' playlist\n",
    "subscriber2 = User('1998-3-27', watch_later2, favourite2)\n",
    "for i in later: # we use the same list of shows as above\n",
    "    subscriber2.add_watch_later(netflix.get_show(i))\n",
    "for x in fav:\n",
    "    subscriber2.add_favourite(netflix.get_show(x))"
   ]
  },
  {
   "cell_type": "code",
   "execution_count": 7,
   "metadata": {},
   "outputs": [
    {
     "name": "stdout",
     "output_type": "stream",
     "text": [
      "Playing the show Antar: Son of Shadad (110 min)\n",
      "Playing the show A Good Wife (1 Season)\n",
      "Playing the show Lucifer (5 Seasons)\n",
      "Playing the show A Gray State (93 min)\n",
      "Playing the show A Haunted House (86 min)\n",
      "Playing the show A Haunting at Silver Falls: The Return (80 min)\n",
      "Playing the show A Heavy Heart (109 min)\n",
      "Playing the show A Holiday Engagement (92 min)\n",
      "Playing the show Lucifer (5 Seasons)\n",
      "Playing the show A Good Wife (1 Season)\n"
     ]
    }
   ],
   "source": [
    "# make sure that the show is added to the history list and removed from the playlist after being play\n",
    "subscriber2.play_watch_later()\n",
    "assert len(subscriber2.get_history()) == 1, 'the played show does not show up in history'\n",
    "assert len(subscriber2.get_watch_later()) == len(later) - 1, 'the show has not been removed from the playlist'\n",
    "\n",
    "# make sure that the show is added to the history list and nothing is removed from the playlist after being play\n",
    "subscriber2.play_favourite()\n",
    "assert len(subscriber2.get_history()) == 2, 'the played show does not show up in history'\n",
    "assert len(subscriber2.get_favourite()) == len(fav), 'the show should have not been removed from the playlist'\n",
    "assert len(subscriber2.get_watch_later()) == len(later) - 1, 'A show in watch later has been removed'\n",
    "\n",
    "# make sure that the show is added to the history list. As the show is existed in both playlist, it should be removed from watch later playlist however it is keep in favourite playlist.\n",
    "subscriber2.play_favourite('Lucifer')\n",
    "assert len(subscriber2.get_history()) == 3, 'the played show does not show up in history'\n",
    "assert len(subscriber2.get_favourite()) == len(fav), 'the show should have not been removed from the playlist'\n",
    "assert len(subscriber2.get_watch_later()) == len(later) - 2, 'A show in watch later has not been removed'\n",
    "\n",
    "#make sure that play_favourite() module does not play the same show everytime it is being called\n",
    "subscriber2.play_favourite()\n",
    "assert len(subscriber2.get_history()) == 4, 'the played show does not show up in history'\n",
    "assert len(subscriber2.get_favourite()) == len(fav), 'the show should have not been removed from the playlist'\n",
    "assert len(subscriber2.get_watch_later()) == len(later) - 2, 'A show in watch later has not been removed'\n",
    "assert subscriber2.get_history()[-1] == fav[2], 'the third show in the favourite list is not play, instead other show is playing'\n",
    "\n",
    "#make sure that play_favourite() plays the first show in the list after playing all the shows in the favourite list\n",
    "[subscriber2.play_favourite() for x in range(6)]\n",
    "assert subscriber2.get_history()[-1] == fav[0], 'The rotation of show for play function does  not work as intended'\n",
    " \n",
    "#make sure the age calculation works well\n",
    "assert subscriber2.get_age() == 23, 'Age is wrong'"
   ]
  },
  {
   "cell_type": "markdown",
   "metadata": {},
   "source": [
    "## Task 2 \n",
    "**Re-implement the search method for `StreamingService`**"
   ]
  },
  {
   "cell_type": "markdown",
   "metadata": {},
   "source": [
    "#### Program design"
   ]
  },
  {
   "cell_type": "markdown",
   "metadata": {},
   "source": [
    "One can access code structure for this section at [sentence.py](http://localhost:8888/edit/Documents/GitHub/LSE/2020-project-trixy-zero/src/sentence.py) where a function is created to filter out stop words and normalise words with the use of `NLTK` library, and [streaming_service.py](http://localhost:8888/edit/Documents/GitHub/LSE/2020-project-trixy-zero/src/streaming_service.py) for the search engine algorithms. "
   ]
  },
  {
   "cell_type": "markdown",
   "metadata": {},
   "source": [
    "##### Inverted index"
   ]
  },
  {
   "cell_type": "markdown",
   "metadata": {},
   "source": [
    "For this section, I use three main data available on csv.file namely cast, title and description from each show in order to build the indexing. I use `dict` container to keep all root words from that three information as `key` and its respective show's title (type: 'str') as `value`. I decided to use the show's title instead of its ID number because it is easy to maintain and reuse for other functionality in the code. For example, I can use the show's title to call its corresponding `Show` instantly from `self._show` data container, rather than having to convert the ID number to the show's title and only then calling it `Show`. Moreover, I decided to implement the indexing at the same time an instance of `StreamingService` is made so that the indexing can be saved in _init_ function rather than having to do the indexing every time search() method is called which may cause inefficiency.     "
   ]
  },
  {
   "cell_type": "markdown",
   "metadata": {},
   "source": [
    "Also, the use of the inverted index to find the relevant show from thousands of words is efficient. Assume that the number of searches is `k` and the number of words available across the three data used is `n`. For indexing, where we use dict as the container, each time `search()` module is called and, on average, it takes `O(1)` and, hence, in a total of all searches at the same time, it should be `O(k)`. However, if the brute force search is implemented, where it requires reiterating all `n` words to find the related shows, it may take on average `O(n)` and the total searches then should be `O(kn)` which is tremendously inefficient. "
   ]
  },
  {
   "cell_type": "markdown",
   "metadata": {},
   "source": [
    "#### Example from the task to show that the method works as intended."
   ]
  },
  {
   "cell_type": "code",
   "execution_count": 8,
   "metadata": {},
   "outputs": [
    {
     "name": "stdout",
     "output_type": "stream",
     "text": [
      "title: The Queen's Gambit, description: In a 1950s orphanage, a young girl reveals an astonishing talent for chess and begins an unlikely journey to stardom while grappling with addiction..\n"
     ]
    }
   ],
   "source": [
    "y = netflix.search('chess Anya')\n",
    "print(f'title: {y[0].get_title()}, description: {y[0].get_description()}.') "
   ]
  },
  {
   "cell_type": "markdown",
   "metadata": {},
   "source": [
    "#### Research into the functionality of the search engine. I will do a few searches to see the accuracy of the generated results."
   ]
  },
  {
   "cell_type": "markdown",
   "metadata": {},
   "source": [
    "##### Bad search examples"
   ]
  },
  {
   "cell_type": "code",
   "execution_count": 9,
   "metadata": {},
   "outputs": [
    {
     "name": "stdout",
     "output_type": "stream",
     "text": [
      "['Fear Files... Har Mod Pe Darr', 'Jeff Dunham: Minding the Monsters', 'The Charnel House', 'Ghost Patrol', 'Haunting on Fraternity Row', 'The Haunting of Bly Manor', 'The Haunting of Hill House', 'Krish Trish and Baltiboy: Face Your Fears', 'Haunted House', 'Insidious', 'The Good Neighbor', 'A Haunted House', 'House of the Witch']\n"
     ]
    }
   ],
   "source": [
    "x = netflix.search('haunted house')\n",
    "print([i.get_title() for i in x])"
   ]
  },
  {
   "cell_type": "code",
   "execution_count": 10,
   "metadata": {},
   "outputs": [
    {
     "name": "stdout",
     "output_type": "stream",
     "text": [
      "[\"Felipe Esparza: They're Not Going to Laugh at You\", 'Backfire', 'Ugly Aur Pagli', 'Running Man', 'Tere Naal Love Ho Gaya', 'Gentlemen and Gangsters', 'Yankee', 'Balu Mahi', 'III Smoking Barrels', 'Premachi Goshta', 'In Paradox', 'Running for Grace', 'Refresh Man', 'Tamanchey', 'Inception', \"Buster's Mal Heart\", 'Pandora', 'Soldier']\n"
     ]
    }
   ],
   "source": [
    "z = netflix.search('running man')\n",
    "print([i.get_title() for i in z])"
   ]
  },
  {
   "cell_type": "markdown",
   "metadata": {},
   "source": [
    "As we can see from the results above, the search engine does not work really well when the show's title is general. In other words, it is not unique. When `haunted house` and `running man` are given to the search engine in anticipation of finding **A Haunted House** and **Running Man** shows respectively, the search engine, however, returns a whole list of 'irrelevant' shows. Plus, the order of the list is random, hence, users might find it difficult to find their wanted show."
   ]
  },
  {
   "cell_type": "markdown",
   "metadata": {},
   "source": [
    "##### Good search examples"
   ]
  },
  {
   "cell_type": "code",
   "execution_count": 11,
   "metadata": {
    "scrolled": true
   },
   "outputs": [
    {
     "name": "stdout",
     "output_type": "stream",
     "text": [
      "['The Netflix Afterparty: The Best Shows of The Worst Year', \"The Queen's Gambit\", \"Creating The Queen's Gambit\"]\n"
     ]
    }
   ],
   "source": [
    "v = netflix.search(\"the queen's gambit\")\n",
    "print([i.get_title() for i in v])"
   ]
  },
  {
   "cell_type": "code",
   "execution_count": 12,
   "metadata": {},
   "outputs": [
    {
     "name": "stdout",
     "output_type": "stream",
     "text": [
      "['Lucifer']\n"
     ]
    }
   ],
   "source": [
    "b = netflix.search('lucifer')\n",
    "print([i.get_title() for i in b])"
   ]
  },
  {
   "cell_type": "markdown",
   "metadata": {},
   "source": [
    "These two are example of good searches. The search engine manages to find the exact show from the whole list of shows, albeit one unrelated show for `the queen's gambit`. Generally, it can achieve a good result given that the wanted show is unique enough for the engine to not find other relevant shows related to the input. "
   ]
  },
  {
   "cell_type": "markdown",
   "metadata": {},
   "source": [
    "## Task 3\n",
    "**Performance Analysis**"
   ]
  },
  {
   "cell_type": "markdown",
   "metadata": {},
   "source": [
    "Comparision between get_show() method, a search algorithm created in problem set 9 and searh() method, a well improved search engine powered by NLTK library and inverted index.    "
   ]
  },
  {
   "cell_type": "code",
   "execution_count": 13,
   "metadata": {},
   "outputs": [],
   "source": [
    "import time\n",
    "import random\n",
    "import pandas as pd"
   ]
  },
  {
   "cell_type": "markdown",
   "metadata": {},
   "source": [
    "#### Search Simulation"
   ]
  },
  {
   "cell_type": "markdown",
   "metadata": {},
   "source": [
    "In this section, I will run a simulation on two search engines which are `get_show()` and `search()` over a different number of searches ranging from 50 to 4500 different shows in order to measure three key areas.\n",
    "\n",
    "1. the efficiency of the retrieval time for each search engine. \n",
    "2. the accuracy of the search engine to return the relevant show.\n",
    "3. the relationship between the number of related terms to the show and the number of shows in the output.\n",
    "\n",
    "to achieve objective number 1, I have made a new method that can be accessed from `streaming_service.py`. "
   ]
  },
  {
   "cell_type": "code",
   "execution_count": 14,
   "metadata": {},
   "outputs": [
    {
     "name": "stdout",
     "output_type": "stream",
     "text": [
      "Sorry WHAT / IF is not found\n",
      "Sorry I Am is not found\n",
      "Sorry All of You is not found\n",
      "Sorry Now and Then is not found\n",
      "Sorry All of You is not found\n",
      "Sorry After is not found\n",
      "Sorry The Do-Over is not found\n",
      "Sorry Don is not found\n",
      "Sorry She Did That is not found\n",
      "Sorry She is not found\n",
      "Sorry Be with You is not found\n",
      "Sorry After is not found\n",
      "Sorry Now and Then is not found\n",
      "Sorry Just You is not found\n",
      "Sorry You is not found\n",
      "Sorry Her is not found\n",
      "Sorry Be Here Now is not found\n",
      "Sorry Be with You is not found\n",
      "Sorry The Do-Over is not found\n",
      "Sorry Just You is not found\n",
      "Sorry She is not found\n",
      "Sorry A.M.I. is not found\n",
      "Sorry I Am is not found\n",
      "Sorry Don is not found\n",
      "Sorry She Did That is not found\n",
      "Sorry You is not found\n",
      "Sorry The Other is not found\n",
      "Sorry Ares is not found\n",
      "Sorry I Am Me! is not found\n",
      "Sorry Haven is not found\n",
      "Sorry He's Out There is not found\n",
      "Sorry Be with You is not found\n",
      "Sorry All of You is not found\n",
      "Sorry Be with You is not found\n",
      "Sorry The Other is not found\n",
      "Sorry Don is not found\n",
      "Sorry Her is not found\n",
      "Sorry In Between is not found\n",
      "Sorry Now and Then is not found\n",
      "Sorry What If? is not found\n",
      "Sorry The Do-Over is not found\n",
      "Sorry After is not found\n",
      "Sorry Between is not found\n",
      "Sorry She is not found\n",
      "Sorry Be with You is not found\n",
      "Sorry What's Up? is not found\n",
      "Sorry What If? is not found\n",
      "Sorry Just You is not found\n",
      "Sorry She Did That is not found\n",
      "Sorry Now and Then is not found\n",
      "Sorry The Do-Over is not found\n",
      "Sorry After is not found\n",
      "Sorry Haven is not found\n",
      "Sorry Her is not found\n",
      "Sorry Between is not found\n",
      "Sorry After is not found\n",
      "Sorry In Between is not found\n",
      "Sorry Be with You is not found\n",
      "Sorry Haven is not found\n",
      "Sorry Be with Me is not found\n",
      "Sorry I Am is not found\n",
      "Sorry What If? is not found\n",
      "Sorry I Am Me! is not found\n",
      "Sorry She is not found\n",
      "Sorry The Other is not found\n",
      "Sorry You is not found\n",
      "Sorry Don is not found\n"
     ]
    }
   ],
   "source": [
    "num_to_select = [50, 100, 500, 1000, 1500, 2000, 2500, 3000, 3500, 4000, 4500]\n",
    "result = [] #Save the experiment data for each number of searches\n",
    "for y in num_to_select:\n",
    "    result.append(netflix.experiment(y))"
   ]
  },
  {
   "cell_type": "code",
   "execution_count": 15,
   "metadata": {},
   "outputs": [
    {
     "data": {
      "text/plain": [
       "<AxesSubplot:>"
      ]
     },
     "execution_count": 15,
     "metadata": {},
     "output_type": "execute_result"
    },
    {
     "data": {
      "image/png": "[encoded data removed]",
      "text/plain": [
       "<Figure size 432x288 with 1 Axes>"
      ]
     },
     "metadata": {
      "needs_background": "light"
     },
     "output_type": "display_data"
    }
   ],
   "source": [
    "result_pd = pd.DataFrame(result, index =[50, 100, 500, 1000, 1500, 2000, 2500, 3000, 3500, 4000, 4500], columns = ['naive_search', 'smart_search', 'average_unwanted_shows'])\n",
    "result_pd.plot(y=['naive_search','smart_search'])"
   ]
  },
  {
   "cell_type": "markdown",
   "metadata": {},
   "source": [
    "As we can see from the graph, the rate of increase of retrieval time for a smart search has increased significantly compared to naive search which indicates that the smart search take more time to process as the number of searches is increasing.  "
   ]
  },
  {
   "cell_type": "code",
   "execution_count": 16,
   "metadata": {
    "scrolled": true
   },
   "outputs": [
    {
     "data": {
      "text/plain": [
       "<AxesSubplot:>"
      ]
     },
     "execution_count": 16,
     "metadata": {},
     "output_type": "execute_result"
    },
    {
     "data": {
      "image/png": "[encoded data removed]",
      "text/plain": [
       "<Figure size 432x288 with 1 Axes>"
      ]
     },
     "metadata": {
      "needs_background": "light"
     },
     "output_type": "display_data"
    }
   ],
   "source": [
    "result_pd.plot(y=['average_unwanted_shows'], kind='bar')"
   ]
  },
  {
   "cell_type": "markdown",
   "metadata": {},
   "source": [
    "The bar chart above tells us that the average number of irrelevant shows is hovering around 9 and 10 shows for every search. Although the search engine is not very accurate and takes a longer time to process when a huge amount of exact titles are given, the nature of the algorithm may reflect the real world more than the naive search engine. "
   ]
  },
  {
   "cell_type": "code",
   "execution_count": 17,
   "metadata": {},
   "outputs": [
    {
     "data": {
      "text/html": [
       "<div>\n",
       "<style scoped>\n",
       "    .dataframe tbody tr th:only-of-type {\n",
       "        vertical-align: middle;\n",
       "    }\n",
       "\n",
       "    .dataframe tbody tr th {\n",
       "        vertical-align: top;\n",
       "    }\n",
       "\n",
       "    .dataframe thead th {\n",
       "        text-align: right;\n",
       "    }\n",
       "</style>\n",
       "<table border=\"1\" class=\"dataframe\">\n",
       "  <thead>\n",
       "    <tr style=\"text-align: right;\">\n",
       "      <th></th>\n",
       "      <th>naive_search</th>\n",
       "      <th>smart_search</th>\n",
       "      <th>average_unwanted_shows</th>\n",
       "      <th>average_time_for_naive</th>\n",
       "      <th>average_time_for_smart</th>\n",
       "      <th>ratio S:N</th>\n",
       "    </tr>\n",
       "  </thead>\n",
       "  <tbody>\n",
       "    <tr>\n",
       "      <th>50</th>\n",
       "      <td>0.007999</td>\n",
       "      <td>0.431034</td>\n",
       "      <td>15.76</td>\n",
       "      <td>0.000160</td>\n",
       "      <td>0.008621</td>\n",
       "      <td>53.884743</td>\n",
       "    </tr>\n",
       "    <tr>\n",
       "      <th>100</th>\n",
       "      <td>0.013012</td>\n",
       "      <td>0.883088</td>\n",
       "      <td>8.31</td>\n",
       "      <td>0.000130</td>\n",
       "      <td>0.008831</td>\n",
       "      <td>67.868786</td>\n",
       "    </tr>\n",
       "    <tr>\n",
       "      <th>500</th>\n",
       "      <td>0.079020</td>\n",
       "      <td>5.366966</td>\n",
       "      <td>7.68</td>\n",
       "      <td>0.000158</td>\n",
       "      <td>0.010734</td>\n",
       "      <td>67.919477</td>\n",
       "    </tr>\n",
       "    <tr>\n",
       "      <th>1000</th>\n",
       "      <td>0.165013</td>\n",
       "      <td>8.231108</td>\n",
       "      <td>7.81</td>\n",
       "      <td>0.000165</td>\n",
       "      <td>0.008231</td>\n",
       "      <td>49.881550</td>\n",
       "    </tr>\n",
       "    <tr>\n",
       "      <th>1500</th>\n",
       "      <td>0.229551</td>\n",
       "      <td>13.382910</td>\n",
       "      <td>10.93</td>\n",
       "      <td>0.000153</td>\n",
       "      <td>0.008922</td>\n",
       "      <td>58.300417</td>\n",
       "    </tr>\n",
       "    <tr>\n",
       "      <th>2000</th>\n",
       "      <td>0.360040</td>\n",
       "      <td>17.274392</td>\n",
       "      <td>10.78</td>\n",
       "      <td>0.000180</td>\n",
       "      <td>0.008637</td>\n",
       "      <td>47.979066</td>\n",
       "    </tr>\n",
       "    <tr>\n",
       "      <th>2500</th>\n",
       "      <td>0.443860</td>\n",
       "      <td>22.252762</td>\n",
       "      <td>9.68</td>\n",
       "      <td>0.000178</td>\n",
       "      <td>0.008901</td>\n",
       "      <td>50.134661</td>\n",
       "    </tr>\n",
       "    <tr>\n",
       "      <th>3000</th>\n",
       "      <td>0.461054</td>\n",
       "      <td>26.237436</td>\n",
       "      <td>8.66</td>\n",
       "      <td>0.000154</td>\n",
       "      <td>0.008746</td>\n",
       "      <td>56.907472</td>\n",
       "    </tr>\n",
       "    <tr>\n",
       "      <th>3500</th>\n",
       "      <td>0.505038</td>\n",
       "      <td>23.430033</td>\n",
       "      <td>9.68</td>\n",
       "      <td>0.000144</td>\n",
       "      <td>0.006694</td>\n",
       "      <td>46.392589</td>\n",
       "    </tr>\n",
       "    <tr>\n",
       "      <th>4000</th>\n",
       "      <td>0.625078</td>\n",
       "      <td>26.394985</td>\n",
       "      <td>9.98</td>\n",
       "      <td>0.000156</td>\n",
       "      <td>0.006599</td>\n",
       "      <td>42.226724</td>\n",
       "    </tr>\n",
       "    <tr>\n",
       "      <th>4500</th>\n",
       "      <td>0.607062</td>\n",
       "      <td>30.902129</td>\n",
       "      <td>8.69</td>\n",
       "      <td>0.000135</td>\n",
       "      <td>0.006867</td>\n",
       "      <td>50.904375</td>\n",
       "    </tr>\n",
       "  </tbody>\n",
       "</table>\n",
       "</div>"
      ],
      "text/plain": [
       "      naive_search  smart_search  average_unwanted_shows  \\\n",
       "50        0.007999      0.431034                   15.76   \n",
       "100       0.013012      0.883088                    8.31   \n",
       "500       0.079020      5.366966                    7.68   \n",
       "1000      0.165013      8.231108                    7.81   \n",
       "1500      0.229551     13.382910                   10.93   \n",
       "2000      0.360040     17.274392                   10.78   \n",
       "2500      0.443860     22.252762                    9.68   \n",
       "3000      0.461054     26.237436                    8.66   \n",
       "3500      0.505038     23.430033                    9.68   \n",
       "4000      0.625078     26.394985                    9.98   \n",
       "4500      0.607062     30.902129                    8.69   \n",
       "\n",
       "      average_time_for_naive  average_time_for_smart  ratio S:N  \n",
       "50                  0.000160                0.008621  53.884743  \n",
       "100                 0.000130                0.008831  67.868786  \n",
       "500                 0.000158                0.010734  67.919477  \n",
       "1000                0.000165                0.008231  49.881550  \n",
       "1500                0.000153                0.008922  58.300417  \n",
       "2000                0.000180                0.008637  47.979066  \n",
       "2500                0.000178                0.008901  50.134661  \n",
       "3000                0.000154                0.008746  56.907472  \n",
       "3500                0.000144                0.006694  46.392589  \n",
       "4000                0.000156                0.006599  42.226724  \n",
       "4500                0.000135                0.006867  50.904375  "
      ]
     },
     "execution_count": 17,
     "metadata": {},
     "output_type": "execute_result"
    }
   ],
   "source": [
    "result_pd['average_time_for_naive'] = result_pd['naive_search']/result_pd.index\n",
    "result_pd['average_time_for_smart'] = result_pd['smart_search']/result_pd.index\n",
    "result_pd['ratio S:N'] = result_pd['smart_search']/result_pd['naive_search']\n",
    "result_pd "
   ]
  },
  {
   "cell_type": "markdown",
   "metadata": {},
   "source": [
    "`naive_search` is a column that stores the retrival time for get_show() method in respect to the number of searches. Meanwhile,`smart_search` is the retrival time for search() method. `average_unwanted_show` is the mean of irrelevant shows that were included in the ouput of search() method. "
   ]
  },
  {
   "cell_type": "markdown",
   "metadata": {},
   "source": [
    "Next, I will also run a simulation to find a relationship between the number of terms given and the number of shows that were returned. To do this, I take each title, break it down into terms and let the code run to find the show. for example, if the show's title is \"The Queen's Gambit\", it will be broken down into three terms `The`, `Queen's`, `Gambit`. Then, the first term will be searched by the search engine. As it progresses, the number of the term is increased by one until the whole title is searched. The number of shows will then be recorded."
   ]
  },
  {
   "cell_type": "code",
   "execution_count": 18,
   "metadata": {},
   "outputs": [
    {
     "name": "stdout",
     "output_type": "stream",
     "text": [
      "Sorry The is not found\n",
      "Sorry The is not found\n",
      "Sorry A is not found\n",
      "Sorry Ares is not found\n",
      "Sorry The is not found\n",
      "Sorry The Other is not found\n",
      "Sorry I is not found\n",
      "Sorry I Don't is not found\n",
      "Sorry He is not found\n",
      "Sorry The is not found\n",
      "Sorry Too is not found\n",
      "Sorry Between is not found\n",
      "Sorry The is not found\n",
      "Sorry The is not found\n",
      "Sorry The is not found\n",
      "Sorry The is not found\n",
      "Sorry We is not found\n",
      "Sorry We Can is not found\n",
      "Sorry We Can Be is not found\n",
      "Sorry It is not found\n",
      "Sorry What is not found\n",
      "Sorry What the is not found\n",
      "Sorry The is not found\n",
      "Sorry The is not found\n",
      "Sorry The is not found\n",
      "Sorry The is not found\n",
      "Sorry In is not found\n",
      "Sorry He is not found\n",
      "Sorry The is not found\n",
      "Sorry The is not found\n",
      "Sorry For is not found\n",
      "Sorry The is not found\n",
      "Sorry The is not found\n",
      "Sorry The is not found\n",
      "Sorry The is not found\n",
      "Sorry The is not found\n",
      "Sorry The is not found\n",
      "Sorry The is not found\n",
      "Sorry The is not found\n",
      "Sorry The is not found\n",
      "Sorry A is not found\n",
      "Sorry The is not found\n",
      "Sorry The is not found\n",
      "Sorry The is not found\n",
      "Sorry My is not found\n",
      "Sorry The is not found\n",
      "Sorry The is not found\n",
      "Sorry The is not found\n",
      "Sorry A is not found\n",
      "Sorry Be is not found\n",
      "Sorry Be Here is not found\n",
      "Sorry Be Here Now is not found\n",
      "Sorry The is not found\n",
      "Sorry To is not found\n",
      "Sorry To All is not found\n",
      "Sorry To All the is not found\n",
      "Sorry The is not found\n",
      "Sorry A is not found\n",
      "Sorry The is not found\n",
      "Sorry The is not found\n",
      "Sorry The is not found\n",
      "Sorry The is not found\n",
      "Sorry Your is not found\n",
      "Sorry The is not found\n",
      "Sorry Being is not found\n",
      "Sorry Our is not found\n",
      "Sorry The is not found\n",
      "Sorry The is not found\n",
      "Sorry How is not found\n",
      "Sorry How to is not found\n",
      "Sorry How to Be is not found\n",
      "Sorry How to Be a is not found\n",
      "Sorry A is not found\n",
      "Sorry The is not found\n",
      "Sorry The is not found\n",
      "Sorry The is not found\n",
      "Sorry The is not found\n",
      "Sorry Who is not found\n",
      "Sorry The is not found\n",
      "Sorry All is not found\n",
      "Sorry All the is not found\n",
      "Sorry My is not found\n",
      "Sorry We is not found\n",
      "Sorry We Are is not found\n",
      "Sorry We Are the is not found\n",
      "Sorry The is not found\n",
      "Sorry The is not found\n",
      "Sorry The is not found\n",
      "Sorry All is not found\n",
      "Sorry All In is not found\n",
      "Sorry All In My is not found\n",
      "Sorry A is not found\n",
      "Sorry You're is not found\n",
      "Sorry You're My is not found\n",
      "Sorry The is not found\n",
      "Sorry The is not found\n",
      "Sorry The is not found\n",
      "Sorry The is not found\n",
      "Sorry The is not found\n",
      "Sorry The is not found\n",
      "Sorry What is not found\n",
      "Sorry A is not found\n",
      "Sorry The is not found\n",
      "Sorry A is not found\n",
      "Sorry Just is not found\n",
      "Sorry What is not found\n",
      "Sorry What Did is not found\n",
      "Sorry What Did I is not found\n",
      "Sorry How is not found\n",
      "Sorry How to is not found\n",
      "Sorry The is not found\n",
      "Sorry I is not found\n",
      "Sorry I Am is not found\n",
      "Sorry The is not found\n",
      "Sorry No is not found\n",
      "Sorry The is not found\n",
      "Sorry A is not found\n",
      "Sorry My is not found\n",
      "Sorry The is not found\n",
      "Sorry I is not found\n",
      "Sorry I Am is not found\n",
      "Sorry The is not found\n",
      "Sorry The is not found\n",
      "Sorry The is not found\n",
      "Sorry A is not found\n",
      "Sorry The is not found\n",
      "Sorry A is not found\n",
      "Sorry The is not found\n",
      "Sorry The is not found\n",
      "Sorry The is not found\n",
      "Sorry My is not found\n",
      "Sorry The is not found\n",
      "Sorry All is not found\n",
      "Sorry All About is not found\n",
      "Sorry The is not found\n",
      "Sorry The is not found\n",
      "Sorry The is not found\n",
      "Sorry The is not found\n",
      "Sorry On is not found\n",
      "Sorry The is not found\n",
      "Sorry A is not found\n",
      "Sorry Be is not found\n",
      "Sorry Be with is not found\n",
      "Sorry Be with Me is not found\n",
      "Sorry An is not found\n",
      "Sorry The is not found\n",
      "Sorry They've is not found\n",
      "Sorry The is not found\n",
      "Sorry How is not found\n",
      "Sorry How the is not found\n",
      "Sorry The is not found\n",
      "Sorry The is not found\n",
      "Sorry Was is not found\n",
      "Sorry Was It is not found\n",
      "Sorry The is not found\n",
      "Sorry The is not found\n",
      "Sorry The is not found\n",
      "Sorry The Do-Over is not found\n",
      "Sorry To is not found\n",
      "Sorry To Be is not found\n",
      "Sorry To Be of is not found\n",
      "Sorry The is not found\n",
      "Sorry The is not found\n",
      "Sorry The is not found\n",
      "Sorry A is not found\n",
      "Sorry The is not found\n",
      "Sorry Under is not found\n",
      "Sorry Under the is not found\n",
      "Sorry My is not found\n",
      "Sorry The is not found\n",
      "Sorry The is not found\n",
      "Sorry The is not found\n",
      "Sorry The is not found\n",
      "Sorry The is not found\n",
      "Sorry The is not found\n",
      "Sorry The is not found\n",
      "Sorry The is not found\n",
      "Sorry The is not found\n",
      "Sorry The is not found\n",
      "Sorry The Other is not found\n",
      "Sorry A is not found\n",
      "Sorry A is not found\n",
      "Sorry The is not found\n",
      "Sorry My is not found\n",
      "Sorry We is not found\n",
      "Sorry Is is not found\n",
      "Sorry Is It is not found\n",
      "Sorry The is not found\n",
      "Sorry Do is not found\n",
      "Sorry Do Do is not found\n",
      "Sorry I is not found\n",
      "Sorry I Am is not found\n",
      "Sorry I Am not is not found\n",
      "Sorry I Am not an is not found\n",
      "Sorry The is not found\n",
      "Sorry The is not found\n",
      "Sorry Our is not found\n",
      "Sorry The is not found\n",
      "Sorry The is not found\n",
      "Sorry The is not found\n",
      "Sorry The is not found\n",
      "Sorry A is not found\n",
      "Sorry The is not found\n",
      "Sorry The is not found\n",
      "Sorry The is not found\n",
      "Sorry You're is not found\n",
      "Sorry Into is not found\n",
      "Sorry Into the is not found\n",
      "Sorry The is not found\n",
      "Sorry How is not found\n",
      "Sorry How to is not found\n",
      "Sorry The is not found\n",
      "Sorry The is not found\n",
      "Sorry The is not found\n",
      "Sorry The is not found\n",
      "Sorry An is not found\n",
      "Sorry It's is not found\n",
      "Sorry Is is not found\n",
      "Sorry The is not found\n",
      "Sorry The is not found\n",
      "Sorry After is not found\n",
      "Sorry The is not found\n",
      "Sorry The is not found\n",
      "Sorry The is not found\n",
      "Sorry The is not found\n",
      "Sorry The is not found\n",
      "Sorry All is not found\n",
      "Sorry All the is not found\n",
      "Sorry In is not found\n",
      "Sorry In the is not found\n",
      "Sorry The is not found\n",
      "Sorry For is not found\n",
      "Sorry For Your is not found\n",
      "Sorry For Your Own is not found\n",
      "Sorry The is not found\n",
      "Sorry An is not found\n",
      "Sorry In is not found\n",
      "Sorry The is not found\n",
      "Sorry He is not found\n",
      "Sorry The is not found\n",
      "Sorry The is not found\n",
      "Sorry The is not found\n",
      "Sorry The is not found\n",
      "Sorry Against is not found\n",
      "Sorry Against the is not found\n",
      "Sorry In is not found\n",
      "Sorry In Between is not found\n",
      "Sorry A is not found\n",
      "Sorry The is not found\n",
      "Sorry The is not found\n",
      "Sorry A is not found\n",
      "Sorry It's is not found\n",
      "Sorry It's Her is not found\n",
      "Sorry The is not found\n",
      "Sorry The is not found\n",
      "Sorry The is not found\n",
      "Sorry The is not found\n",
      "Sorry The is not found\n",
      "Sorry You is not found\n",
      "Sorry Don't is not found\n",
      "Sorry That is not found\n",
      "Sorry The is not found\n",
      "Sorry The is not found\n",
      "Sorry When is not found\n",
      "Sorry About is not found\n",
      "Sorry The is not found\n",
      "Sorry My is not found\n",
      "Sorry A is not found\n",
      "Sorry The is not found\n",
      "Sorry Off is not found\n",
      "Sorry A is not found\n",
      "Sorry The is not found\n",
      "Sorry The is not found\n",
      "Sorry The is not found\n",
      "Sorry We is not found\n",
      "Sorry We Are is not found\n"
     ]
    }
   ],
   "source": [
    "random_shows_exp2 = random.sample(netflix.get_all_shows(),1000)\n",
    "memory = []\n",
    "for show in random_shows_exp2:\n",
    "    save = {}\n",
    "    filteration = show.split() #Split the words of the title shows\n",
    "    for word in range(1, len(filteration)+1):\n",
    "        a = filteration[:word]\n",
    "        list_of_shows = netflix.search(' '.join(a))\n",
    "        if list_of_shows != None:\n",
    "            save[(word)] = len(list_of_shows)\n",
    "        else:\n",
    "            save[(word)] = 0\n",
    "    memory.append(save)"
   ]
  },
  {
   "cell_type": "markdown",
   "metadata": {},
   "source": [
    "#### Cleaning the data"
   ]
  },
  {
   "cell_type": "code",
   "execution_count": 24,
   "metadata": {
    "scrolled": true
   },
   "outputs": [
    {
     "data": {
      "text/html": [
       "<div>\n",
       "<style scoped>\n",
       "    .dataframe tbody tr th:only-of-type {\n",
       "        vertical-align: middle;\n",
       "    }\n",
       "\n",
       "    .dataframe tbody tr th {\n",
       "        vertical-align: top;\n",
       "    }\n",
       "\n",
       "    .dataframe thead th {\n",
       "        text-align: right;\n",
       "    }\n",
       "</style>\n",
       "<table border=\"1\" class=\"dataframe\">\n",
       "  <thead>\n",
       "    <tr style=\"text-align: right;\">\n",
       "      <th></th>\n",
       "      <th>1</th>\n",
       "      <th>2</th>\n",
       "      <th>3</th>\n",
       "      <th>4</th>\n",
       "      <th>5</th>\n",
       "      <th>6</th>\n",
       "      <th>7</th>\n",
       "      <th>8</th>\n",
       "      <th>9</th>\n",
       "      <th>10</th>\n",
       "      <th>11</th>\n",
       "      <th>12</th>\n",
       "      <th>13</th>\n",
       "      <th>14</th>\n",
       "      <th>15</th>\n",
       "      <th>16</th>\n",
       "      <th>17</th>\n",
       "    </tr>\n",
       "  </thead>\n",
       "  <tbody>\n",
       "    <tr>\n",
       "      <th>0</th>\n",
       "      <td>1</td>\n",
       "      <td>1.0</td>\n",
       "      <td>1.0</td>\n",
       "      <td>NaN</td>\n",
       "      <td>NaN</td>\n",
       "      <td>NaN</td>\n",
       "      <td>NaN</td>\n",
       "      <td>NaN</td>\n",
       "      <td>NaN</td>\n",
       "      <td>NaN</td>\n",
       "      <td>NaN</td>\n",
       "      <td>NaN</td>\n",
       "      <td>NaN</td>\n",
       "      <td>NaN</td>\n",
       "      <td>NaN</td>\n",
       "      <td>NaN</td>\n",
       "      <td>NaN</td>\n",
       "    </tr>\n",
       "    <tr>\n",
       "      <th>1</th>\n",
       "      <td>0</td>\n",
       "      <td>106.0</td>\n",
       "      <td>106.0</td>\n",
       "      <td>1.0</td>\n",
       "      <td>1.0</td>\n",
       "      <td>1.0</td>\n",
       "      <td>NaN</td>\n",
       "      <td>NaN</td>\n",
       "      <td>NaN</td>\n",
       "      <td>NaN</td>\n",
       "      <td>NaN</td>\n",
       "      <td>NaN</td>\n",
       "      <td>NaN</td>\n",
       "      <td>NaN</td>\n",
       "      <td>NaN</td>\n",
       "      <td>NaN</td>\n",
       "      <td>NaN</td>\n",
       "    </tr>\n",
       "    <tr>\n",
       "      <th>2</th>\n",
       "      <td>52</td>\n",
       "      <td>52.0</td>\n",
       "      <td>1.0</td>\n",
       "      <td>NaN</td>\n",
       "      <td>NaN</td>\n",
       "      <td>NaN</td>\n",
       "      <td>NaN</td>\n",
       "      <td>NaN</td>\n",
       "      <td>NaN</td>\n",
       "      <td>NaN</td>\n",
       "      <td>NaN</td>\n",
       "      <td>NaN</td>\n",
       "      <td>NaN</td>\n",
       "      <td>NaN</td>\n",
       "      <td>NaN</td>\n",
       "      <td>NaN</td>\n",
       "      <td>NaN</td>\n",
       "    </tr>\n",
       "    <tr>\n",
       "      <th>3</th>\n",
       "      <td>70</td>\n",
       "      <td>6.0</td>\n",
       "      <td>NaN</td>\n",
       "      <td>NaN</td>\n",
       "      <td>NaN</td>\n",
       "      <td>NaN</td>\n",
       "      <td>NaN</td>\n",
       "      <td>NaN</td>\n",
       "      <td>NaN</td>\n",
       "      <td>NaN</td>\n",
       "      <td>NaN</td>\n",
       "      <td>NaN</td>\n",
       "      <td>NaN</td>\n",
       "      <td>NaN</td>\n",
       "      <td>NaN</td>\n",
       "      <td>NaN</td>\n",
       "      <td>NaN</td>\n",
       "    </tr>\n",
       "    <tr>\n",
       "      <th>4</th>\n",
       "      <td>15</td>\n",
       "      <td>13.0</td>\n",
       "      <td>13.0</td>\n",
       "      <td>5.0</td>\n",
       "      <td>5.0</td>\n",
       "      <td>1.0</td>\n",
       "      <td>1.0</td>\n",
       "      <td>NaN</td>\n",
       "      <td>NaN</td>\n",
       "      <td>NaN</td>\n",
       "      <td>NaN</td>\n",
       "      <td>NaN</td>\n",
       "      <td>NaN</td>\n",
       "      <td>NaN</td>\n",
       "      <td>NaN</td>\n",
       "      <td>NaN</td>\n",
       "      <td>NaN</td>\n",
       "    </tr>\n",
       "    <tr>\n",
       "      <th>...</th>\n",
       "      <td>...</td>\n",
       "      <td>...</td>\n",
       "      <td>...</td>\n",
       "      <td>...</td>\n",
       "      <td>...</td>\n",
       "      <td>...</td>\n",
       "      <td>...</td>\n",
       "      <td>...</td>\n",
       "      <td>...</td>\n",
       "      <td>...</td>\n",
       "      <td>...</td>\n",
       "      <td>...</td>\n",
       "      <td>...</td>\n",
       "      <td>...</td>\n",
       "      <td>...</td>\n",
       "      <td>...</td>\n",
       "      <td>...</td>\n",
       "    </tr>\n",
       "    <tr>\n",
       "      <th>995</th>\n",
       "      <td>0</td>\n",
       "      <td>34.0</td>\n",
       "      <td>NaN</td>\n",
       "      <td>NaN</td>\n",
       "      <td>NaN</td>\n",
       "      <td>NaN</td>\n",
       "      <td>NaN</td>\n",
       "      <td>NaN</td>\n",
       "      <td>NaN</td>\n",
       "      <td>NaN</td>\n",
       "      <td>NaN</td>\n",
       "      <td>NaN</td>\n",
       "      <td>NaN</td>\n",
       "      <td>NaN</td>\n",
       "      <td>NaN</td>\n",
       "      <td>NaN</td>\n",
       "      <td>NaN</td>\n",
       "    </tr>\n",
       "    <tr>\n",
       "      <th>996</th>\n",
       "      <td>1</td>\n",
       "      <td>NaN</td>\n",
       "      <td>NaN</td>\n",
       "      <td>NaN</td>\n",
       "      <td>NaN</td>\n",
       "      <td>NaN</td>\n",
       "      <td>NaN</td>\n",
       "      <td>NaN</td>\n",
       "      <td>NaN</td>\n",
       "      <td>NaN</td>\n",
       "      <td>NaN</td>\n",
       "      <td>NaN</td>\n",
       "      <td>NaN</td>\n",
       "      <td>NaN</td>\n",
       "      <td>NaN</td>\n",
       "      <td>NaN</td>\n",
       "      <td>NaN</td>\n",
       "    </tr>\n",
       "    <tr>\n",
       "      <th>997</th>\n",
       "      <td>1</td>\n",
       "      <td>1.0</td>\n",
       "      <td>NaN</td>\n",
       "      <td>NaN</td>\n",
       "      <td>NaN</td>\n",
       "      <td>NaN</td>\n",
       "      <td>NaN</td>\n",
       "      <td>NaN</td>\n",
       "      <td>NaN</td>\n",
       "      <td>NaN</td>\n",
       "      <td>NaN</td>\n",
       "      <td>NaN</td>\n",
       "      <td>NaN</td>\n",
       "      <td>NaN</td>\n",
       "      <td>NaN</td>\n",
       "      <td>NaN</td>\n",
       "      <td>NaN</td>\n",
       "    </tr>\n",
       "    <tr>\n",
       "      <th>998</th>\n",
       "      <td>1</td>\n",
       "      <td>NaN</td>\n",
       "      <td>NaN</td>\n",
       "      <td>NaN</td>\n",
       "      <td>NaN</td>\n",
       "      <td>NaN</td>\n",
       "      <td>NaN</td>\n",
       "      <td>NaN</td>\n",
       "      <td>NaN</td>\n",
       "      <td>NaN</td>\n",
       "      <td>NaN</td>\n",
       "      <td>NaN</td>\n",
       "      <td>NaN</td>\n",
       "      <td>NaN</td>\n",
       "      <td>NaN</td>\n",
       "      <td>NaN</td>\n",
       "      <td>NaN</td>\n",
       "    </tr>\n",
       "    <tr>\n",
       "      <th>999</th>\n",
       "      <td>0</td>\n",
       "      <td>0.0</td>\n",
       "      <td>379.0</td>\n",
       "      <td>NaN</td>\n",
       "      <td>NaN</td>\n",
       "      <td>NaN</td>\n",
       "      <td>NaN</td>\n",
       "      <td>NaN</td>\n",
       "      <td>NaN</td>\n",
       "      <td>NaN</td>\n",
       "      <td>NaN</td>\n",
       "      <td>NaN</td>\n",
       "      <td>NaN</td>\n",
       "      <td>NaN</td>\n",
       "      <td>NaN</td>\n",
       "      <td>NaN</td>\n",
       "      <td>NaN</td>\n",
       "    </tr>\n",
       "  </tbody>\n",
       "</table>\n",
       "<p>1000 rows × 17 columns</p>\n",
       "</div>"
      ],
      "text/plain": [
       "     1      2      3    4    5    6    7   8   9   10  11  12  13  14  15  16  \\\n",
       "0     1    1.0    1.0  NaN  NaN  NaN  NaN NaN NaN NaN NaN NaN NaN NaN NaN NaN   \n",
       "1     0  106.0  106.0  1.0  1.0  1.0  NaN NaN NaN NaN NaN NaN NaN NaN NaN NaN   \n",
       "2    52   52.0    1.0  NaN  NaN  NaN  NaN NaN NaN NaN NaN NaN NaN NaN NaN NaN   \n",
       "3    70    6.0    NaN  NaN  NaN  NaN  NaN NaN NaN NaN NaN NaN NaN NaN NaN NaN   \n",
       "4    15   13.0   13.0  5.0  5.0  1.0  1.0 NaN NaN NaN NaN NaN NaN NaN NaN NaN   \n",
       "..   ..    ...    ...  ...  ...  ...  ...  ..  ..  ..  ..  ..  ..  ..  ..  ..   \n",
       "995   0   34.0    NaN  NaN  NaN  NaN  NaN NaN NaN NaN NaN NaN NaN NaN NaN NaN   \n",
       "996   1    NaN    NaN  NaN  NaN  NaN  NaN NaN NaN NaN NaN NaN NaN NaN NaN NaN   \n",
       "997   1    1.0    NaN  NaN  NaN  NaN  NaN NaN NaN NaN NaN NaN NaN NaN NaN NaN   \n",
       "998   1    NaN    NaN  NaN  NaN  NaN  NaN NaN NaN NaN NaN NaN NaN NaN NaN NaN   \n",
       "999   0    0.0  379.0  NaN  NaN  NaN  NaN NaN NaN NaN NaN NaN NaN NaN NaN NaN   \n",
       "\n",
       "     17  \n",
       "0   NaN  \n",
       "1   NaN  \n",
       "2   NaN  \n",
       "3   NaN  \n",
       "4   NaN  \n",
       "..   ..  \n",
       "995 NaN  \n",
       "996 NaN  \n",
       "997 NaN  \n",
       "998 NaN  \n",
       "999 NaN  \n",
       "\n",
       "[1000 rows x 17 columns]"
      ]
     },
     "execution_count": 24,
     "metadata": {},
     "output_type": "execute_result"
    }
   ],
   "source": [
    "memory_df = pd.DataFrame(memory)\n",
    "memory_df"
   ]
  },
  {
   "cell_type": "markdown",
   "metadata": {},
   "source": [
    "Due to the fact that some shows' titles are very long and, indeed, some of them have more than 10 words. Therefore, to make the analysis simpler, I have decided to drop out all shows that have more than 7 terms."
   ]
  },
  {
   "cell_type": "code",
   "execution_count": 25,
   "metadata": {},
   "outputs": [
    {
     "name": "stdout",
     "output_type": "stream",
     "text": [
      "we have deleted 28 number of irrelavant shows\n"
     ]
    }
   ],
   "source": [
    "row_17 = memory_df[memory_df[17].notnull() | memory_df[16].notnull() | memory_df[15].notnull()| memory_df[14].notnull()| memory_df[13].notnull() |memory_df[12].notnull()| memory_df[11].notnull()| memory_df[10].notnull()|memory_df[9].notnull()| memory_df[8].notnull()].index\n",
    "num_del_row = len(row_17)\n",
    "memory_df.drop(row_17, inplace=True)\n",
    "print(f'we have deleted {num_del_row} number of irrelavant shows')"
   ]
  },
  {
   "cell_type": "code",
   "execution_count": 26,
   "metadata": {},
   "outputs": [
    {
     "data": {
      "text/html": [
       "<div>\n",
       "<style scoped>\n",
       "    .dataframe tbody tr th:only-of-type {\n",
       "        vertical-align: middle;\n",
       "    }\n",
       "\n",
       "    .dataframe tbody tr th {\n",
       "        vertical-align: top;\n",
       "    }\n",
       "\n",
       "    .dataframe thead th {\n",
       "        text-align: right;\n",
       "    }\n",
       "</style>\n",
       "<table border=\"1\" class=\"dataframe\">\n",
       "  <thead>\n",
       "    <tr style=\"text-align: right;\">\n",
       "      <th></th>\n",
       "      <th>1</th>\n",
       "      <th>2</th>\n",
       "      <th>3</th>\n",
       "      <th>4</th>\n",
       "      <th>5</th>\n",
       "      <th>6</th>\n",
       "      <th>7</th>\n",
       "    </tr>\n",
       "  </thead>\n",
       "  <tbody>\n",
       "    <tr>\n",
       "      <th>0</th>\n",
       "      <td>1</td>\n",
       "      <td>1.0</td>\n",
       "      <td>1.0</td>\n",
       "      <td>NaN</td>\n",
       "      <td>NaN</td>\n",
       "      <td>NaN</td>\n",
       "      <td>NaN</td>\n",
       "    </tr>\n",
       "    <tr>\n",
       "      <th>1</th>\n",
       "      <td>0</td>\n",
       "      <td>106.0</td>\n",
       "      <td>106.0</td>\n",
       "      <td>1.0</td>\n",
       "      <td>1.0</td>\n",
       "      <td>1.0</td>\n",
       "      <td>NaN</td>\n",
       "    </tr>\n",
       "    <tr>\n",
       "      <th>2</th>\n",
       "      <td>52</td>\n",
       "      <td>52.0</td>\n",
       "      <td>1.0</td>\n",
       "      <td>NaN</td>\n",
       "      <td>NaN</td>\n",
       "      <td>NaN</td>\n",
       "      <td>NaN</td>\n",
       "    </tr>\n",
       "    <tr>\n",
       "      <th>3</th>\n",
       "      <td>70</td>\n",
       "      <td>6.0</td>\n",
       "      <td>NaN</td>\n",
       "      <td>NaN</td>\n",
       "      <td>NaN</td>\n",
       "      <td>NaN</td>\n",
       "      <td>NaN</td>\n",
       "    </tr>\n",
       "    <tr>\n",
       "      <th>4</th>\n",
       "      <td>15</td>\n",
       "      <td>13.0</td>\n",
       "      <td>13.0</td>\n",
       "      <td>5.0</td>\n",
       "      <td>5.0</td>\n",
       "      <td>1.0</td>\n",
       "      <td>1.0</td>\n",
       "    </tr>\n",
       "  </tbody>\n",
       "</table>\n",
       "</div>"
      ],
      "text/plain": [
       "    1      2      3    4    5    6    7\n",
       "0   1    1.0    1.0  NaN  NaN  NaN  NaN\n",
       "1   0  106.0  106.0  1.0  1.0  1.0  NaN\n",
       "2  52   52.0    1.0  NaN  NaN  NaN  NaN\n",
       "3  70    6.0    NaN  NaN  NaN  NaN  NaN\n",
       "4  15   13.0   13.0  5.0  5.0  1.0  1.0"
      ]
     },
     "execution_count": 26,
     "metadata": {},
     "output_type": "execute_result"
    }
   ],
   "source": [
    "memory_df = memory_df.drop([8,9,10,11,12,13,14,15,16,17], axis =1)\n",
    "memory_df.head()"
   ]
  },
  {
   "cell_type": "code",
   "execution_count": 22,
   "metadata": {
    "scrolled": false
   },
   "outputs": [
    {
     "data": {
      "text/plain": [
       "<AxesSubplot:title={'center':'The number of terms needed to return the exact show'}>"
      ]
     },
     "execution_count": 22,
     "metadata": {},
     "output_type": "execute_result"
    },
    {
     "data": {
      "image/png": "[encoded data removed]",
      "text/plain": [
       "<Figure size 432x288 with 1 Axes>"
      ]
     },
     "metadata": {
      "needs_background": "light"
     },
     "output_type": "display_data"
    }
   ],
   "source": [
    "memory_df = memory_df.fillna(0)\n",
    "searches = [len(memory_df[memory_df[v] == 1].index) for v in range(1,8)] #filter out rows that do not return the exact show\n",
    "search_df = pd.DataFrame(searches)\n",
    "search_df.index = ['one','two','three','four','five','six','seven']\n",
    "search_df.columns = ['terms']\n",
    "search_df.plot.bar(title = 'The number of terms needed to return the exact show')"
   ]
  },
  {
   "cell_type": "markdown",
   "metadata": {},
   "source": [
    "The bar chart above showcases a successful search, that is when the search engine returns the exact show, is achieved moslty when two and three terms are provided. "
   ]
  },
  {
   "cell_type": "markdown",
   "metadata": {},
   "source": [
    "#### Conclusion and possible improvements based on the results for task 3"
   ]
  },
  {
   "cell_type": "markdown",
   "metadata": {},
   "source": [
    "From the performance analysis above, we can draw three conclusions\n",
    "\n",
    "1. When the number of searches is big, the search engine takes a longer time to process and return relevant shows. \n",
    "2. When the exact title is used, the search engine does not work well as it returns around 8 to 10 irrelevant shows\n",
    "3. Two or three related terms based on the title are needed to return the exact title.\n",
    "\n",
    "Other than these three main conclusions, I also found that the search engine is doing badly when the show's title used is made up of English common words. This is the drawback when the `NLTK` library is used. A huge portion of the Netflix shows could not be searched.\n",
    "\n",
    "Two improvements\n",
    "1. To avoid having many irrelevant outputs, one improvement is to use rating and 'most search' shows data to sort the output show. Taking more information regarding the shows would help seach engine to make better predictions to return relevant shows with better accuracy\n",
    "2. When the number of searches is too big, parallel programming can be used to fasten the process of searching the relevant shows. "
   ]
  },
  {
   "cell_type": "markdown",
   "metadata": {},
   "source": [
    "## Conclusion and reflection"
   ]
  },
  {
   "cell_type": "markdown",
   "metadata": {},
   "source": [
    "In the project, I have done three tasks touching different part of the course\n",
    "\n",
    "1. In task 1, I created a new class to let users store their two different playlists which are the 'watch later' and 'favourite' playlist that operates slightly differently from each other. I make use of the inheritance concept to change the `play()` method for favourite playlist. I practise a good coding practice by doing testing, assertion and debugging to ensure the code works as intended. \n",
    "\n",
    "\n",
    "2. In task 2, I made a significant improvement to the search engine to allow users to find shows without having to write the exact title of the shows. I make use of the inverted index and natural language processing concept to make this possible. I decided to apply the indexing when creating an instance of `StreamingService` so that the indexing can be used repeatedly every time the search() method is called and reduce the inefficiency. I use a `dictionary` container to build the index and apply a good control flow to assign data about titles, cast and descriptions to their corresponding index. \n",
    "\n",
    "\n",
    "3. In task 3, I run a simulation on two different search engines that were created. The first one is the get_show() method and the second one is the search() method. The simulation is done to measure the efficiency and accuracy of the search engines when a big number of searches are to be made. The former is achieved by tracking the retrieval time for both search engines and comparing them to each other and the latter is measured by calculating the average number of unrelated shows that were shown as the outputs.This is where I use `Pandas` and `Numpy` library to showcase the performance analysis results.\n",
    "\n",
    "throughout the project, I ensure that I apply good error raising and handling to ensure all possible outcomes are considered. Abstractions are written for every function and class that was created. "
   ]
  },
  {
   "cell_type": "markdown",
   "metadata": {},
   "source": [
    "**Limitations**\n",
    "\n",
    "1. The code takes a while to create an instance of StreamingService due to having to reiterate over a high volume of words and assigning them to their corresponding inverted index container. \n",
    "2. The inappropriate handling of unsuccessful search due to the show's title made up of stop words.\n",
    "3. Lack of statistical analysis for task 3 \n",
    "4. Inadequate experience with `NLTK` library"
   ]
  },
  {
   "cell_type": "markdown",
   "metadata": {},
   "source": [
    "**Improvements for future projects**"
   ]
  },
  {
   "cell_type": "markdown",
   "metadata": {},
   "source": [
    "   1. Apply parallel programming for the indexing when the creating an instance of `StreamingService` to quicken the process of filtering and stemming words and assingning them to their corresponding index. \n",
    "   2. Record the number of unssuccesful search instead of printing `Sorry 'Title' is not found` everytime a show cannot be found.\n",
    "   3. Apply machine learning so that the search engine would be able to predict the show that users are looking for more accurately by taking into account the previous watched shows and their behavior.\n",
    "   4. Make improvements to the indexing so that `NLTK` library will handle titles with stop words appropriately. \n",
    "   5. Improve the `StreamingService` algorithms."
   ]
  },
  {
   "cell_type": "code",
   "execution_count": null,
   "metadata": {},
   "outputs": [],
   "source": []
  }
 ],
 "metadata": {
  "kernelspec": {
   "display_name": "Python 3",
   "language": "python",
   "name": "python3"
  },
  "language_info": {
   "codemirror_mode": {
    "name": "ipython",
    "version": 3
   },
   "file_extension": ".py",
   "mimetype": "text/x-python",
   "name": "python",
   "nbconvert_exporter": "python",
   "pygments_lexer": "ipython3",
   "version": "3.8.5"
  }
 },
 "nbformat": 4,
 "nbformat_minor": 4
}
