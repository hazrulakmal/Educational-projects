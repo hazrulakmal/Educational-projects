{
 "cells": [
  {
   "cell_type": "code",
   "execution_count": 1,
   "id": "d0c75fb7",
   "metadata": {},
   "outputs": [],
   "source": [
    "import pandas as pd\n",
    "import sqlite3 as sql\n",
    "\n",
    "db = '../database_data/shows.db'\n",
    "conn = sql.connect(db)\n",
    "cur = conn.cursor()"
   ]
  },
  {
   "cell_type": "code",
   "execution_count": 2,
   "id": "cc09beab",
   "metadata": {},
   "outputs": [],
   "source": [
    "#import all csv files\n",
    "\n",
    "actors = pd.read_csv(\"../database_data/populate_data/actors.csv\")\n",
    "users = pd.read_csv(\"../database_data/populate_data/users.csv\")\n",
    "reviews = pd.read_csv(\"../database_data/populate_data/reviews.csv\")\n",
    "genre = pd.read_csv(\"../database_data/populate_data/genre.csv\")\n",
    "rls_table = pd.read_csv(\"../database_data/populate_data/rls_table.csv\")\n",
    "movie = pd.read_csv(\"../database_data/populate_data/movie.csv\")\n",
    "genre_shows = pd.read_csv(\"../database_data/populate_data/movie_show.csv\")\n",
    "tv_shows = pd.read_csv(\"../database_data/populate_data/shows.csv\")\n",
    "all_comments = pd.read_csv(\"../database_data/populate_data/all_comment_info.csv\")\n",
    "comment_reply = pd.read_csv(\"../database_data/populate_data/comment_reply.csv\")\n",
    "down = pd.read_csv(\"../database_data/populate_data/down_vote.csv\")\n",
    "up = pd.read_csv(\"../database_data/populate_data/up_vote.csv\")"
   ]
  },
  {
   "cell_type": "code",
   "execution_count": 3,
   "id": "bad90b23",
   "metadata": {},
   "outputs": [],
   "source": [
    "del tv_shows[\"Unnamed: 0\"]\n",
    "del genre_shows[\"Unnamed: 0\"]\n",
    "del genre[\"Unnamed: 0\"]\n",
    "del movie[\"Unnamed: 0\"]"
   ]
  },
  {
   "cell_type": "code",
   "execution_count": 4,
   "id": "a81454ae",
   "metadata": {},
   "outputs": [],
   "source": [
    "genre_shows.rename(columns = {'movie_show_id':'show_id' }, inplace = True)"
   ]
  },
  {
   "cell_type": "code",
   "execution_count": 5,
   "id": "ac5ab8fc",
   "metadata": {},
   "outputs": [],
   "source": [
    "actors.rename(columns = {'age':'gender'}, inplace = True)"
   ]
  },
  {
   "cell_type": "code",
   "execution_count": 6,
   "id": "934a8f9e",
   "metadata": {},
   "outputs": [],
   "source": [
    "reviews.rename(columns = {'comments_id':'review_id'}, inplace = True)"
   ]
  },
  {
   "cell_type": "code",
   "execution_count": 7,
   "id": "550df27d",
   "metadata": {},
   "outputs": [],
   "source": [
    "down.rename(columns = {'down_vote':'num_down_vote'}, inplace = True)\n",
    "up.rename(columns = {'up_vote':'num_up_vote'}, inplace = True)"
   ]
  },
  {
   "cell_type": "code",
   "execution_count": 8,
   "id": "c9b985a4",
   "metadata": {},
   "outputs": [],
   "source": [
    "actors_query = \"\"\"\n",
    "                    CREATE TABLE actors (\n",
    "                    ID INT NOT NULL PRIMARY KEY,\n",
    "                    first_name TEXT NOT NULL,\n",
    "                    last_name TEXT NOT NULL,\n",
    "                    gender TEXT,\n",
    "                    origin TEXT,\n",
    "                    birth_dates TEXT\n",
    "                    )\"\"\"\n",
    "\n",
    "cur.execute(actors_query)\n",
    "actors.to_sql('actors', con = conn, index = False, if_exists=\"append\")"
   ]
  },
  {
   "cell_type": "code",
   "execution_count": 9,
   "id": "f0981b1f",
   "metadata": {},
   "outputs": [],
   "source": [
    "users_query = \"\"\"\n",
    "                    CREATE TABLE users (\n",
    "                    user_id INTEGER NOT NULL PRIMARY KEY,\n",
    "                    email_address TEXT NOT NULL,\n",
    "                    name TEXT,\n",
    "                    password TEXT\n",
    "                    )\"\"\"\n",
    "cur.execute(users_query)\n",
    "users.to_sql('users', con = conn, index = False, if_exists=\"append\")\n"
   ]
  },
  {
   "cell_type": "code",
   "execution_count": 10,
   "id": "5e39968b",
   "metadata": {},
   "outputs": [],
   "source": [
    "series_query = \"\"\"\n",
    "                    CREATE TABLE series (\n",
    "                    show_id TEXT NOT NULL PRIMARY KEY,\n",
    "                    title TEXT NOT NULL,\n",
    "                    country TEXT,\n",
    "                    release_year INTEGER,\n",
    "                    is_adult TEXT,\n",
    "                    num_seasons TEXT,\n",
    "                    description TEXT, \n",
    "                    num_episodes INTEGER \n",
    "                    )\"\"\"\n",
    "\n",
    "cur.execute(series_query)\n",
    "tv_shows.to_sql('series', con = conn, index = False, if_exists=\"append\")"
   ]
  },
  {
   "cell_type": "code",
   "execution_count": 11,
   "id": "4ce59ece",
   "metadata": {},
   "outputs": [],
   "source": [
    "movie_query = \"\"\"\n",
    "                    CREATE TABLE movie (\n",
    "                    show_id TEXT NOT NULL PRIMARY KEY,\n",
    "                    title TEXT NOT NULL,\n",
    "                    country TEXT,\n",
    "                    release_year INT,\n",
    "                    is_adult TEXT,\n",
    "                    duration INTEGER, \n",
    "                    description TEXT \n",
    "                    )\"\"\"\n",
    "\n",
    "#make sure remove min in duration. can use triggers to only include in min\n",
    "cur.execute(movie_query)\n",
    "movie.to_sql('movie', con = conn, index = False, if_exists=\"append\")"
   ]
  },
  {
   "cell_type": "code",
   "execution_count": 12,
   "id": "5e1f9b7e",
   "metadata": {},
   "outputs": [],
   "source": [
    "comment_info = \"\"\"\n",
    "                    CREATE TABLE comment_info (\n",
    "                    comment_id TEXT NOT NULL PRIMARY KEY,\n",
    "                    comment TEXT) \"\"\"\n",
    "\n",
    "cur.execute(comment_info)\n",
    "all_comments.to_sql('comment_info', con = conn, index = False, if_exists=\"append\")"
   ]
  },
  {
   "cell_type": "code",
   "execution_count": 13,
   "id": "524f84dc",
   "metadata": {},
   "outputs": [],
   "source": [
    "reviews_query = \"\"\"\n",
    "                    CREATE TABLE review (\n",
    "                    review_id INTEGER NOT NULL PRIMARY KEY,\n",
    "                    show_id TEXT NOT NULL,\n",
    "                    user_id INTEGER NOT NULL,\n",
    "                    reviews TEXT,\n",
    "                    ratings FLOAT,\n",
    "                    FOREIGN KEY(user_id) REFERENCES users(user_id) ON DELETE CASCADE,\n",
    "                    FOREIGN KEY(show_id) REFERENCES movie(show_id) ON DELETE CASCADE,\n",
    "                    FOREIGN KEY(show_id) REFERENCES series(show_id) ON DELETE CASCADE\n",
    "                    )\"\"\"\n",
    "\n",
    "cur.execute(reviews_query)\n",
    "reviews.to_sql('review', con = conn, index = False, if_exists=\"append\")"
   ]
  },
  {
   "cell_type": "code",
   "execution_count": 14,
   "id": "b9d9308a",
   "metadata": {},
   "outputs": [],
   "source": [
    "down_vote = \"\"\"\n",
    "            CREATE TABLE down_vote (\n",
    "                    review_id INTEGER NOT NULL PRIMARY KEY,\n",
    "                    num_down_vote INTEGER NOT NULL,\n",
    "                    FOREIGN KEY(review_id) REFERENCES review(review_id) ON DELETE CASCADE)\"\"\"\n",
    "\n",
    "cur.execute(down_vote)\n",
    "down.to_sql('down_vote', con = conn, index = False, if_exists=\"append\")"
   ]
  },
  {
   "cell_type": "code",
   "execution_count": 15,
   "id": "f96142a2",
   "metadata": {},
   "outputs": [],
   "source": [
    "up_vote = \"\"\"\n",
    "            CREATE TABLE up_vote (\n",
    "                    review_id INTEGER NOT NULL PRIMARY KEY,\n",
    "                    num_up_vote INTEGER NOT NULL,\n",
    "                    FOREIGN KEY(review_id) REFERENCES review(review_id) ON DELETE CASCADE)\"\"\"\n",
    "\n",
    "cur.execute(up_vote)\n",
    "up.to_sql('up_vote', con = conn, index = False, if_exists=\"append\")"
   ]
  },
  {
   "cell_type": "code",
   "execution_count": 16,
   "id": "93a43371",
   "metadata": {},
   "outputs": [],
   "source": [
    "comment_rls =  \"\"\"\n",
    "                    CREATE TABLE comment_rls (\n",
    "                    parent_comment_id TEXT NOT NULL,\n",
    "                    child_comment_id INTEGER NOT NULL,\n",
    "                    review_id INTEGER NOT NULL,\n",
    "                    user_id INTEGER NOT NULL, \n",
    "                    FOREIGN KEY(parent_comment_id) REFERENCES comment_info(comment_id) ON DELETE CASCADE,\n",
    "                    FOREIGN KEY(child_comment_id) REFERENCES comment_info(comment_id) ON DELETE CASCADE,\n",
    "                    FOREIGN KEY(review_id) REFERENCES review(review_id) ON DELETE CASCADE,\n",
    "                    FOREIGN KEY(user_id) REFERENCES users(user_id) ON DELETE CASCADE\n",
    "                    )\"\"\"\n",
    "\n",
    "cur.execute(comment_rls)\n",
    "comment_reply.to_sql('comment_rls', con = conn, index = False, if_exists=\"append\")"
   ]
  },
  {
   "cell_type": "code",
   "execution_count": 17,
   "id": "b0962c6f",
   "metadata": {},
   "outputs": [],
   "source": [
    "rls_query = \"\"\"\n",
    "                    CREATE TABLE rls (\n",
    "                    shows_id TEXT NOT NULL,\n",
    "                    actors_id INTEGER NOT NULL,\n",
    "                    FOREIGN KEY(actors_id) REFERENCES actors(actors_id) ON DELETE CASCADE,\n",
    "                    FOREIGN KEY(shows_id) REFERENCES movie(show_id) ON DELETE CASCADE,\n",
    "                    FOREIGN KEY(shows_id) REFERENCES series(show_id) ON DELETE CASCADE\n",
    "                    )\"\"\"\n",
    "\n",
    "cur.execute(rls_query)\n",
    "rls_table.to_sql('rls', con = conn, index = False, if_exists=\"append\")"
   ]
  },
  {
   "cell_type": "code",
   "execution_count": 18,
   "id": "03589cf8",
   "metadata": {},
   "outputs": [],
   "source": [
    "genre_query = \"\"\"\n",
    "                    CREATE TABLE genre (\n",
    "                    genre_type TEXT NOT NULL,\n",
    "                    genre_id TEXT NOT NULL PRIMARY KEY\n",
    "                    )\"\"\"\n",
    "\n",
    "cur.execute(genre_query)\n",
    "genre.to_sql('genre', con = conn, index = False, if_exists=\"append\")"
   ]
  },
  {
   "cell_type": "code",
   "execution_count": 19,
   "id": "e153b408",
   "metadata": {},
   "outputs": [],
   "source": [
    "genre_shows_query = \"\"\"\n",
    "                    CREATE TABLE genre_shows (\n",
    "                    show_id TEXT NOT NULL,\n",
    "                    genre_id TEXT NOT NULL,\n",
    "                    FOREIGN KEY(genre_id) REFERENCES series(genre_id) ON DELETE CASCADE,\n",
    "                    FOREIGN KEY(show_id) REFERENCES movie(show_id) ON DELETE CASCADE,\n",
    "                    FOREIGN KEY(show_id) REFERENCES series(show_id) ON DELETE CASCADE\n",
    "                    )\"\"\"\n",
    "\n",
    "cur.execute(genre_shows_query)\n",
    "genre_shows.to_sql('genre_shows', con = conn, index = False, if_exists=\"append\")"
   ]
  },
  {
   "cell_type": "markdown",
   "id": "56078746",
   "metadata": {},
   "source": [
    "# VIEW Table Creation"
   ]
  },
  {
   "cell_type": "markdown",
   "id": "8d17caca",
   "metadata": {},
   "source": [
    "View is created to accelerate common data retrival from a database. Hence, we'll be creating some to compliment query database applications."
   ]
  },
  {
   "cell_type": "code",
   "execution_count": 20,
   "id": "c634cb97",
   "metadata": {},
   "outputs": [
    {
     "data": {
      "text/plain": [
       "<sqlite3.Cursor at 0x207efb26810>"
      ]
     },
     "execution_count": 20,
     "metadata": {},
     "output_type": "execute_result"
    }
   ],
   "source": [
    "movie_ratings_view = \"\"\"\n",
    "              CREATE VIEW IF NOT EXISTS movie_ratings AS\n",
    "              SELECT m.show_id, m.title AS movie_titles, ROUND(AVG(r.ratings),2) AS avg_rating\n",
    "              FROM movie AS m\n",
    "              INNER JOIN review AS r ON r.show_id = m.show_id\n",
    "              GROUP BY m.show_id;\"\"\" \n",
    "\n",
    "cur.execute(movie_ratings_view)"
   ]
  },
  {
   "cell_type": "code",
   "execution_count": 21,
   "id": "3e7583ac",
   "metadata": {},
   "outputs": [
    {
     "data": {
      "text/plain": [
       "<sqlite3.Cursor at 0x207efb26810>"
      ]
     },
     "execution_count": 21,
     "metadata": {},
     "output_type": "execute_result"
    }
   ],
   "source": [
    "shows_ratings_view = \"\"\"\n",
    "              CREATE VIEW IF NOT EXISTS show_ratings AS\n",
    "              SELECT s.show_id, s.title AS show_titles, ROUND(AVG(r.ratings),2) AS avg_rating\n",
    "              FROM series AS s\n",
    "              INNER JOIN review AS r ON s.show_id = r.show_id\n",
    "              GROUP BY s.show_id;\"\"\" \n",
    "\n",
    "cur.execute(shows_ratings_view)"
   ]
  },
  {
   "cell_type": "code",
   "execution_count": 22,
   "id": "83b9cf70",
   "metadata": {},
   "outputs": [
    {
     "data": {
      "text/plain": [
       "<sqlite3.Cursor at 0x207efb26810>"
      ]
     },
     "execution_count": 22,
     "metadata": {},
     "output_type": "execute_result"
    }
   ],
   "source": [
    "show_review_view = \"\"\"\n",
    "                    CREATE VIEW IF NOT EXISTS show_review AS\n",
    "                    SELECT m.show_id, m.title, SUM(uv.num_up_vote - dv.num_down_vote) AS review_score\n",
    "                    FROM movie AS m\n",
    "                    INNER JOIN review AS r ON m.show_id == r.show_id\n",
    "                    INNER JOIN up_vote AS uv ON uv.review_id == r.review_id\n",
    "                    INNER JOIN down_vote AS dv ON dv.review_id == r.review_id\n",
    "                    GROUP BY m.show_id\n",
    "                    \"\"\"\n",
    "\n",
    "cur.execute(show_review_view)"
   ]
  },
  {
   "cell_type": "markdown",
   "id": "e95b75a3",
   "metadata": {},
   "source": [
    "# Triggers"
   ]
  },
  {
   "cell_type": "markdown",
   "id": "939b414b",
   "metadata": {},
   "source": [
    "#### Email Verification"
   ]
  },
  {
   "cell_type": "code",
   "execution_count": 23,
   "id": "f24e8b65",
   "metadata": {},
   "outputs": [
    {
     "data": {
      "text/plain": [
       "<sqlite3.Cursor at 0x207efb26810>"
      ]
     },
     "execution_count": 23,
     "metadata": {},
     "output_type": "execute_result"
    }
   ],
   "source": [
    "email_validation = \"\"\"\n",
    "                CREATE TRIGGER validate_email_before_insert_users \n",
    "                BEFORE INSERT ON users\n",
    "                BEGIN\n",
    "                SELECT CASE\n",
    "                    WHEN NEW.email NOT LIKE '%_@__%.__%' THEN\n",
    "                    RAISE (ABORT,'Invalid email address')\n",
    "                  END;\n",
    "               END;\"\"\"\n",
    "\n",
    "cur.execute(email_validation)"
   ]
  },
  {
   "cell_type": "markdown",
   "id": "709fedc6",
   "metadata": {},
   "source": [
    "#### New email logs"
   ]
  },
  {
   "cell_type": "code",
   "execution_count": 24,
   "id": "5c18db57",
   "metadata": {},
   "outputs": [
    {
     "data": {
      "text/plain": [
       "<sqlite3.Cursor at 0x207efb26810>"
      ]
     },
     "execution_count": 24,
     "metadata": {},
     "output_type": "execute_result"
    }
   ],
   "source": [
    "eml_log = \"\"\"\n",
    "          CREATE TABLE email_update_logs (\n",
    "          id INTEGER PRIMARY KEY,\n",
    "          user_id INTEGER,\n",
    "          old_email TEXT,\n",
    "          new_email TEXT,\n",
    "          user_action TEXT,\n",
    "          created_at TEXT,\n",
    "          FOREIGN KEY (user_id) REFERENCES users(user_id));\"\"\"\n",
    "\n",
    "cur.execute(eml_log)"
   ]
  },
  {
   "cell_type": "code",
   "execution_count": 25,
   "id": "c43f6f0f",
   "metadata": {},
   "outputs": [
    {
     "data": {
      "text/plain": [
       "<sqlite3.Cursor at 0x207efb26810>"
      ]
     },
     "execution_count": 25,
     "metadata": {},
     "output_type": "execute_result"
    }
   ],
   "source": [
    "email_before = \"\"\"\n",
    "        CREATE TRIGGER log_email_after_update AFTER UPDATE ON users\n",
    "        WHEN old.email_address <> new.email_address\n",
    "            BEGIN\n",
    "            INSERT INTO email_update_logs (\n",
    "                user_id,\n",
    "                old_email,\n",
    "                new_email,\n",
    "                user_action,\n",
    "                created_at)\n",
    "            VALUES (\n",
    "                user_id,\n",
    "                old.email_address,\n",
    "                new.email_address,\n",
    "                'UPDATE',\n",
    "                DATETIME('NOW')) ;\n",
    "            END;\"\"\"\n",
    "\n",
    "cur.execute(email_before)"
   ]
  },
  {
   "cell_type": "markdown",
   "id": "a2f1dea0",
   "metadata": {},
   "source": [
    "#### Account Creation"
   ]
  },
  {
   "cell_type": "code",
   "execution_count": 26,
   "id": "0deec227",
   "metadata": {},
   "outputs": [
    {
     "data": {
      "text/plain": [
       "<sqlite3.Cursor at 0x207efb26810>"
      ]
     },
     "execution_count": 26,
     "metadata": {},
     "output_type": "execute_result"
    }
   ],
   "source": [
    "before_insert_account = \"\"\"\n",
    "                CREATE TRIGGER bef_insert_user BEFORE INSERT ON users\n",
    "                BEGIN\n",
    "                   SELECT CASE\n",
    "                   WHEN ((SELECT u.email_address \n",
    "                          FROM users AS u \n",
    "                          WHERE u.email_address = NEW.email_address) IS NOT NULL)\n",
    "                   THEN RAISE(FAIL, 'ERROR: This email address has been registered')\n",
    "                   END;\n",
    "                END;\"\"\"\n",
    "\n",
    "cur.execute(before_insert_account)"
   ]
  },
  {
   "cell_type": "code",
   "execution_count": 27,
   "id": "2a27cc9d",
   "metadata": {},
   "outputs": [
    {
     "data": {
      "text/plain": [
       "<sqlite3.Cursor at 0x207efb26810>"
      ]
     },
     "execution_count": 27,
     "metadata": {},
     "output_type": "execute_result"
    }
   ],
   "source": [
    "after_insert_account = \"\"\"\n",
    "        CREATE TRIGGER log_email_after_insert AFTER INSERT ON users\n",
    "            BEGIN\n",
    "            INSERT INTO email_update_logs (\n",
    "                user_id,\n",
    "                old_email,\n",
    "                new_email,\n",
    "                user_action,\n",
    "                created_at)\n",
    "            VALUES (\n",
    "                user_id,\n",
    "                \"Not Available\",\n",
    "                 new.email_address,\n",
    "                'New Account',\n",
    "                DATETIME('NOW')) ;\n",
    "            END;\"\"\"\n",
    "cur.execute(after_insert_account)"
   ]
  },
  {
   "cell_type": "markdown",
   "id": "3192b304",
   "metadata": {},
   "source": [
    "#### New shows"
   ]
  },
  {
   "cell_type": "code",
   "execution_count": 28,
   "id": "21ecedad",
   "metadata": {},
   "outputs": [
    {
     "data": {
      "text/plain": [
       "<sqlite3.Cursor at 0x207efb26810>"
      ]
     },
     "execution_count": 28,
     "metadata": {},
     "output_type": "execute_result"
    }
   ],
   "source": [
    "before_insert_movie = \"\"\"\n",
    "                CREATE TRIGGER bef_insert_movie BEFORE INSERT ON movie\n",
    "                BEGIN\n",
    "                   SELECT CASE\n",
    "                   WHEN NEW.duration < 40\n",
    "                       THEN RAISE(FAIL, 'ERROR: Duration should be in minutes')\n",
    "                   WHEN new.release_year > CAST(strftime('%Y', DATETIME(\"NOW\")) AS INT)\n",
    "                       THEN RAISE(FAIL, \"ERROR: Movie cannot be released in the future\")\n",
    "                   END;\n",
    "                END;\"\"\"\n",
    "\n",
    "cur.execute(before_insert_movie)"
   ]
  },
  {
   "cell_type": "code",
   "execution_count": 29,
   "id": "7dcda235",
   "metadata": {},
   "outputs": [
    {
     "data": {
      "text/plain": [
       "<sqlite3.Cursor at 0x207efb26810>"
      ]
     },
     "execution_count": 29,
     "metadata": {},
     "output_type": "execute_result"
    }
   ],
   "source": [
    "before_insert_series = \"\"\"\n",
    "                CREATE TRIGGER bef_insert_series BEFORE INSERT ON series\n",
    "                BEGIN\n",
    "                   SELECT CASE\n",
    "                   WHEN NEW.num_of_seasons > 40\n",
    "                       THEN RAISE(FAIL, 'ERROR: Duration should be in seasons')\n",
    "                   WHEN new.release_year > CAST(strftime('%Y', DATETIME(\"NOW\")) AS INT)\n",
    "                       THEN RAISE(FAIL, \"ERROR: Series cannot be released in the future\")\n",
    "                   END;\n",
    "                END;\"\"\"\n",
    "\n",
    "cur.execute(before_insert_series)"
   ]
  },
  {
   "cell_type": "markdown",
   "id": "28966f24",
   "metadata": {},
   "source": [
    "# Queries"
   ]
  },
  {
   "cell_type": "markdown",
   "id": "ceb0114d",
   "metadata": {},
   "source": [
    "1. top 100 movies and shows\n",
    "2. worst rated uk movies\n",
    "3. top movies with highest engangement\n",
    "4. top reviews\n",
    "\n",
    "1. update movie\n"
   ]
  },
  {
   "cell_type": "code",
   "execution_count": 30,
   "id": "e40bb018",
   "metadata": {},
   "outputs": [
    {
     "data": {
      "text/html": [
       "<div>\n",
       "<style scoped>\n",
       "    .dataframe tbody tr th:only-of-type {\n",
       "        vertical-align: middle;\n",
       "    }\n",
       "\n",
       "    .dataframe tbody tr th {\n",
       "        vertical-align: top;\n",
       "    }\n",
       "\n",
       "    .dataframe thead th {\n",
       "        text-align: right;\n",
       "    }\n",
       "</style>\n",
       "<table border=\"1\" class=\"dataframe\">\n",
       "  <thead>\n",
       "    <tr style=\"text-align: right;\">\n",
       "      <th></th>\n",
       "      <th>name</th>\n",
       "      <th>row_count</th>\n",
       "    </tr>\n",
       "  </thead>\n",
       "  <tbody>\n",
       "    <tr>\n",
       "      <th>0</th>\n",
       "      <td>actors</td>\n",
       "      <td>800</td>\n",
       "    </tr>\n",
       "    <tr>\n",
       "      <th>1</th>\n",
       "      <td>users</td>\n",
       "      <td>9000</td>\n",
       "    </tr>\n",
       "    <tr>\n",
       "      <th>2</th>\n",
       "      <td>series</td>\n",
       "      <td>2676</td>\n",
       "    </tr>\n",
       "    <tr>\n",
       "      <th>3</th>\n",
       "      <td>movie</td>\n",
       "      <td>6131</td>\n",
       "    </tr>\n",
       "    <tr>\n",
       "      <th>4</th>\n",
       "      <td>comment_info</td>\n",
       "      <td>400006</td>\n",
       "    </tr>\n",
       "    <tr>\n",
       "      <th>5</th>\n",
       "      <td>review</td>\n",
       "      <td>50000</td>\n",
       "    </tr>\n",
       "    <tr>\n",
       "      <th>6</th>\n",
       "      <td>down_vote</td>\n",
       "      <td>50000</td>\n",
       "    </tr>\n",
       "    <tr>\n",
       "      <th>7</th>\n",
       "      <td>up_vote</td>\n",
       "      <td>50000</td>\n",
       "    </tr>\n",
       "    <tr>\n",
       "      <th>8</th>\n",
       "      <td>comment_rls</td>\n",
       "      <td>200057</td>\n",
       "    </tr>\n",
       "    <tr>\n",
       "      <th>9</th>\n",
       "      <td>rls</td>\n",
       "      <td>176140</td>\n",
       "    </tr>\n",
       "    <tr>\n",
       "      <th>10</th>\n",
       "      <td>genre</td>\n",
       "      <td>42</td>\n",
       "    </tr>\n",
       "    <tr>\n",
       "      <th>11</th>\n",
       "      <td>genre_shows</td>\n",
       "      <td>19323</td>\n",
       "    </tr>\n",
       "    <tr>\n",
       "      <th>12</th>\n",
       "      <td>movie_ratings</td>\n",
       "      <td>6112</td>\n",
       "    </tr>\n",
       "    <tr>\n",
       "      <th>13</th>\n",
       "      <td>show_ratings</td>\n",
       "      <td>2666</td>\n",
       "    </tr>\n",
       "    <tr>\n",
       "      <th>14</th>\n",
       "      <td>show_review</td>\n",
       "      <td>6112</td>\n",
       "    </tr>\n",
       "    <tr>\n",
       "      <th>15</th>\n",
       "      <td>email_update_logs</td>\n",
       "      <td>0</td>\n",
       "    </tr>\n",
       "  </tbody>\n",
       "</table>\n",
       "</div>"
      ],
      "text/plain": [
       "                 name  row_count\n",
       "0              actors        800\n",
       "1               users       9000\n",
       "2              series       2676\n",
       "3               movie       6131\n",
       "4        comment_info     400006\n",
       "5              review      50000\n",
       "6           down_vote      50000\n",
       "7             up_vote      50000\n",
       "8         comment_rls     200057\n",
       "9                 rls     176140\n",
       "10              genre         42\n",
       "11        genre_shows      19323\n",
       "12      movie_ratings       6112\n",
       "13       show_ratings       2666\n",
       "14        show_review       6112\n",
       "15  email_update_logs          0"
      ]
     },
     "execution_count": 30,
     "metadata": {},
     "output_type": "execute_result"
    }
   ],
   "source": [
    "# Main function for running SQL queries\n",
    "def run_query(q):\n",
    "    # Connect to the database\n",
    "    with sql.connect(db) as conn:\n",
    "        return pd.read_sql(q,conn)\n",
    "    \n",
    "# Function to show all the tables present in the database.\n",
    "def show_tables():\n",
    "    q = '''\n",
    "        SELECT\n",
    "            name\n",
    "        FROM sqlite_master\n",
    "        WHERE type IN (\"table\",\"view\");\n",
    "        '''\n",
    "    return run_query(q)\n",
    "\n",
    "# Function to count how many rows in each table\n",
    "def get_table_row_count(tablename):\n",
    "    q = '''\n",
    "        SELECT\n",
    "            COUNT(1)\n",
    "        FROM %s;\n",
    "        ''' % tablename\n",
    "    return run_query(q)[\"COUNT(1)\"][0]\n",
    "\n",
    "tables = show_tables()\n",
    "tables[\"row_count\"] = [get_table_row_count(t) for t in tables[\"name\"]]\n",
    "\n",
    "tables"
   ]
  },
  {
   "cell_type": "markdown",
   "id": "0134d777",
   "metadata": {},
   "source": [
    "#### Top 100 Movies and Shows"
   ]
  },
  {
   "cell_type": "code",
   "execution_count": 31,
   "id": "720be233",
   "metadata": {},
   "outputs": [
    {
     "data": {
      "text/html": [
       "<div>\n",
       "<style scoped>\n",
       "    .dataframe tbody tr th:only-of-type {\n",
       "        vertical-align: middle;\n",
       "    }\n",
       "\n",
       "    .dataframe tbody tr th {\n",
       "        vertical-align: top;\n",
       "    }\n",
       "\n",
       "    .dataframe thead th {\n",
       "        text-align: right;\n",
       "    }\n",
       "</style>\n",
       "<table border=\"1\" class=\"dataframe\">\n",
       "  <thead>\n",
       "    <tr style=\"text-align: right;\">\n",
       "      <th></th>\n",
       "      <th>title</th>\n",
       "      <th>avg_rating</th>\n",
       "      <th>type</th>\n",
       "    </tr>\n",
       "  </thead>\n",
       "  <tbody>\n",
       "    <tr>\n",
       "      <th>0</th>\n",
       "      <td>Scream 2</td>\n",
       "      <td>9.96</td>\n",
       "      <td>movie</td>\n",
       "    </tr>\n",
       "    <tr>\n",
       "      <th>1</th>\n",
       "      <td>Coach Snoop</td>\n",
       "      <td>9.89</td>\n",
       "      <td>show</td>\n",
       "    </tr>\n",
       "    <tr>\n",
       "      <th>2</th>\n",
       "      <td>We Belong Together</td>\n",
       "      <td>9.83</td>\n",
       "      <td>movie</td>\n",
       "    </tr>\n",
       "    <tr>\n",
       "      <th>3</th>\n",
       "      <td>The Wishing Tree</td>\n",
       "      <td>9.77</td>\n",
       "      <td>movie</td>\n",
       "    </tr>\n",
       "    <tr>\n",
       "      <th>4</th>\n",
       "      <td>Lost Girls</td>\n",
       "      <td>9.76</td>\n",
       "      <td>movie</td>\n",
       "    </tr>\n",
       "    <tr>\n",
       "      <th>...</th>\n",
       "      <td>...</td>\n",
       "      <td>...</td>\n",
       "      <td>...</td>\n",
       "    </tr>\n",
       "    <tr>\n",
       "      <th>95</th>\n",
       "      <td>Tread</td>\n",
       "      <td>8.31</td>\n",
       "      <td>movie</td>\n",
       "    </tr>\n",
       "    <tr>\n",
       "      <th>96</th>\n",
       "      <td>The Dark Crystal: Age of Resistance</td>\n",
       "      <td>8.31</td>\n",
       "      <td>show</td>\n",
       "    </tr>\n",
       "    <tr>\n",
       "      <th>97</th>\n",
       "      <td>All's Well, End's Well (2009)</td>\n",
       "      <td>8.31</td>\n",
       "      <td>movie</td>\n",
       "    </tr>\n",
       "    <tr>\n",
       "      <th>98</th>\n",
       "      <td>The Dancer</td>\n",
       "      <td>8.31</td>\n",
       "      <td>movie</td>\n",
       "    </tr>\n",
       "    <tr>\n",
       "      <th>99</th>\n",
       "      <td>The Misadventures of Hedi and Cokeman</td>\n",
       "      <td>8.30</td>\n",
       "      <td>movie</td>\n",
       "    </tr>\n",
       "  </tbody>\n",
       "</table>\n",
       "<p>100 rows × 3 columns</p>\n",
       "</div>"
      ],
      "text/plain": [
       "                                    title  avg_rating   type\n",
       "0                                Scream 2        9.96  movie\n",
       "1                             Coach Snoop        9.89   show\n",
       "2                      We Belong Together        9.83  movie\n",
       "3                        The Wishing Tree        9.77  movie\n",
       "4                              Lost Girls        9.76  movie\n",
       "..                                    ...         ...    ...\n",
       "95                                  Tread        8.31  movie\n",
       "96    The Dark Crystal: Age of Resistance        8.31   show\n",
       "97          All's Well, End's Well (2009)        8.31  movie\n",
       "98                             The Dancer        8.31  movie\n",
       "99  The Misadventures of Hedi and Cokeman        8.30  movie\n",
       "\n",
       "[100 rows x 3 columns]"
      ]
     },
     "execution_count": 31,
     "metadata": {},
     "output_type": "execute_result"
    }
   ],
   "source": [
    "first_query = \"\"\"\n",
    "            WITH shows_movies AS (\n",
    "                    SELECT *, \"movie\" AS type\n",
    "                    FROM movie_ratings AS mr\n",
    "\n",
    "                UNION\n",
    "                    SELECT *, \"show\" AS type\n",
    "                    FROM show_ratings AS sr\n",
    "\n",
    "                )\n",
    "                \n",
    "                SELECT sm.movie_titles AS title, sm.avg_rating, sm.type\n",
    "                FROM shows_movies AS sm\n",
    "                ORDER by sm.avg_rating DESC\n",
    "                LIMIT 100\"\"\"\n",
    "\n",
    "run_query(first_query)"
   ]
  },
  {
   "cell_type": "markdown",
   "id": "85f899b4",
   "metadata": {},
   "source": [
    "#### Worst rated UK movies"
   ]
  },
  {
   "cell_type": "code",
   "execution_count": 32,
   "id": "84970b0d",
   "metadata": {},
   "outputs": [
    {
     "data": {
      "text/html": [
       "<div>\n",
       "<style scoped>\n",
       "    .dataframe tbody tr th:only-of-type {\n",
       "        vertical-align: middle;\n",
       "    }\n",
       "\n",
       "    .dataframe tbody tr th {\n",
       "        vertical-align: top;\n",
       "    }\n",
       "\n",
       "    .dataframe thead th {\n",
       "        text-align: right;\n",
       "    }\n",
       "</style>\n",
       "<table border=\"1\" class=\"dataframe\">\n",
       "  <thead>\n",
       "    <tr style=\"text-align: right;\">\n",
       "      <th></th>\n",
       "      <th>movie_titles</th>\n",
       "      <th>avg_rating</th>\n",
       "    </tr>\n",
       "  </thead>\n",
       "  <tbody>\n",
       "    <tr>\n",
       "      <th>0</th>\n",
       "      <td>Last Breath</td>\n",
       "      <td>0.55</td>\n",
       "    </tr>\n",
       "    <tr>\n",
       "      <th>1</th>\n",
       "      <td>Hot Property</td>\n",
       "      <td>0.60</td>\n",
       "    </tr>\n",
       "    <tr>\n",
       "      <th>2</th>\n",
       "      <td>Slow West</td>\n",
       "      <td>0.77</td>\n",
       "    </tr>\n",
       "    <tr>\n",
       "      <th>3</th>\n",
       "      <td>Figaro Pho</td>\n",
       "      <td>1.50</td>\n",
       "    </tr>\n",
       "    <tr>\n",
       "      <th>4</th>\n",
       "      <td>Secrets of Her Majesty's Secret Service</td>\n",
       "      <td>1.67</td>\n",
       "    </tr>\n",
       "    <tr>\n",
       "      <th>5</th>\n",
       "      <td>David Brent: Life on the Road</td>\n",
       "      <td>1.72</td>\n",
       "    </tr>\n",
       "    <tr>\n",
       "      <th>6</th>\n",
       "      <td>Effie Gray</td>\n",
       "      <td>1.82</td>\n",
       "    </tr>\n",
       "    <tr>\n",
       "      <th>7</th>\n",
       "      <td>The King</td>\n",
       "      <td>1.85</td>\n",
       "    </tr>\n",
       "    <tr>\n",
       "      <th>8</th>\n",
       "      <td>Shawn Mendes: Live in Concert</td>\n",
       "      <td>2.04</td>\n",
       "    </tr>\n",
       "    <tr>\n",
       "      <th>9</th>\n",
       "      <td>Sitting in Limbo</td>\n",
       "      <td>2.05</td>\n",
       "    </tr>\n",
       "  </tbody>\n",
       "</table>\n",
       "</div>"
      ],
      "text/plain": [
       "                              movie_titles  avg_rating\n",
       "0                              Last Breath        0.55\n",
       "1                             Hot Property        0.60\n",
       "2                                Slow West        0.77\n",
       "3                               Figaro Pho        1.50\n",
       "4  Secrets of Her Majesty's Secret Service        1.67\n",
       "5            David Brent: Life on the Road        1.72\n",
       "6                               Effie Gray        1.82\n",
       "7                                 The King        1.85\n",
       "8            Shawn Mendes: Live in Concert        2.04\n",
       "9                         Sitting in Limbo        2.05"
      ]
     },
     "execution_count": 32,
     "metadata": {},
     "output_type": "execute_result"
    }
   ],
   "source": [
    "second_query = \"\"\"\n",
    "                SELECT mr.movie_titles, mr.avg_rating\n",
    "                FROM movie_ratings as mr\n",
    "                INNER JOIN movie as m ON m.show_id == mr.show_id\n",
    "                WHERE m.country = \"United Kingdom\"\n",
    "                ORDER BY 2 ASC\n",
    "                LIMIT 10\n",
    "                \"\"\"\n",
    "\n",
    "run_query(second_query)"
   ]
  },
  {
   "cell_type": "markdown",
   "id": "9a2c0535",
   "metadata": {},
   "source": [
    "#### Top review movie "
   ]
  },
  {
   "cell_type": "code",
   "execution_count": 33,
   "id": "9c7e316f",
   "metadata": {},
   "outputs": [
    {
     "data": {
      "text/html": [
       "<div>\n",
       "<style scoped>\n",
       "    .dataframe tbody tr th:only-of-type {\n",
       "        vertical-align: middle;\n",
       "    }\n",
       "\n",
       "    .dataframe tbody tr th {\n",
       "        vertical-align: top;\n",
       "    }\n",
       "\n",
       "    .dataframe thead th {\n",
       "        text-align: right;\n",
       "    }\n",
       "</style>\n",
       "<table border=\"1\" class=\"dataframe\">\n",
       "  <thead>\n",
       "    <tr style=\"text-align: right;\">\n",
       "      <th></th>\n",
       "      <th>title</th>\n",
       "      <th>review_score</th>\n",
       "    </tr>\n",
       "  </thead>\n",
       "  <tbody>\n",
       "    <tr>\n",
       "      <th>0</th>\n",
       "      <td>Honey 2</td>\n",
       "      <td>102500</td>\n",
       "    </tr>\n",
       "    <tr>\n",
       "      <th>1</th>\n",
       "      <td>David Batra: Elefanten i rummet</td>\n",
       "      <td>94770</td>\n",
       "    </tr>\n",
       "    <tr>\n",
       "      <th>2</th>\n",
       "      <td>Ice Guardians</td>\n",
       "      <td>82086</td>\n",
       "    </tr>\n",
       "    <tr>\n",
       "      <th>3</th>\n",
       "      <td>Jada</td>\n",
       "      <td>71905</td>\n",
       "    </tr>\n",
       "    <tr>\n",
       "      <th>4</th>\n",
       "      <td>Blue, Painful, Fragile</td>\n",
       "      <td>70071</td>\n",
       "    </tr>\n",
       "    <tr>\n",
       "      <th>5</th>\n",
       "      <td>Tango With Me</td>\n",
       "      <td>69120</td>\n",
       "    </tr>\n",
       "    <tr>\n",
       "      <th>6</th>\n",
       "      <td>Cold Mountain</td>\n",
       "      <td>67987</td>\n",
       "    </tr>\n",
       "    <tr>\n",
       "      <th>7</th>\n",
       "      <td>The Arbitration</td>\n",
       "      <td>66352</td>\n",
       "    </tr>\n",
       "    <tr>\n",
       "      <th>8</th>\n",
       "      <td>Uncle Naji in UAE</td>\n",
       "      <td>65802</td>\n",
       "    </tr>\n",
       "    <tr>\n",
       "      <th>9</th>\n",
       "      <td>Bombay Talkies</td>\n",
       "      <td>65709</td>\n",
       "    </tr>\n",
       "    <tr>\n",
       "      <th>10</th>\n",
       "      <td>The Price of Success</td>\n",
       "      <td>65376</td>\n",
       "    </tr>\n",
       "    <tr>\n",
       "      <th>11</th>\n",
       "      <td>Eerie</td>\n",
       "      <td>65160</td>\n",
       "    </tr>\n",
       "    <tr>\n",
       "      <th>12</th>\n",
       "      <td>Rhys Nicholson Live at the Athenaeum</td>\n",
       "      <td>64952</td>\n",
       "    </tr>\n",
       "    <tr>\n",
       "      <th>13</th>\n",
       "      <td>FYRE: The Greatest Party That Never Happened</td>\n",
       "      <td>64682</td>\n",
       "    </tr>\n",
       "    <tr>\n",
       "      <th>14</th>\n",
       "      <td>Monty Python: The Meaning of Live</td>\n",
       "      <td>64060</td>\n",
       "    </tr>\n",
       "    <tr>\n",
       "      <th>15</th>\n",
       "      <td>Midnight at the Magnolia</td>\n",
       "      <td>63729</td>\n",
       "    </tr>\n",
       "    <tr>\n",
       "      <th>16</th>\n",
       "      <td>InuYasha the Movie: Affections Touching Across...</td>\n",
       "      <td>63716</td>\n",
       "    </tr>\n",
       "    <tr>\n",
       "      <th>17</th>\n",
       "      <td>Trash</td>\n",
       "      <td>62975</td>\n",
       "    </tr>\n",
       "    <tr>\n",
       "      <th>18</th>\n",
       "      <td>Due Date</td>\n",
       "      <td>62630</td>\n",
       "    </tr>\n",
       "    <tr>\n",
       "      <th>19</th>\n",
       "      <td>The Age of Shadows</td>\n",
       "      <td>62603</td>\n",
       "    </tr>\n",
       "  </tbody>\n",
       "</table>\n",
       "</div>"
      ],
      "text/plain": [
       "                                                title  review_score\n",
       "0                                             Honey 2        102500\n",
       "1                     David Batra: Elefanten i rummet         94770\n",
       "2                                       Ice Guardians         82086\n",
       "3                                                Jada         71905\n",
       "4                              Blue, Painful, Fragile         70071\n",
       "5                                       Tango With Me         69120\n",
       "6                                       Cold Mountain         67987\n",
       "7                                     The Arbitration         66352\n",
       "8                                   Uncle Naji in UAE         65802\n",
       "9                                      Bombay Talkies         65709\n",
       "10                               The Price of Success         65376\n",
       "11                                              Eerie         65160\n",
       "12               Rhys Nicholson Live at the Athenaeum         64952\n",
       "13       FYRE: The Greatest Party That Never Happened         64682\n",
       "14                  Monty Python: The Meaning of Live         64060\n",
       "15                           Midnight at the Magnolia         63729\n",
       "16  InuYasha the Movie: Affections Touching Across...         63716\n",
       "17                                              Trash         62975\n",
       "18                                           Due Date         62630\n",
       "19                                 The Age of Shadows         62603"
      ]
     },
     "execution_count": 33,
     "metadata": {},
     "output_type": "execute_result"
    }
   ],
   "source": [
    "top_review_query = \"\"\"\n",
    "                    SELECT title , review_score FROM show_review \n",
    "                    ORDER BY review_score DESC\n",
    "                    LIMIT 20\n",
    "                    \"\"\"\n",
    "\n",
    "run_query(top_review_query)"
   ]
  },
  {
   "cell_type": "markdown",
   "id": "d2fa8ab9",
   "metadata": {},
   "source": [
    "#### Top Movies with Highest Engagement "
   ]
  },
  {
   "cell_type": "code",
   "execution_count": 34,
   "id": "ee1dbbda",
   "metadata": {},
   "outputs": [
    {
     "data": {
      "text/html": [
       "<div>\n",
       "<style scoped>\n",
       "    .dataframe tbody tr th:only-of-type {\n",
       "        vertical-align: middle;\n",
       "    }\n",
       "\n",
       "    .dataframe tbody tr th {\n",
       "        vertical-align: top;\n",
       "    }\n",
       "\n",
       "    .dataframe thead th {\n",
       "        text-align: right;\n",
       "    }\n",
       "</style>\n",
       "<table border=\"1\" class=\"dataframe\">\n",
       "  <thead>\n",
       "    <tr style=\"text-align: right;\">\n",
       "      <th></th>\n",
       "      <th>show_id</th>\n",
       "      <th>title</th>\n",
       "      <th>engagement_score</th>\n",
       "    </tr>\n",
       "  </thead>\n",
       "  <tbody>\n",
       "    <tr>\n",
       "      <th>0</th>\n",
       "      <td>s1086</td>\n",
       "      <td>Night in Paradise</td>\n",
       "      <td>93</td>\n",
       "    </tr>\n",
       "    <tr>\n",
       "      <th>1</th>\n",
       "      <td>s2366</td>\n",
       "      <td>Alexandria ... Why?</td>\n",
       "      <td>88</td>\n",
       "    </tr>\n",
       "    <tr>\n",
       "      <th>2</th>\n",
       "      <td>s6310</td>\n",
       "      <td>Biggie &amp; Tupac</td>\n",
       "      <td>86</td>\n",
       "    </tr>\n",
       "    <tr>\n",
       "      <th>3</th>\n",
       "      <td>s503</td>\n",
       "      <td>Tango With Me</td>\n",
       "      <td>84</td>\n",
       "    </tr>\n",
       "    <tr>\n",
       "      <th>4</th>\n",
       "      <td>s1672</td>\n",
       "      <td>The App That Stole Christmas</td>\n",
       "      <td>80</td>\n",
       "    </tr>\n",
       "    <tr>\n",
       "      <th>5</th>\n",
       "      <td>s2687</td>\n",
       "      <td>Chris D'Elia: No Pain</td>\n",
       "      <td>79</td>\n",
       "    </tr>\n",
       "    <tr>\n",
       "      <th>6</th>\n",
       "      <td>s7995</td>\n",
       "      <td>Shakti: The Power</td>\n",
       "      <td>77</td>\n",
       "    </tr>\n",
       "    <tr>\n",
       "      <th>7</th>\n",
       "      <td>s2324</td>\n",
       "      <td>The Mirror Boy</td>\n",
       "      <td>77</td>\n",
       "    </tr>\n",
       "    <tr>\n",
       "      <th>8</th>\n",
       "      <td>s465</td>\n",
       "      <td>Gunpowder Milkshake</td>\n",
       "      <td>76</td>\n",
       "    </tr>\n",
       "    <tr>\n",
       "      <th>9</th>\n",
       "      <td>s2720</td>\n",
       "      <td>David Batra: Elefanten i rummet</td>\n",
       "      <td>76</td>\n",
       "    </tr>\n",
       "    <tr>\n",
       "      <th>10</th>\n",
       "      <td>s1177</td>\n",
       "      <td>Any Crybabies Around?</td>\n",
       "      <td>76</td>\n",
       "    </tr>\n",
       "    <tr>\n",
       "      <th>11</th>\n",
       "      <td>s3377</td>\n",
       "      <td>My Next Guest with David Letterman and Shah Ru...</td>\n",
       "      <td>75</td>\n",
       "    </tr>\n",
       "    <tr>\n",
       "      <th>12</th>\n",
       "      <td>s3137</td>\n",
       "      <td>Game</td>\n",
       "      <td>75</td>\n",
       "    </tr>\n",
       "    <tr>\n",
       "      <th>13</th>\n",
       "      <td>s1608</td>\n",
       "      <td>Hazel Brugger: Tropical</td>\n",
       "      <td>74</td>\n",
       "    </tr>\n",
       "    <tr>\n",
       "      <th>14</th>\n",
       "      <td>s7394</td>\n",
       "      <td>Mandi</td>\n",
       "      <td>72</td>\n",
       "    </tr>\n",
       "    <tr>\n",
       "      <th>15</th>\n",
       "      <td>s6004</td>\n",
       "      <td>24 Hours to Live</td>\n",
       "      <td>72</td>\n",
       "    </tr>\n",
       "    <tr>\n",
       "      <th>16</th>\n",
       "      <td>s868</td>\n",
       "      <td>The Last Days</td>\n",
       "      <td>70</td>\n",
       "    </tr>\n",
       "    <tr>\n",
       "      <th>17</th>\n",
       "      <td>s5638</td>\n",
       "      <td>Clinical</td>\n",
       "      <td>70</td>\n",
       "    </tr>\n",
       "    <tr>\n",
       "      <th>18</th>\n",
       "      <td>s5554</td>\n",
       "      <td>Bridget Christie: Stand Up for Her</td>\n",
       "      <td>70</td>\n",
       "    </tr>\n",
       "    <tr>\n",
       "      <th>19</th>\n",
       "      <td>s3007</td>\n",
       "      <td>Motichoor Chaknachoor</td>\n",
       "      <td>70</td>\n",
       "    </tr>\n",
       "  </tbody>\n",
       "</table>\n",
       "</div>"
      ],
      "text/plain": [
       "   show_id                                              title  \\\n",
       "0    s1086                                  Night in Paradise   \n",
       "1    s2366                                Alexandria ... Why?   \n",
       "2    s6310                                     Biggie & Tupac   \n",
       "3     s503                                      Tango With Me   \n",
       "4    s1672                       The App That Stole Christmas   \n",
       "5    s2687                              Chris D'Elia: No Pain   \n",
       "6    s7995                                  Shakti: The Power   \n",
       "7    s2324                                     The Mirror Boy   \n",
       "8     s465                                Gunpowder Milkshake   \n",
       "9    s2720                    David Batra: Elefanten i rummet   \n",
       "10   s1177                              Any Crybabies Around?   \n",
       "11   s3377  My Next Guest with David Letterman and Shah Ru...   \n",
       "12   s3137                                               Game   \n",
       "13   s1608                            Hazel Brugger: Tropical   \n",
       "14   s7394                                              Mandi   \n",
       "15   s6004                                   24 Hours to Live   \n",
       "16    s868                                      The Last Days   \n",
       "17   s5638                                           Clinical   \n",
       "18   s5554                 Bridget Christie: Stand Up for Her   \n",
       "19   s3007                              Motichoor Chaknachoor   \n",
       "\n",
       "    engagement_score  \n",
       "0                 93  \n",
       "1                 88  \n",
       "2                 86  \n",
       "3                 84  \n",
       "4                 80  \n",
       "5                 79  \n",
       "6                 77  \n",
       "7                 77  \n",
       "8                 76  \n",
       "9                 76  \n",
       "10                76  \n",
       "11                75  \n",
       "12                75  \n",
       "13                74  \n",
       "14                72  \n",
       "15                72  \n",
       "16                70  \n",
       "17                70  \n",
       "18                70  \n",
       "19                70  "
      ]
     },
     "execution_count": 34,
     "metadata": {},
     "output_type": "execute_result"
    }
   ],
   "source": [
    "engagement = \"\"\"\n",
    "    SELECT m.show_id , m.title, COUNT(rls.review_id) as engagement_score\n",
    "    FROM movie AS m\n",
    "    INNER JOIN review AS r ON r.show_id == m.show_id\n",
    "    INNER JOIN comment_rls AS rls ON rls.review_id == r.review_id\n",
    "    GROUP BY m.show_id\n",
    "    ORDER BY 3 DESC\n",
    "    LIMIT 20\n",
    "\"\"\"\n",
    "run_query(engagement)"
   ]
  },
  {
   "cell_type": "markdown",
   "id": "4e1be5b8",
   "metadata": {},
   "source": [
    "# Update"
   ]
  },
  {
   "cell_type": "code",
   "execution_count": 35,
   "id": "d092fa4c",
   "metadata": {},
   "outputs": [],
   "source": [
    "cur.close()"
   ]
  },
  {
   "cell_type": "code",
   "execution_count": null,
   "id": "fcf4af0f",
   "metadata": {},
   "outputs": [],
   "source": []
  }
 ],
 "metadata": {
  "kernelspec": {
   "display_name": "Python 3 (ipykernel)",
   "language": "python",
   "name": "python3"
  },
  "language_info": {
   "codemirror_mode": {
    "name": "ipython",
    "version": 3
   },
   "file_extension": ".py",
   "mimetype": "text/x-python",
   "name": "python",
   "nbconvert_exporter": "python",
   "pygments_lexer": "ipython3",
   "version": "3.9.0"
  }
 },
 "nbformat": 4,
 "nbformat_minor": 5
}
